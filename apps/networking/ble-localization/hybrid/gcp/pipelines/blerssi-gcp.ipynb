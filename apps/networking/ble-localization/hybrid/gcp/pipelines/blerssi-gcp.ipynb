{
 "cells": [
  {
   "cell_type": "markdown",
   "metadata": {},
   "source": [
    "## BLERSSI Pipeline Deployment"
   ]
  },
  {
   "cell_type": "markdown",
   "metadata": {},
   "source": [
    "Model training Using Cisco UCS server and Model deployment in GCP Al platform"
   ]
  },
  {
   "cell_type": "markdown",
   "metadata": {},
   "source": [
    "## Authorizing  gcloud with a service account\n",
    "\n",
    "To authorize gcloud to access Google Cloud Platform using an existing service account while also specifying a project, run:"
   ]
  },
  {
   "cell_type": "code",
   "execution_count": 1,
   "metadata": {},
   "outputs": [
    {
     "name": "stdout",
     "output_type": "stream",
     "text": [
      "Activated service account credentials for: [<<ACCOUNT>>]\r\n"
     ]
    }
   ],
   "source": [
    "!gcloud auth activate-service-account <<ACCOUNT>> --key-file=auth.json --project=<<PROJECT-ID>>"
   ]
  },
  {
   "cell_type": "markdown",
   "metadata": {},
   "source": [
    "## Install libraries"
   ]
  },
  {
   "cell_type": "code",
   "execution_count": 2,
   "metadata": {},
   "outputs": [
    {
     "name": "stdout",
     "output_type": "stream",
     "text": [
      "Collecting kfp\n",
      "  Downloading kfp-0.5.1.tar.gz (119 kB)\n",
      "\u001b[K     |████████████████████████████████| 119 kB 9.7 MB/s eta 0:00:01\n",
      "\u001b[?25hRequirement already satisfied: PyYAML in /usr/local/lib/python3.6/dist-packages (from kfp) (5.3)\n",
      "Requirement already satisfied: google-cloud-storage>=1.13.0 in /usr/local/lib/python3.6/dist-packages (from kfp) (1.25.0)\n",
      "Requirement already satisfied: kubernetes<12.0.0,>=8.0.0 in /usr/local/lib/python3.6/dist-packages (from kfp) (10.0.1)\n",
      "Requirement already satisfied: google-auth>=1.6.1 in /usr/local/lib/python3.6/dist-packages (from kfp) (1.11.0)\n",
      "Collecting requests_toolbelt>=0.8.0\n",
      "  Downloading requests_toolbelt-0.9.1-py2.py3-none-any.whl (54 kB)\n",
      "\u001b[K     |████████████████████████████████| 54 kB 4.6 MB/s  eta 0:00:01\n",
      "\u001b[?25hRequirement already satisfied: cloudpickle in /usr/local/lib/python3.6/dist-packages (from kfp) (1.2.2)\n",
      "Collecting kfp-server-api<0.6.0,>=0.2.5\n",
      "  Downloading kfp-server-api-0.5.0.tar.gz (39 kB)\n",
      "Requirement already satisfied: jsonschema>=3.0.1 in /usr/local/lib/python3.6/dist-packages (from kfp) (3.2.0)\n",
      "Collecting tabulate\n",
      "  Downloading tabulate-0.8.7-py3-none-any.whl (24 kB)\n",
      "Collecting click\n",
      "  Downloading click-7.1.2-py2.py3-none-any.whl (82 kB)\n",
      "\u001b[K     |████████████████████████████████| 82 kB 3.8 MB/s  eta 0:00:01\n",
      "\u001b[?25hCollecting Deprecated\n",
      "  Downloading Deprecated-1.2.10-py2.py3-none-any.whl (8.7 kB)\n",
      "Collecting strip-hints\n",
      "  Downloading strip-hints-0.1.9.tar.gz (30 kB)\n",
      "Requirement already satisfied: google-cloud-core<2.0dev,>=1.2.0 in /usr/local/lib/python3.6/dist-packages (from google-cloud-storage>=1.13.0->kfp) (1.3.0)\n",
      "Requirement already satisfied: google-resumable-media<0.6dev,>=0.5.0 in /usr/local/lib/python3.6/dist-packages (from google-cloud-storage>=1.13.0->kfp) (0.5.0)\n",
      "Requirement already satisfied: requests-oauthlib in /usr/local/lib/python3.6/dist-packages (from kubernetes<12.0.0,>=8.0.0->kfp) (1.3.0)\n",
      "Requirement already satisfied: setuptools>=21.0.0 in /usr/local/lib/python3.6/dist-packages (from kubernetes<12.0.0,>=8.0.0->kfp) (45.1.0)\n",
      "Requirement already satisfied: certifi>=14.05.14 in /usr/local/lib/python3.6/dist-packages (from kubernetes<12.0.0,>=8.0.0->kfp) (2019.11.28)\n",
      "Requirement already satisfied: six>=1.9.0 in /usr/lib/python3/dist-packages (from kubernetes<12.0.0,>=8.0.0->kfp) (1.11.0)\n",
      "Requirement already satisfied: requests in /usr/local/lib/python3.6/dist-packages (from kubernetes<12.0.0,>=8.0.0->kfp) (2.22.0)\n",
      "Requirement already satisfied: websocket-client!=0.40.0,!=0.41.*,!=0.42.*,>=0.32.0 in /usr/local/lib/python3.6/dist-packages (from kubernetes<12.0.0,>=8.0.0->kfp) (0.57.0)\n",
      "Requirement already satisfied: urllib3>=1.24.2 in /usr/local/lib/python3.6/dist-packages (from kubernetes<12.0.0,>=8.0.0->kfp) (1.25.8)\n",
      "Requirement already satisfied: python-dateutil>=2.5.3 in /usr/local/lib/python3.6/dist-packages (from kubernetes<12.0.0,>=8.0.0->kfp) (2.8.1)\n",
      "Requirement already satisfied: pyasn1-modules>=0.2.1 in /usr/local/lib/python3.6/dist-packages (from google-auth>=1.6.1->kfp) (0.2.8)\n",
      "Requirement already satisfied: rsa<4.1,>=3.1.4 in /usr/local/lib/python3.6/dist-packages (from google-auth>=1.6.1->kfp) (4.0)\n",
      "Requirement already satisfied: cachetools<5.0,>=2.0.0 in /usr/local/lib/python3.6/dist-packages (from google-auth>=1.6.1->kfp) (4.0.0)\n",
      "Requirement already satisfied: pyrsistent>=0.14.0 in /usr/local/lib/python3.6/dist-packages (from jsonschema>=3.0.1->kfp) (0.15.7)\n",
      "Requirement already satisfied: importlib-metadata; python_version < \"3.8\" in /usr/local/lib/python3.6/dist-packages (from jsonschema>=3.0.1->kfp) (1.4.0)\n",
      "Requirement already satisfied: attrs>=17.4.0 in /usr/local/lib/python3.6/dist-packages (from jsonschema>=3.0.1->kfp) (19.3.0)\n",
      "Requirement already satisfied: wrapt<2,>=1.10 in /usr/local/lib/python3.6/dist-packages (from Deprecated->kfp) (1.11.2)\n",
      "Requirement already satisfied: wheel in /usr/lib/python3/dist-packages (from strip-hints->kfp) (0.30.0)\n",
      "Requirement already satisfied: google-api-core<2.0.0dev,>=1.16.0 in /usr/local/lib/python3.6/dist-packages (from google-cloud-core<2.0dev,>=1.2.0->google-cloud-storage>=1.13.0->kfp) (1.16.0)\n",
      "Requirement already satisfied: oauthlib>=3.0.0 in /usr/local/lib/python3.6/dist-packages (from requests-oauthlib->kubernetes<12.0.0,>=8.0.0->kfp) (3.1.0)\n",
      "Requirement already satisfied: idna<2.9,>=2.5 in /usr/lib/python3/dist-packages (from requests->kubernetes<12.0.0,>=8.0.0->kfp) (2.6)\n",
      "Requirement already satisfied: chardet<3.1.0,>=3.0.2 in /usr/local/lib/python3.6/dist-packages (from requests->kubernetes<12.0.0,>=8.0.0->kfp) (3.0.4)\n",
      "Requirement already satisfied: pyasn1<0.5.0,>=0.4.6 in /usr/local/lib/python3.6/dist-packages (from pyasn1-modules>=0.2.1->google-auth>=1.6.1->kfp) (0.4.8)\n",
      "Requirement already satisfied: zipp>=0.5 in /usr/local/lib/python3.6/dist-packages (from importlib-metadata; python_version < \"3.8\"->jsonschema>=3.0.1->kfp) (2.1.0)\n",
      "Requirement already satisfied: pytz in /usr/local/lib/python3.6/dist-packages (from google-api-core<2.0.0dev,>=1.16.0->google-cloud-core<2.0dev,>=1.2.0->google-cloud-storage>=1.13.0->kfp) (2019.3)\n",
      "Requirement already satisfied: protobuf>=3.4.0 in /usr/local/lib/python3.6/dist-packages (from google-api-core<2.0.0dev,>=1.16.0->google-cloud-core<2.0dev,>=1.2.0->google-cloud-storage>=1.13.0->kfp) (3.11.2)\n",
      "Requirement already satisfied: googleapis-common-protos<2.0dev,>=1.6.0 in /usr/local/lib/python3.6/dist-packages (from google-api-core<2.0.0dev,>=1.16.0->google-cloud-core<2.0dev,>=1.2.0->google-cloud-storage>=1.13.0->kfp) (1.51.0)\n",
      "Building wheels for collected packages: kfp, kfp-server-api, strip-hints\n",
      "  Building wheel for kfp (setup.py) ... \u001b[?25ldone\n",
      "\u001b[?25h  Created wheel for kfp: filename=kfp-0.5.1-py3-none-any.whl size=163151 sha256=f47c2b6e842d2aa86ec280008f3933a6309a7432bb2be94dcd32c044964c66b1\n",
      "  Stored in directory: /home/jovyan/.cache/pip/wheels/2f/26/f9/e3836cb6e6cabd63ef912304e18a852ac29cb870a4a0b85f98\n",
      "  Building wheel for kfp-server-api (setup.py) ... \u001b[?25ldone\n",
      "\u001b[?25h  Created wheel for kfp-server-api: filename=kfp_server_api-0.5.0-py3-none-any.whl size=106319 sha256=9873f264a8cbbb780d43d2d979126a6ca2d062e6920b3ff14b4ff88966a5acd8\n",
      "  Stored in directory: /home/jovyan/.cache/pip/wheels/73/36/4e/bfe2efeeea4f74f04984ebe1d44136202b72191302f4760951\n",
      "  Building wheel for strip-hints (setup.py) ... \u001b[?25ldone\n",
      "\u001b[?25h  Created wheel for strip-hints: filename=strip_hints-0.1.9-py2.py3-none-any.whl size=24671 sha256=138d66f1812ab49f53e18513549c5e12ffb36e35970243b8401afe381fb8ea62\n",
      "  Stored in directory: /home/jovyan/.cache/pip/wheels/21/6d/fa/7ed7c0560e1ef39ebabd5cc0241e7fca711660bae1ad752e2b\n",
      "Successfully built kfp kfp-server-api strip-hints\n",
      "Installing collected packages: requests-toolbelt, kfp-server-api, tabulate, click, Deprecated, strip-hints, kfp\n",
      "\u001b[33m  WARNING: The script tabulate is installed in '/home/jovyan/.local/bin' which is not on PATH.\n",
      "  Consider adding this directory to PATH or, if you prefer to suppress this warning, use --no-warn-script-location.\u001b[0m\n",
      "\u001b[33m  WARNING: The script strip-hints is installed in '/home/jovyan/.local/bin' which is not on PATH.\n",
      "  Consider adding this directory to PATH or, if you prefer to suppress this warning, use --no-warn-script-location.\u001b[0m\n",
      "\u001b[33m  WARNING: The scripts dsl-compile and kfp are installed in '/home/jovyan/.local/bin' which is not on PATH.\n",
      "  Consider adding this directory to PATH or, if you prefer to suppress this warning, use --no-warn-script-location.\u001b[0m\n",
      "Successfully installed Deprecated-1.2.10 click-7.1.2 kfp-0.5.1 kfp-server-api-0.5.0 requests-toolbelt-0.9.1 strip-hints-0.1.9 tabulate-0.8.7\n",
      "\u001b[33mWARNING: You are using pip version 20.0.2; however, version 20.1.1 is available.\n",
      "You should consider upgrading via the '/usr/bin/python3 -m pip install --upgrade pip' command.\u001b[0m\n"
     ]
    }
   ],
   "source": [
    "!pip install kfp --user"
   ]
  },
  {
   "cell_type": "markdown",
   "metadata": {},
   "source": [
    "## Restart Notebook Kernel"
   ]
  },
  {
   "cell_type": "code",
   "execution_count": null,
   "metadata": {},
   "outputs": [
    {
     "data": {
      "text/html": [
       "<script>Jupyter.notebook.kernel.restart()</script>"
      ]
     },
     "metadata": {},
     "output_type": "display_data"
    }
   ],
   "source": [
    "from IPython.display import display_html\n",
    "display_html(\"<script>Jupyter.notebook.kernel.restart()</script>\",raw=True)"
   ]
  },
  {
   "cell_type": "markdown",
   "metadata": {},
   "source": [
    "## Import libraries"
   ]
  },
  {
   "cell_type": "code",
   "execution_count": 1,
   "metadata": {},
   "outputs": [
    {
     "name": "stdout",
     "output_type": "stream",
     "text": [
      "env: GOOGLE_APPLICATION_CREDENTIALS=auth.json\n"
     ]
    }
   ],
   "source": [
    "import time\n",
    "import os\n",
    "from datetime import datetime\n",
    "import logging\n",
    "import kfp\n",
    "import kfp.gcp as gcp\n",
    "import kfp.dsl as dsl\n",
    "from kfp import components\n",
    "from kubernetes import client as k8s_client\n",
    "import googleapiclient.discovery\n",
    "\n",
    "\n",
    "logging.basicConfig()\n",
    "logging.getLogger().setLevel(logging.INFO)\n",
    "\n",
    "%env GOOGLE_APPLICATION_CREDENTIALS=auth.json"
   ]
  },
  {
   "cell_type": "markdown",
   "metadata": {},
   "source": [
    "## Set Pipeline parameters"
   ]
  },
  {
   "cell_type": "code",
   "execution_count": 2,
   "metadata": {},
   "outputs": [
    {
     "name": "stderr",
     "output_type": "stream",
     "text": [
      "INFO:root:timestamp for pipeline artifacts: 21_05_20_06_45_55\n"
     ]
    }
   ],
   "source": [
    "# execution_mode (string): where the notebook is being run\n",
    "# Sample: 'local', 'in-cluster'\n",
    "execution_mode = 'in-cluster'\n",
    "\n",
    "# host (string): KF Pipelines service endpoint\n",
    "# Sample:  \"http://10.10.10.10:31380/pipeline\"\n",
    "host = \"\"\n",
    "\n",
    "# bucket_name (string): GCP bucket to be used by the pipeline\n",
    "# Sample: \"blerssi-model-store\"\n",
    "bucket_name = \"\"\n",
    "\n",
    "# gcp_secret_name (string): GCP secret where IAM creds are stored\n",
    "# Sample: 'user-gcp-sa'\n",
    "gcp_secret_name = 'user-gcp-sa'\n",
    "\n",
    "gcp_region = \"us-central1\"\n",
    "\n",
    "timestamp = datetime.now().strftime(\"%d_%m_%y_%H_%M_%S\")\n",
    "logging.info(\"timestamp for pipeline artifacts: %s\", timestamp)\n",
    "\n",
    "# model name to create a re-usable AL Platform Model resource\n",
    "model_name = 'blerssi_tf_model_'+timestamp\n",
    "\n",
    "version_name = \"blerssi_model_\"+timestamp\n",
    "\n",
    "# model artifact URL\n",
    "# Path to the model\n",
    "model_version = !(date +%s)\n",
    "model_path = 'gs://'+bucket_name+'/blerssi/%s/'%model_version[0]\n",
    "\n",
    "# GCP instance type\n",
    "instance_type = 'mls1-c1-m2'\n",
    "\n",
    "#GCP Project Id\n",
    "project_id=\"\""
   ]
  },
  {
   "cell_type": "code",
   "execution_count": 3,
   "metadata": {},
   "outputs": [],
   "source": [
    "if not host:\n",
    "    print(\"host parameter is empty, set this parameter\")\n",
    "if not bucket_name:\n",
    "    print(\"bucket_name parameter is empty, set this parameter\")\n",
    "if not gcp_region:\n",
    "    print(\"gcp_region parameter is empty, set this parameter\")\n",
    "if not project_id:\n",
    "    print(\"project_id parameter is empty, set this parameter\")"
   ]
  },
  {
   "cell_type": "markdown",
   "metadata": {},
   "source": [
    "## Set deploy component yaml path variables"
   ]
  },
  {
   "cell_type": "code",
   "execution_count": 4,
   "metadata": {},
   "outputs": [],
   "source": [
    "deploy=\"https://raw.githubusercontent.com/kubeflow/pipelines/01a23ae8672d3b18e88adf3036071496aca3552d/components/gcp/ml_engine/deploy/component.yaml\"\n",
    "if execution_mode == \"local\" and host == None:\n",
    "    raise ValueError(\"Please set host to the appropriate URL\")\n",
    "elif execution_mode != \"local\":\n",
    "    execution_mode = \"in-cluster\""
   ]
  },
  {
   "cell_type": "markdown",
   "metadata": {},
   "source": [
    "## Define pipeline functions"
   ]
  },
  {
   "cell_type": "code",
   "execution_count": 5,
   "metadata": {},
   "outputs": [],
   "source": [
    "mlengine_deploy_op = components.load_component_from_url(deploy)\n",
    "\n",
    "def blerssi_train_upload_op(step_name='blerssi-train'):\n",
    "    return dsl.ContainerOp(\n",
    "        name='blerssi-train-upload-gcp',\n",
    "        image='docker.io/samba07/blerssi-gcp-mlengine:0.2',\n",
    "        command=['python', '/opt/blerssi-model.py'],\n",
    "        arguments=['--bucket-name', bucket_name,\n",
    "                   '--model-version', model_version[0]]\n",
    "    ).apply(gcp.use_gcp_secret(gcp_secret_name))"
   ]
  },
  {
   "cell_type": "code",
   "execution_count": 6,
   "metadata": {},
   "outputs": [],
   "source": [
    "import kfp.dsl as dsl\n",
    "import json\n",
    "@dsl.pipeline(\n",
    "    name='CloudML deploy pipeline',\n",
    "    description='CloudML deploy pipeline'\n",
    ")\n",
    "def pipeline(\n",
    "      model_uri = '',\n",
    "      project_id = '',\n",
    "      model_id = '',\n",
    "      version_id = '',\n",
    "      runtime_version = '1.10',\n",
    "      python_version = '',\n",
    "      version = '',\n",
    "      replace_existing_version = 'False',\n",
    "      set_default = 'True',\n",
    "      wait_interval = '30'):\n",
    "    \n",
    "    train_upload_model = blerssi_train_upload_op()\n",
    "    \n",
    "    task = mlengine_deploy_op(\n",
    "        model_uri=model_uri, \n",
    "        project_id=project_id, \n",
    "        model_id=model_id, \n",
    "        version_id=version_id, \n",
    "        runtime_version=runtime_version, \n",
    "        python_version=python_version,\n",
    "        version=version, \n",
    "        replace_existing_version=replace_existing_version, \n",
    "        set_default=set_default, \n",
    "        wait_interval=wait_interval).apply(gcp.use_gcp_secret(gcp_secret_name))\n",
    "    task.after(train_upload_model)"
   ]
  },
  {
   "cell_type": "code",
   "execution_count": 7,
   "metadata": {},
   "outputs": [],
   "source": [
    "try:\n",
    "    import kfp.compiler as compiler\n",
    "    compiler.Compiler().compile(pipeline, 'blerssi_pipeline.tar.gz')\n",
    "except RuntimeError as err:\n",
    "    logging.debug(err)\n",
    "    logging.info(\"Argo workflow failed validation check but it can still be used to run experiments.\")"
   ]
  },
  {
   "cell_type": "markdown",
   "metadata": {},
   "source": [
    "## Create kubeflow pipeline experiment"
   ]
  },
  {
   "cell_type": "code",
   "execution_count": 8,
   "metadata": {},
   "outputs": [
    {
     "data": {
      "text/html": [
       "Experiment link <a href=\"/pipeline/#/experiments/details/c113df24-b3e7-4762-9ba7-778d2aa67a97\" target=\"_blank\" >here</a>"
      ],
      "text/plain": [
       "<IPython.core.display.HTML object>"
      ]
     },
     "metadata": {},
     "output_type": "display_data"
    }
   ],
   "source": [
    "client = None\n",
    "if execution_mode == \"local\":\n",
    "    client = kfp.Client(host=host)\n",
    "else:\n",
    "    client = kfp.Client()\n",
    "blerssi_hybrid_experiment = client.create_experiment(name='BLERSSI-GCP')"
   ]
  },
  {
   "cell_type": "markdown",
   "metadata": {},
   "source": [
    "## Create kubeflow pipeline run"
   ]
  },
  {
   "cell_type": "code",
   "execution_count": 9,
   "metadata": {},
   "outputs": [
    {
     "data": {
      "text/html": [
       "Run link <a href=\"/pipeline/#/runs/details/23e178e4-db3d-4976-b00e-97f257f9f45e\" target=\"_blank\" >here</a>"
      ],
      "text/plain": [
       "<IPython.core.display.HTML object>"
      ]
     },
     "metadata": {},
     "output_type": "display_data"
    }
   ],
   "source": [
    "run = client.run_pipeline(blerssi_hybrid_experiment.id, 'blerssi-gcp-mlengine-pipeline-'+timestamp, pipeline_package_path='blerssi_pipeline.tar.gz',\n",
    "                         params={'model_uri': model_path,\n",
    "                                 'project_id': project_id,\n",
    "                                 'model_id': model_name,\n",
    "                                 'version_id': version_name})"
   ]
  },
  {
   "cell_type": "markdown",
   "metadata": {},
   "source": [
    "## Model validation with Al platform Endpoint"
   ]
  },
  {
   "cell_type": "code",
   "execution_count": 10,
   "metadata": {
    "scrolled": false
   },
   "outputs": [
    {
     "name": "stderr",
     "output_type": "stream",
     "text": [
      "WARNING:googleapiclient.discovery_cache:file_cache is unavailable when using oauth2client >= 4.0.0 or google-auth\n",
      "Traceback (most recent call last):\n",
      "  File \"/usr/local/lib/python3.6/dist-packages/googleapiclient/discovery_cache/__init__.py\", line 36, in autodetect\n",
      "    from google.appengine.api import memcache\n",
      "ModuleNotFoundError: No module named 'google.appengine'\n",
      "\n",
      "During handling of the above exception, another exception occurred:\n",
      "\n",
      "Traceback (most recent call last):\n",
      "  File \"/usr/local/lib/python3.6/dist-packages/googleapiclient/discovery_cache/file_cache.py\", line 33, in <module>\n",
      "    from oauth2client.contrib.locked_file import LockedFile\n",
      "ModuleNotFoundError: No module named 'oauth2client.contrib.locked_file'\n",
      "\n",
      "During handling of the above exception, another exception occurred:\n",
      "\n",
      "Traceback (most recent call last):\n",
      "  File \"/usr/local/lib/python3.6/dist-packages/googleapiclient/discovery_cache/file_cache.py\", line 37, in <module>\n",
      "    from oauth2client.locked_file import LockedFile\n",
      "ModuleNotFoundError: No module named 'oauth2client.locked_file'\n",
      "\n",
      "During handling of the above exception, another exception occurred:\n",
      "\n",
      "Traceback (most recent call last):\n",
      "  File \"/usr/local/lib/python3.6/dist-packages/googleapiclient/discovery_cache/__init__.py\", line 41, in autodetect\n",
      "    from . import file_cache\n",
      "  File \"/usr/local/lib/python3.6/dist-packages/googleapiclient/discovery_cache/file_cache.py\", line 41, in <module>\n",
      "    'file_cache is unavailable when using oauth2client >= 4.0.0 or google-auth')\n",
      "ImportError: file_cache is unavailable when using oauth2client >= 4.0.0 or google-auth\n",
      "INFO:googleapiclient.discovery:URL being requested: GET https://www.googleapis.com/discovery/v1/apis/ml/v1/rest\n"
     ]
    }
   ],
   "source": [
    "service = googleapiclient.discovery.build('ml', 'v1')\n",
    "name = 'projects/{}/models/{}/versions/{}'.format(project_id, model_name, version_name)"
   ]
  },
  {
   "cell_type": "markdown",
   "metadata": {},
   "source": [
    "## Send prediction API request"
   ]
  },
  {
   "cell_type": "code",
   "execution_count": 11,
   "metadata": {},
   "outputs": [
    {
     "name": "stderr",
     "output_type": "stream",
     "text": [
      "INFO:googleapiclient.discovery:URL being requested: POST https://ml.googleapis.com/v1/projects/cpsg-ai-kubeflow/models/blerssi_tf_model_21_05_20_06_14_05/versions/blerssi_model_21_05_20_06_14_05:predict?alt=json\n"
     ]
    },
    {
     "name": "stdout",
     "output_type": "stream",
     "text": [
      "[{'all_class_ids': [0, 1, 2, 3, 4, 5, 6, 7, 8, 9, 10, 11, 12, 13, 14, 15, 16, 17, 18, 19, 20, 21, 22, 23, 24, 25, 26, 27, 28, 29, 30, 31, 32, 33, 34, 35, 36, 37, 38, 39, 40, 41, 42, 43, 44, 45, 46, 47, 48, 49, 50, 51, 52, 53, 54, 55, 56, 57, 58, 59, 60, 61, 62, 63, 64, 65, 66, 67, 68, 69, 70, 71, 72, 73, 74, 75, 76, 77, 78, 79, 80, 81, 82, 83, 84, 85, 86, 87, 88, 89, 90, 91, 92, 93, 94, 95, 96, 97, 98, 99, 100, 101, 102, 103, 104], 'all_classes': ['0', '1', '2', '3', '4', '5', '6', '7', '8', '9', '10', '11', '12', '13', '14', '15', '16', '17', '18', '19', '20', '21', '22', '23', '24', '25', '26', '27', '28', '29', '30', '31', '32', '33', '34', '35', '36', '37', '38', '39', '40', '41', '42', '43', '44', '45', '46', '47', '48', '49', '50', '51', '52', '53', '54', '55', '56', '57', '58', '59', '60', '61', '62', '63', '64', '65', '66', '67', '68', '69', '70', '71', '72', '73', '74', '75', '76', '77', '78', '79', '80', '81', '82', '83', '84', '85', '86', '87', '88', '89', '90', '91', '92', '93', '94', '95', '96', '97', '98', '99', '100', '101', '102', '103', '104'], 'probabilities': [0.1595868319272995, 0.00018415662634652108, 1.3202784421295632e-09, 1.9061858482719712e-13, 7.108920114899664e-13, 2.4766801023229368e-12, 2.37380753075056e-13, 5.6431069669557465e-14, 1.7865475266699848e-13, 1.034133195743081e-11, 5.031472200683895e-12, 1.4580100469174795e-05, 0.01060387585312128, 1.5940199205033423e-07, 0.0026117893867194653, 2.275728263612109e-07, 7.754853703634268e-11, 1.2975674679692462e-13, 4.338194300318454e-12, 1.8090692518232115e-13, 3.127720403229813e-15, 5.98404789262097e-14, 4.62312117858614e-16, 5.085392255051482e-17, 2.6888188396600234e-21, 2.9557712749811796e-14, 2.746997740388224e-09, 2.550289650571358e-07, 1.8665602917466995e-12, 3.221434212719032e-07, 1.9380277649361233e-07, 0.000100941069831606, 9.924565347319003e-08, 1.5735255320947772e-09, 4.563622496789321e-06, 3.2964305063387656e-08, 7.52761676776903e-13, 8.265264477813616e-05, 0.056272123008966446, 0.008790050633251667, 0.00048203894402831793, 5.5480295912957445e-09, 1.6380008460714635e-08, 1.592789095061775e-11, 1.5415998555826094e-12, 5.588535450548702e-17, 1.409167209732564e-14, 5.539849161410827e-15, 2.34588336169711e-13, 1.1699558211527543e-17, 4.971270328724131e-08, 3.7620881698785524e-07, 1.1451732007117243e-06, 0.001200760481879115, 0.07802513986825943, 0.5368707180023193, 0.03521997109055519, 1.1714361107806326e-06, 1.1730402427190256e-08, 1.280768432932941e-13, 3.4568193996165064e-07, 0.06380287557840347, 2.3827521999919554e-06, 1.1907462827124735e-21, 8.385291655355372e-24, 1.497275656315295e-17, 1.4621130158039438e-15, 8.048593988093465e-25, 1.2680984489815906e-22, 1.9189874203692016e-16, 2.4368393951590406e-06, 4.6640234785400025e-08, 5.945400357394289e-18, 0.00018631959392223507, 0.0007808521040715277, 7.746083952042682e-08, 1.1345360465849072e-16, 4.342812826507725e-05, 6.605038720408629e-07, 1.562652300890477e-07, 1.252672889791322e-17, 1.7527073623568867e-06, 3.966739825500554e-08, 6.442775202231132e-10, 0.00026723381597548723, 0.0007851981790736318, 0.00042879648390226066, 7.471819429838433e-08, 1.4646999975734265e-12, 7.077811443159996e-18, 2.412916922338434e-15, 0.028415901586413383, 0.015227235853672028, 4.1059245510260535e-20, 3.19583861596584e-08, 5.0026190173051275e-24, 1.902744744696794e-18, 1.4994640039848348e-18, 4.6095218660946254e-18, 2.3974917606750523e-09, 1.6333746855057285e-11, 8.237744500038027e-22, 4.7589021482177807e-14, 9.714762750078236e-16, 1.3031485612824412e-12], 'classes': ['55'], 'logits': [-50.85513687133789, -57.619693756103516, -69.46539306640625, -78.3084716796875, -76.99222564697266, -75.74407196044922, -78.08908081054688, -79.52572631835938, -78.373291015625, -74.3148422241211, -75.0352783203125, -60.15582275390625, -53.566505432128906, -64.67180633544922, -54.967689514160156, -64.31576538085938, -72.30008697509766, -78.69308471679688, -75.18353271484375, -78.36076354980469, -82.41844177246094, -79.4670639038086, -84.33026123046875, -86.53754425048828, -96.3851547241211, -80.17240142822266, -68.73272705078125, -64.20185852050781, -76.02689361572266, -63.968238830566406, -64.47639465332031, -58.220943450927734, -65.14563751220703, -69.2899169921875, -61.31736373901367, -66.24781036376953, -76.93499755859375, -58.420833587646484, -51.897525787353516, -53.75410461425781, -56.65745544433594, -68.02979278564453, -66.94717407226562, -73.88291931152344, -76.21817016601562, -86.44319915771484, -80.91316223144531, -81.8467788696289, -78.10091400146484, -88.00695037841797, -65.83697509765625, -63.81309127807617, -62.69992446899414, -55.74477005004883, -51.57069396972656, -49.6419677734375, -52.366111755371094, -62.677249908447266, -67.28105163574219, -78.70611572265625, -63.8977165222168, -51.77192687988281, -61.96722412109375, -97.19967651367188, -102.15553283691406, -87.76026916503906, -83.17886352539062, -104.49909973144531, -99.43932342529297, -85.20953369140625, -61.94477844238281, -65.90077209472656, -88.68388366699219, -57.60801696777344, -56.17509460449219, -65.39346313476562, -85.735107421875, -59.06437301635742, -63.2502326965332, -64.69168090820312, -87.93863677978516, -62.27431869506836, -66.06270599365234, -70.182861328125, -57.24735641479492, -56.1695442199707, -56.774497985839844, -65.42951202392578, -76.26934051513672, -88.50953674316406, -82.67790985107422, -52.58077621459961, -53.20463943481445, -93.65924072265625, -66.27880096435547, -102.67205047607422, -89.82320404052734, -90.06139373779297, -88.9383773803711, -68.86881256103516, -73.85775756835938, -97.568115234375, -79.6961441040039, -83.58768463134766, -76.3862075805664], 'class_ids': [55]}]\n"
     ]
    }
   ],
   "source": [
    "instances=[{\"b3001\":[1.0] , \"b3002\":[1.0] , \"b3003\":[0.4], \"b3004\":[1.0] , \"b3005\":[0.385] , \"b3006\":[0.280] , \"b3007\":[0.405] , \"b3008\":[1.0] , \"b3009\":[1.0] , \"b3010\":[1.0] , \"b3011\":[1.0] , \"b3012\":[1.0] , \"b3013\":[1.0]}]\n",
    "response = service.projects().predict(\n",
    "    name=name,\n",
    "    body={'instances': instances}\n",
    ").execute()\n",
    "\n",
    "if 'error' in response:\n",
    "    raise RuntimeError(response['error'])\n",
    "else:\n",
    "  print(response['predictions'])"
   ]
  },
  {
   "cell_type": "markdown",
   "metadata": {},
   "source": [
    "## Cleaning up\n",
    "To clean up all GCP resources used in this Notebook"
   ]
  },
  {
   "cell_type": "code",
   "execution_count": 12,
   "metadata": {},
   "outputs": [
    {
     "name": "stdout",
     "output_type": "stream",
     "text": [
      "Deleting version [blerssi_model_21_05_20_06_14_05]......done.                  \n",
      "Deleting model [blerssi_tf_model_21_05_20_06_14_05]...done.                    \n",
      "Removing gs://ai-platform-artifact/blerssi/1590038786/saved_model.pb#1590038597864770...\n",
      "Removing gs://ai-platform-artifact/blerssi/1590038786/variables/variables.data-00000-of-00002#1590038597562244...\n",
      "Removing gs://ai-platform-artifact/blerssi/1590041645/variables/variables.data-00000-of-00002#1590041448802719...\n",
      "Removing gs://ai-platform-artifact/blerssi/1590038786/variables/variables.data-00001-of-00002#1590038597087457...\n",
      "Removing gs://ai-platform-artifact/blerssi/1590038786/variables/variables.index#1590038597360202...\n",
      "Removing gs://ai-platform-artifact/blerssi/1590041645/variables/variables.data-00001-of-00002#1590041448428046...\n",
      "Removing gs://ai-platform-artifact/blerssi/1590041645/saved_model.pb#1590041449032932...\n",
      "Removing gs://ai-platform-artifact/blerssi/1590041645/variables/variables.index#1590041448627018...\n",
      "/ [8/8 objects] 100% Done                                                       \n",
      "Operation completed over 8 objects.                                              \n",
      "Removing gs://ai-platform-artifact/...\n"
     ]
    }
   ],
   "source": [
    "# Delete version resource\n",
    "! gcloud ai-platform versions delete $version_name --quiet --model $model_name \n",
    "\n",
    "# Delete model resource\n",
    "! gcloud ai-platform models delete $model_name --quiet\n",
    "\n",
    "# Delete Cloud Storage objects that were created\n",
    "! gsutil -m rm -r gs://$bucket_name/"
   ]
  },
  {
   "cell_type": "code",
   "execution_count": null,
   "metadata": {},
   "outputs": [],
   "source": []
  }
 ],
 "metadata": {
  "kernelspec": {
   "display_name": "Python 3",
   "language": "python",
   "name": "python3"
  },
  "language_info": {
   "codemirror_mode": {
    "name": "ipython",
    "version": 3
   },
   "file_extension": ".py",
   "mimetype": "text/x-python",
   "name": "python",
   "nbconvert_exporter": "python",
   "pygments_lexer": "ipython3",
   "version": "3.6.9"
  }
 },
 "nbformat": 4,
 "nbformat_minor": 4
}
