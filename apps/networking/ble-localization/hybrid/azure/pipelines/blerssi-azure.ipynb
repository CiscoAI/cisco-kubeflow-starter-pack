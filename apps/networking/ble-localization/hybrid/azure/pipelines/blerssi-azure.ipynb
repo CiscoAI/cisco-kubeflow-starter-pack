{
 "cells": [
  {
   "cell_type": "markdown",
   "metadata": {},
   "source": [
    "## BLERSSI Training & Deployment in Hybrid environment ( Cisco UCS & Azure)\n",
    "\n",
    "BLERSSI model training on Cisco UCS server & model deployment on Azure Cloud."
   ]
  },
  {
   "cell_type": "markdown",
   "metadata": {},
   "source": [
    "### Clone Cisco Kubeflow Starter Pack repository"
   ]
  },
  {
   "cell_type": "code",
   "execution_count": null,
   "metadata": {},
   "outputs": [],
   "source": [
    "BRANCH_NAME=\"hybrid\" #Provide git branch as \"master\"/\"dev\"/\"hybrid\"\n",
    "! git clone -b $BRANCH_NAME https://github.com/CiscoAI/cisco-kubeflow-starter-pack.git  "
   ]
  },
  {
   "cell_type": "markdown",
   "metadata": {},
   "source": [
    "## Install required libraries"
   ]
  },
  {
   "cell_type": "code",
   "execution_count": null,
   "metadata": {},
   "outputs": [],
   "source": [
    "!pip install kfp azureml-core --user"
   ]
  },
  {
   "cell_type": "markdown",
   "metadata": {},
   "source": [
    "## Restart notebook kernel"
   ]
  },
  {
   "cell_type": "code",
   "execution_count": null,
   "metadata": {},
   "outputs": [],
   "source": [
    "from IPython.display import display_html\n",
    "display_html(\"<script>Jupyter.notebook.kernel.restart()</script>\",raw=True)"
   ]
  },
  {
   "cell_type": "markdown",
   "metadata": {},
   "source": [
    "## Import required libraries"
   ]
  },
  {
   "cell_type": "code",
   "execution_count": null,
   "metadata": {},
   "outputs": [],
   "source": [
    "import kfp\n",
    "import os\n",
    "import calendar\n",
    "import time\n",
    "from kubernetes import client\n",
    "import json\n",
    "import numpy as np\n",
    "import base64\n",
    "from azureml.core.webservice import AciWebservice\n",
    "from azureml.core.webservice import Webservice\n",
    "from azureml.core.model import Model\n",
    "from azureml.core.authentication import ServicePrincipalAuthentication\n",
    "from azureml.core import Workspace"
   ]
  },
  {
   "cell_type": "markdown",
   "metadata": {},
   "source": [
    "## Component file declarations"
   ]
  },
  {
   "cell_type": "code",
   "execution_count": null,
   "metadata": {},
   "outputs": [],
   "source": [
    "path='cisco-kubeflow-starter-pack/apps/networking/ble-localization/hybrid/azure/pipelines/'\n",
    "component_root_train = path + 'components/train_model/'\n",
    "component_root_register = path + 'components/register_model/'\n",
    "component_root_deploy = path + 'components/deploy_model/'"
   ]
  },
  {
   "cell_type": "markdown",
   "metadata": {},
   "source": [
    "## Load components from respective .yaml files"
   ]
  },
  {
   "cell_type": "code",
   "execution_count": null,
   "metadata": {},
   "outputs": [],
   "source": [
    "azure_train_op = kfp.components.load_component_from_file(os.path.join(component_root_train, 'component.yaml'))\n",
    "azure_register_op = kfp.components.load_component_from_file(os.path.join(component_root_register, 'component.yaml'))\n",
    "azure_deploy_op = kfp.components.load_component_from_file(os.path.join(component_root_deploy, 'component.yaml'))"
   ]
  },
  {
   "cell_type": "markdown",
   "metadata": {},
   "source": [
    "## Define volume & volume mounts"
   ]
  },
  {
   "cell_type": "code",
   "execution_count": null,
   "metadata": {},
   "outputs": [],
   "source": [
    "nfs_pvc = client.V1PersistentVolumeClaimVolumeSource(claim_name='nfs')\n",
    "nfs_volume = client.V1Volume(name='nfs', persistent_volume_claim=nfs_pvc)\n",
    "nfs_volume_mount = client.V1VolumeMount(mount_path='/mnt/', name='nfs')"
   ]
  },
  {
   "cell_type": "markdown",
   "metadata": {},
   "source": [
    "## Declare environment variables for Azure Credentials"
   ]
  },
  {
   "cell_type": "code",
   "execution_count": null,
   "metadata": {},
   "outputs": [],
   "source": [
    "workspace_name = os.getenv('WORKSPACE_NAME')\n",
    "subscription_id = os.getenv('SUBSCRIPTION_ID')\n",
    "resource_group = os.getenv('RESOURCE_GROUP')\n",
    "tenant_id = os.getenv('TENANT_ID')\n",
    "service_principal_id = os.getenv('SERVICE_PRINCIPAL_ID')\n",
    "service_principal_password = os.getenv('SERVICE_PRINCIPAL_PASSWORD')"
   ]
  },
  {
   "cell_type": "markdown",
   "metadata": {},
   "source": [
    "## Create timestamp"
   ]
  },
  {
   "cell_type": "code",
   "execution_count": null,
   "metadata": {},
   "outputs": [],
   "source": [
    "timestamp = str(calendar.timegm(time.gmtime()))\n",
    "print(timestamp)\n",
    "model = \"testmodel\"+timestamp\n",
    "service = \"testservice\"+timestamp"
   ]
  },
  {
   "cell_type": "markdown",
   "metadata": {},
   "source": [
    "## Define pipeline function"
   ]
  },
  {
   "cell_type": "code",
   "execution_count": null,
   "metadata": {},
   "outputs": [],
   "source": [
    "def azure_pipeline():\n",
    "    \n",
    "    #Define task for training BLERSSI data\n",
    "    azure_train_task = azure_train_op()\n",
    "    azure_train_task.add_volume(nfs_volume)\n",
    "    azure_train_task.add_volume_mount(nfs_volume_mount)\n",
    "    \n",
    "    #Define task for registering BLERSSI model on Azure\n",
    "    azure_register_task = azure_register_op(workspace_name=workspace_name,\n",
    "                                           subscription_id=subscription_id,\n",
    "                                           resource_group=resource_group,\n",
    "                                           model_name=model,\n",
    "                                           tenant_id=tenant_id,\n",
    "                                           service_principal_id=service_principal_id,\n",
    "                                           service_principal_password=service_principal_password)\n",
    "    \n",
    "    azure_register_task.add_volume(nfs_volume)\n",
    "    azure_register_task.add_volume_mount(nfs_volume_mount)\n",
    "    azure_register_task.after(azure_train_task)\n",
    "    \n",
    "    #Define Task for deploying BLERSSI model on Azure \n",
    "    azure_deploy_task = azure_deploy_op(workspace_name=workspace_name,\n",
    "                                        subscription_id=subscription_id,\n",
    "                                        resource_group=resource_group,\n",
    "                                        model_name=model,\n",
    "                                        service_name=service,\n",
    "                                        tenant_id=tenant_id,\n",
    "                                        service_principal_id=service_principal_id,\n",
    "                                        service_principal_password=service_principal_password)\n",
    "\n",
    "    azure_deploy_task.after(azure_register_task)"
   ]
  },
  {
   "cell_type": "markdown",
   "metadata": {},
   "source": [
    "## Create & execute Azure deployment pipeline"
   ]
  },
  {
   "cell_type": "code",
   "execution_count": null,
   "metadata": {},
   "outputs": [],
   "source": [
    "#Create a pipeline run\n",
    "kfp.Client().create_run_from_pipeline_func(azure_pipeline, arguments={})"
   ]
  },
  {
   "cell_type": "markdown",
   "metadata": {},
   "source": [
    "## Authenticate Azure account"
   ]
  },
  {
   "cell_type": "code",
   "execution_count": null,
   "metadata": {},
   "outputs": [],
   "source": [
    "svc_pr_password = os.environ.get(\"AZUREML_PASSWORD\")\n",
    "svc_pr = ServicePrincipalAuthentication(\n",
    "tenant_id=tenant_id,\n",
    "service_principal_id=service_principal_id,\n",
    "service_principal_password=service_principal_password)\n",
    "\n",
    "ws = Workspace(\n",
    "subscription_id=subscription_id,\n",
    "resource_group=resource_group,\n",
    "workspace_name=workspace_name,\n",
    "auth=svc_pr\n",
    ")"
   ]
  },
  {
   "cell_type": "markdown",
   "metadata": {},
   "source": [
    "## Use client to retrieve Azure scoring URI"
   ]
  },
  {
   "cell_type": "code",
   "execution_count": null,
   "metadata": {},
   "outputs": [],
   "source": [
    "service = Webservice(workspace=ws, name=service)\n",
    "print(service.scoring_uri)"
   ]
  },
  {
   "cell_type": "markdown",
   "metadata": {},
   "source": [
    "## View logs of Azure scoring URI creation"
   ]
  },
  {
   "cell_type": "code",
   "execution_count": null,
   "metadata": {},
   "outputs": [],
   "source": [
    "service.get_logs()"
   ]
  },
  {
   "cell_type": "markdown",
   "metadata": {},
   "source": [
    "## Process input data for prediction input"
   ]
  },
  {
   "cell_type": "code",
   "execution_count": null,
   "metadata": {},
   "outputs": [],
   "source": [
    "X=[[-200,-200,-200,-200,-200,-63,-200,-200,-200,-200,-200,-200,-200]]\n",
    "test_samples = json.dumps({\"data\": X})\n",
    "test_samples = bytes(test_samples, encoding='utf8')"
   ]
  },
  {
   "cell_type": "markdown",
   "metadata": {},
   "source": [
    "## Predict using Azure scoring URI"
   ]
  },
  {
   "cell_type": "code",
   "execution_count": null,
   "metadata": {},
   "outputs": [],
   "source": [
    "service.run(input_data=test_samples)"
   ]
  }
 ],
 "metadata": {
  "kernelspec": {
   "display_name": "Python 3",
   "language": "python",
   "name": "python3"
  },
  "language_info": {
   "codemirror_mode": {
    "name": "ipython",
    "version": 3
   },
   "file_extension": ".py",
   "mimetype": "text/x-python",
   "name": "python",
   "nbconvert_exporter": "python",
   "pygments_lexer": "ipython3",
   "version": "3.6.9"
  }
 },
 "nbformat": 4,
 "nbformat_minor": 2
}
