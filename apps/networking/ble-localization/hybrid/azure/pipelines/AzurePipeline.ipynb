{
 "cells": [
  {
   "cell_type": "markdown",
   "metadata": {},
   "source": [
    "## Azure Pipeline Deployment"
   ]
  },
  {
   "cell_type": "code",
   "execution_count": null,
   "metadata": {},
   "outputs": [],
   "source": [
    "!pip install kfp"
   ]
  },
  {
   "cell_type": "code",
   "execution_count": null,
   "metadata": {},
   "outputs": [],
   "source": [
    "import kfp\n",
    "import os\n",
    "import calendar\n",
    "import time\n",
    "from kubernetes import client"
   ]
  },
  {
   "cell_type": "code",
   "execution_count": null,
   "metadata": {},
   "outputs": [],
   "source": [
    "component_root_train = 'components/train_upload_model/'\n",
    "component_root_register = 'components/register_model/'\n",
    "component_root_deploy = 'components/deploy_model/'"
   ]
  },
  {
   "cell_type": "code",
   "execution_count": null,
   "metadata": {},
   "outputs": [],
   "source": [
    "azure_train_op = kfp.components.load_component_from_file(os.path.join(component_root_train, 'component.yaml'))\n",
    "azure_register_op = kfp.components.load_component_from_file(os.path.join(component_root_register, 'component.yaml'))\n",
    "azure_deploy_op = kfp.components.load_component_from_file(os.path.join(component_root_deploy, 'component.yaml'))"
   ]
  },
  {
   "cell_type": "code",
   "execution_count": null,
   "metadata": {},
   "outputs": [],
   "source": [
    "nfs_pvc = client.V1PersistentVolumeClaimVolumeSource(claim_name='nfs')\n",
    "nfs_volume = client.V1Volume(name='nfs', persistent_volume_claim=nfs_pvc)\n",
    "nfs_volume_mount = client.V1VolumeMount(mount_path='/mnt/', name='nfs')"
   ]
  },
  {
   "cell_type": "code",
   "execution_count": null,
   "metadata": {},
   "outputs": [],
   "source": [
    "timestamp = str(calendar.timegm(time.gmtime()))\n",
    "print(timestamp)"
   ]
  },
  {
   "cell_type": "code",
   "execution_count": null,
   "metadata": {},
   "outputs": [],
   "source": [
    "def azure_pipeline():\n",
    "    \n",
    "    #Define task for training BLERSSI data\n",
    "    azure_train_task = azure_train_op(azure_storage_account_name='',\n",
    "                                      azure_storage_account_key='')\n",
    "    azure_train_task.add_volume(nfs_volume)\n",
    "    azure_train_task.add_volume_mount(nfs_volume_mount)\n",
    "    \n",
    "    #Define task for registering BLERSSI model on Azure ML Studio\n",
    "    azure_register_task = azure_register_op(workspace_name='',\n",
    "                                           subscription_id='',\n",
    "                                           resource_group='',\n",
    "                                           model_name='model2',\n",
    "                                           tenant_id='',\n",
    "                                           service_principal_id='',\n",
    "                                           service_principal_password='')\n",
    "    \n",
    "    azure_register_task.add_volume(nfs_volume)\n",
    "    azure_register_task.add_volume_mount(nfs_volume_mount)\n",
    "    azure_register_task.after(azure_train_task)\n",
    "    \n",
    "    #Define Task for deploying BLERSSI model on Azure ML Studio\n",
    "    azure_deploy_task = azure_deploy_op(workspace_name='',\n",
    "                                       subscription_id='',\n",
    "                                       resource_group='',\n",
    "                                       model_name='model2',\n",
    "                                       service_name='service2',\n",
    "                                       tenant_id='',\n",
    "                                       service_principal_id='',\n",
    "                                       service_principal_password='')\n",
    "\n",
    "    azure_deploy_task.after(azure_register_task)"
   ]
  },
  {
   "cell_type": "code",
   "execution_count": null,
   "metadata": {},
   "outputs": [],
   "source": [
    "#Create a pipeline run\n",
    "kfp.Client().create_run_from_pipeline_func(azure_pipeline, arguments={})"
   ]
  },
  {
   "cell_type": "code",
   "execution_count": null,
   "metadata": {},
   "outputs": [],
   "source": [
    "import os\n",
    "from azureml.core.authentication import ServicePrincipalAuthentication\n",
    "from azureml.core import Workspace\n",
    "svc_pr_password = os.environ.get(\"AZUREML_PASSWORD\")\n",
    "\n",
    "svc_pr = ServicePrincipalAuthentication(\n",
    "tenant_id=\"\",\n",
    "service_principal_id=\"\",\n",
    "service_principal_password=\"\")\n",
    "\n",
    "ws = Workspace(\n",
    "subscription_id=\"\",\n",
    "resource_group=\"\",\n",
    "workspace_name=\"\",\n",
    "auth=svc_pr\n",
    ")"
   ]
  },
  {
   "cell_type": "code",
   "execution_count": null,
   "metadata": {},
   "outputs": [],
   "source": [
    "from azureml.core.webservice import Webservice\n",
    "service = Webservice(workspace=ws, name='service2')\n",
    "print(service.scoring_uri)\n",
    "print(service.swagger_uri)"
   ]
  },
  {
   "cell_type": "code",
   "execution_count": null,
   "metadata": {},
   "outputs": [],
   "source": [
    "service.get_logs()"
   ]
  },
  {
   "cell_type": "code",
   "execution_count": null,
   "metadata": {},
   "outputs": [],
   "source": [
    "X=[[1,2,3,4,5,6,7,8,9,3,4,3,6]]\n",
    "#print(type(X))\n",
    "import json\n",
    "import numpy as np\n",
    "import base64\n",
    "\n",
    "#data={\"data\": X}\n",
    "test_samples1 = json.dumps({\"data\": X})\n",
    "\n",
    "test_samples1\n",
    "print(type(test_samples1))\n",
    "test_samples1 = bytes(test_samples1, encoding='utf8')\n",
    "\n",
    "print(test_samples1)\n",
    "print(type(test_samples1))\n",
    "service.run(input_data=test_samples1)"
   ]
  }
 ],
 "metadata": {
  "kernelspec": {
   "display_name": "Python 3",
   "language": "python",
   "name": "python3"
  },
  "language_info": {
   "codemirror_mode": {
    "name": "ipython",
    "version": 3
   },
   "file_extension": ".py",
   "mimetype": "text/x-python",
   "name": "python",
   "nbconvert_exporter": "python",
   "pygments_lexer": "ipython3",
   "version": "3.6.5"
  }
 },
 "nbformat": 4,
 "nbformat_minor": 2
}
