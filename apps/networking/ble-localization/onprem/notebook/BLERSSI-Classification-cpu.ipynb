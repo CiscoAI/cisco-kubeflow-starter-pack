{
 "cells": [
  {
   "cell_type": "markdown",
   "metadata": {},
   "source": [
    "## BLE RSSI Dataset for Indoor localization\n",
    "\n",
    "The dataset was created using the RSSI readings of an array of 13 ibeacons in the first floor of Waldo Library, Western Michigan University. Data was collected using iPhone 6S. The dataset contains two sub-datasets: a labeled dataset (1420 instances) and an unlabeled dataset (5191 instances). The recording was performed during the operational hours of the library. For the labeled dataset, the input data contains the location (label column), a timestamp, followed by RSSI readings of 13 iBeacons. RSSI measurements are negative values. Bigger RSSI values indicate closer proximity to a given iBeacon (e.g., RSSI of -65 represent a closer distance to a given iBeacon compared to RSSI of -85). For out-of-range iBeacons, the RSSI is indicated by -200. The locations related to RSSI readings are combined in one column consisting a letter for the column and a number for the row of the position. The following figure depicts the layout of the iBeacons as well as the arrange of locations."
   ]
  },
  {
   "cell_type": "markdown",
   "metadata": {},
   "source": [
    "![alt text](pictures/iBeacon_Layout.jpg \"Title\")"
   ]
  },
  {
   "cell_type": "markdown",
   "metadata": {},
   "source": [
    "## Install Libraries"
   ]
  },
  {
   "cell_type": "code",
   "execution_count": 62,
   "metadata": {},
   "outputs": [
    {
     "name": "stdout",
     "output_type": "stream",
     "text": [
      "Requirement already satisfied: pandas in ./.local/lib/python3.6/site-packages (1.0.3)\n",
      "Requirement already satisfied: sklearn in ./.local/lib/python3.6/site-packages (0.0)\n",
      "Requirement already satisfied: pytz>=2017.2 in /usr/local/lib/python3.6/dist-packages (from pandas) (2019.3)\n",
      "Requirement already satisfied: numpy>=1.13.3 in /usr/local/lib/python3.6/dist-packages (from pandas) (1.18.1)\n",
      "Requirement already satisfied: python-dateutil>=2.6.1 in /usr/local/lib/python3.6/dist-packages (from pandas) (2.8.1)\n",
      "Requirement already satisfied: scikit-learn in ./.local/lib/python3.6/site-packages (from sklearn) (0.22.2.post1)\n",
      "Requirement already satisfied: six>=1.5 in /usr/lib/python3/dist-packages (from python-dateutil>=2.6.1->pandas) (1.11.0)\n",
      "Requirement already satisfied: joblib>=0.11 in ./.local/lib/python3.6/site-packages (from scikit-learn->sklearn) (0.14.1)\n",
      "Requirement already satisfied: scipy>=0.17.0 in /usr/local/lib/python3.6/dist-packages (from scikit-learn->sklearn) (1.4.1)\n"
     ]
    }
   ],
   "source": [
    "! pip install pandas sklearn --user"
   ]
  },
  {
   "cell_type": "markdown",
   "metadata": {},
   "source": [
    "## Import Libraries"
   ]
  },
  {
   "cell_type": "code",
   "execution_count": 63,
   "metadata": {},
   "outputs": [],
   "source": [
    "from __future__ import absolute_import\n",
    "from __future__ import division\n",
    "from __future__ import print_function\n",
    "\n",
    "import tensorflow as tf\n",
    "import pandas as pd\n",
    "import numpy as np\n",
    "import shutil\n",
    "import os\n",
    "from sklearn.preprocessing import OneHotEncoder"
   ]
  },
  {
   "cell_type": "markdown",
   "metadata": {},
   "source": [
    "## Declare Variables"
   ]
  },
  {
   "cell_type": "code",
   "execution_count": 64,
   "metadata": {},
   "outputs": [],
   "source": [
    "BLE_RSSI = pd.read_csv('iBeacon_RSSI_Labeled.csv') #Labeled dataset\n",
    "\n",
    "# Configure model options\n",
    "TF_DATA_DIR = os.getenv(\"TF_DATA_DIR\", \"/tmp/data/\")\n",
    "TF_MODEL_DIR = os.getenv(\"TF_MODEL_DIR\", \"blerssi/\")\n",
    "TF_EXPORT_DIR = os.getenv(\"TF_EXPORT_DIR\", \"blerssi/\")\n",
    "TF_MODEL_TYPE = os.getenv(\"TF_MODEL_TYPE\", \"DNN\")\n",
    "TF_TRAIN_STEPS = int(os.getenv(\"TF_TRAIN_STEPS\", 5000))\n",
    "TF_BATCH_SIZE = int(os.getenv(\"TF_BATCH_SIZE\", 50))\n",
    "TF_LEARNING_RATE = float(os.getenv(\"TF_LEARNING_RATE\", 0.001))\n",
    "\n",
    "\n",
    "# Feature columns\n",
    "COLUMNS = list(BLE_RSSI.columns)\n",
    "FEATURES = COLUMNS[2:]\n",
    "LABEL = [COLUMNS[0]]\n",
    "\n",
    "INPUT_FEATURE = 'x'\n",
    "NUM_CLASSES = 3"
   ]
  },
  {
   "cell_type": "markdown",
   "metadata": {},
   "source": [
    "## BLERSSI Input Dataset\n",
    "\n",
    "### Attribute Information\n",
    "\n",
    "    location: The location of receiving RSSIs from ibeacons b3001 to b3013; \n",
    "              symbolic values showing the column and row of the location on the map (e.g., A01 stands for column A, row 1).\n",
    "    date: Datetime in the format of ‘d-m-yyyy hh:mm:ss’\n",
    "    b3001 - b3013: RSSI readings corresponding to the iBeacons; numeric, integers only."
   ]
  },
  {
   "cell_type": "code",
   "execution_count": 65,
   "metadata": {},
   "outputs": [
    {
     "data": {
      "text/html": [
       "<div>\n",
       "<style scoped>\n",
       "    .dataframe tbody tr th:only-of-type {\n",
       "        vertical-align: middle;\n",
       "    }\n",
       "\n",
       "    .dataframe tbody tr th {\n",
       "        vertical-align: top;\n",
       "    }\n",
       "\n",
       "    .dataframe thead th {\n",
       "        text-align: right;\n",
       "    }\n",
       "</style>\n",
       "<table border=\"1\" class=\"dataframe\">\n",
       "  <thead>\n",
       "    <tr style=\"text-align: right;\">\n",
       "      <th></th>\n",
       "      <th>location</th>\n",
       "      <th>date</th>\n",
       "      <th>b3001</th>\n",
       "      <th>b3002</th>\n",
       "      <th>b3003</th>\n",
       "      <th>b3004</th>\n",
       "      <th>b3005</th>\n",
       "      <th>b3006</th>\n",
       "      <th>b3007</th>\n",
       "      <th>b3008</th>\n",
       "      <th>b3009</th>\n",
       "      <th>b3010</th>\n",
       "      <th>b3011</th>\n",
       "      <th>b3012</th>\n",
       "      <th>b3013</th>\n",
       "    </tr>\n",
       "  </thead>\n",
       "  <tbody>\n",
       "    <tr>\n",
       "      <th>0</th>\n",
       "      <td>O02</td>\n",
       "      <td>10-18-2016 11:15:21</td>\n",
       "      <td>-200</td>\n",
       "      <td>-200</td>\n",
       "      <td>-200</td>\n",
       "      <td>-200</td>\n",
       "      <td>-200</td>\n",
       "      <td>-78</td>\n",
       "      <td>-200</td>\n",
       "      <td>-200</td>\n",
       "      <td>-200</td>\n",
       "      <td>-200</td>\n",
       "      <td>-200</td>\n",
       "      <td>-200</td>\n",
       "      <td>-200</td>\n",
       "    </tr>\n",
       "    <tr>\n",
       "      <th>1</th>\n",
       "      <td>P01</td>\n",
       "      <td>10-18-2016 11:15:19</td>\n",
       "      <td>-200</td>\n",
       "      <td>-200</td>\n",
       "      <td>-200</td>\n",
       "      <td>-200</td>\n",
       "      <td>-200</td>\n",
       "      <td>-78</td>\n",
       "      <td>-200</td>\n",
       "      <td>-200</td>\n",
       "      <td>-200</td>\n",
       "      <td>-200</td>\n",
       "      <td>-200</td>\n",
       "      <td>-200</td>\n",
       "      <td>-200</td>\n",
       "    </tr>\n",
       "    <tr>\n",
       "      <th>2</th>\n",
       "      <td>P01</td>\n",
       "      <td>10-18-2016 11:15:17</td>\n",
       "      <td>-200</td>\n",
       "      <td>-200</td>\n",
       "      <td>-200</td>\n",
       "      <td>-200</td>\n",
       "      <td>-200</td>\n",
       "      <td>-77</td>\n",
       "      <td>-200</td>\n",
       "      <td>-200</td>\n",
       "      <td>-200</td>\n",
       "      <td>-200</td>\n",
       "      <td>-200</td>\n",
       "      <td>-200</td>\n",
       "      <td>-200</td>\n",
       "    </tr>\n",
       "    <tr>\n",
       "      <th>3</th>\n",
       "      <td>P01</td>\n",
       "      <td>10-18-2016 11:15:15</td>\n",
       "      <td>-200</td>\n",
       "      <td>-200</td>\n",
       "      <td>-200</td>\n",
       "      <td>-200</td>\n",
       "      <td>-200</td>\n",
       "      <td>-77</td>\n",
       "      <td>-200</td>\n",
       "      <td>-200</td>\n",
       "      <td>-200</td>\n",
       "      <td>-200</td>\n",
       "      <td>-200</td>\n",
       "      <td>-200</td>\n",
       "      <td>-200</td>\n",
       "    </tr>\n",
       "    <tr>\n",
       "      <th>4</th>\n",
       "      <td>P01</td>\n",
       "      <td>10-18-2016 11:15:13</td>\n",
       "      <td>-200</td>\n",
       "      <td>-200</td>\n",
       "      <td>-200</td>\n",
       "      <td>-200</td>\n",
       "      <td>-200</td>\n",
       "      <td>-77</td>\n",
       "      <td>-200</td>\n",
       "      <td>-200</td>\n",
       "      <td>-200</td>\n",
       "      <td>-200</td>\n",
       "      <td>-200</td>\n",
       "      <td>-200</td>\n",
       "      <td>-200</td>\n",
       "    </tr>\n",
       "    <tr>\n",
       "      <th>5</th>\n",
       "      <td>P01</td>\n",
       "      <td>10-18-2016 11:15:11</td>\n",
       "      <td>-200</td>\n",
       "      <td>-200</td>\n",
       "      <td>-82</td>\n",
       "      <td>-200</td>\n",
       "      <td>-200</td>\n",
       "      <td>-200</td>\n",
       "      <td>-200</td>\n",
       "      <td>-200</td>\n",
       "      <td>-200</td>\n",
       "      <td>-200</td>\n",
       "      <td>-200</td>\n",
       "      <td>-200</td>\n",
       "      <td>-200</td>\n",
       "    </tr>\n",
       "    <tr>\n",
       "      <th>6</th>\n",
       "      <td>P01</td>\n",
       "      <td>10-18-2016 11:15:09</td>\n",
       "      <td>-200</td>\n",
       "      <td>-200</td>\n",
       "      <td>-80</td>\n",
       "      <td>-200</td>\n",
       "      <td>-200</td>\n",
       "      <td>-77</td>\n",
       "      <td>-200</td>\n",
       "      <td>-200</td>\n",
       "      <td>-200</td>\n",
       "      <td>-200</td>\n",
       "      <td>-200</td>\n",
       "      <td>-200</td>\n",
       "      <td>-200</td>\n",
       "    </tr>\n",
       "    <tr>\n",
       "      <th>7</th>\n",
       "      <td>P02</td>\n",
       "      <td>10-18-2016 11:15:07</td>\n",
       "      <td>-200</td>\n",
       "      <td>-200</td>\n",
       "      <td>-86</td>\n",
       "      <td>-200</td>\n",
       "      <td>-200</td>\n",
       "      <td>-200</td>\n",
       "      <td>-200</td>\n",
       "      <td>-200</td>\n",
       "      <td>-200</td>\n",
       "      <td>-200</td>\n",
       "      <td>-200</td>\n",
       "      <td>-200</td>\n",
       "      <td>-200</td>\n",
       "    </tr>\n",
       "    <tr>\n",
       "      <th>8</th>\n",
       "      <td>R01</td>\n",
       "      <td>10-18-2016 11:15:05</td>\n",
       "      <td>-200</td>\n",
       "      <td>-200</td>\n",
       "      <td>-200</td>\n",
       "      <td>-75</td>\n",
       "      <td>-200</td>\n",
       "      <td>-200</td>\n",
       "      <td>-200</td>\n",
       "      <td>-200</td>\n",
       "      <td>-200</td>\n",
       "      <td>-200</td>\n",
       "      <td>-200</td>\n",
       "      <td>-200</td>\n",
       "      <td>-200</td>\n",
       "    </tr>\n",
       "    <tr>\n",
       "      <th>9</th>\n",
       "      <td>R01</td>\n",
       "      <td>10-18-2016 11:15:03</td>\n",
       "      <td>-200</td>\n",
       "      <td>-200</td>\n",
       "      <td>-200</td>\n",
       "      <td>-75</td>\n",
       "      <td>-200</td>\n",
       "      <td>-200</td>\n",
       "      <td>-200</td>\n",
       "      <td>-200</td>\n",
       "      <td>-200</td>\n",
       "      <td>-200</td>\n",
       "      <td>-200</td>\n",
       "      <td>-200</td>\n",
       "      <td>-200</td>\n",
       "    </tr>\n",
       "  </tbody>\n",
       "</table>\n",
       "</div>"
      ],
      "text/plain": [
       "  location                 date  b3001  b3002  b3003  b3004  b3005  b3006  \\\n",
       "0      O02  10-18-2016 11:15:21   -200   -200   -200   -200   -200    -78   \n",
       "1      P01  10-18-2016 11:15:19   -200   -200   -200   -200   -200    -78   \n",
       "2      P01  10-18-2016 11:15:17   -200   -200   -200   -200   -200    -77   \n",
       "3      P01  10-18-2016 11:15:15   -200   -200   -200   -200   -200    -77   \n",
       "4      P01  10-18-2016 11:15:13   -200   -200   -200   -200   -200    -77   \n",
       "5      P01  10-18-2016 11:15:11   -200   -200    -82   -200   -200   -200   \n",
       "6      P01  10-18-2016 11:15:09   -200   -200    -80   -200   -200    -77   \n",
       "7      P02  10-18-2016 11:15:07   -200   -200    -86   -200   -200   -200   \n",
       "8      R01  10-18-2016 11:15:05   -200   -200   -200    -75   -200   -200   \n",
       "9      R01  10-18-2016 11:15:03   -200   -200   -200    -75   -200   -200   \n",
       "\n",
       "   b3007  b3008  b3009  b3010  b3011  b3012  b3013  \n",
       "0   -200   -200   -200   -200   -200   -200   -200  \n",
       "1   -200   -200   -200   -200   -200   -200   -200  \n",
       "2   -200   -200   -200   -200   -200   -200   -200  \n",
       "3   -200   -200   -200   -200   -200   -200   -200  \n",
       "4   -200   -200   -200   -200   -200   -200   -200  \n",
       "5   -200   -200   -200   -200   -200   -200   -200  \n",
       "6   -200   -200   -200   -200   -200   -200   -200  \n",
       "7   -200   -200   -200   -200   -200   -200   -200  \n",
       "8   -200   -200   -200   -200   -200   -200   -200  \n",
       "9   -200   -200   -200   -200   -200   -200   -200  "
      ]
     },
     "execution_count": 65,
     "metadata": {},
     "output_type": "execute_result"
    }
   ],
   "source": [
    "BLE_RSSI.head(10)"
   ]
  },
  {
   "cell_type": "markdown",
   "metadata": {},
   "source": [
    "## Definition of Serving Input Receiver Function"
   ]
  },
  {
   "cell_type": "code",
   "execution_count": 66,
   "metadata": {},
   "outputs": [],
   "source": [
    "def serving_input_receiver_fn1():\n",
    "    \"\"\"\n",
    "    This is used to define inputs to serve the model.\n",
    "    :return: ServingInputReciever\n",
    "    \"\"\"\n",
    "    receiver_tensors = {\n",
    "        'b3001': tf.placeholder(tf.float32, [None, 1]),\n",
    "        'b3002': tf.placeholder(tf.float32, [None, 1]),\n",
    "        'b3003': tf.placeholder(tf.float32, [None, 1]),\n",
    "        'b3004': tf.placeholder(tf.float32, [None, 1]),\n",
    "        'b3005': tf.placeholder(tf.float32, [None, 1]),\n",
    "        'b3006': tf.placeholder(tf.float32, [None, 1]),\n",
    "        'b3007': tf.placeholder(tf.float32, [None, 1]),\n",
    "        'b3008': tf.placeholder(tf.float32, [None, 1]),\n",
    "        'b3009': tf.placeholder(tf.float32, [None, 1]),\n",
    "        'b3010': tf.placeholder(tf.float32, [None, 1]),\n",
    "        'b3011': tf.placeholder(tf.float32, [None, 1]),\n",
    "        'b3012': tf.placeholder(tf.float32, [None, 1]),\n",
    "        'b3013': tf.placeholder(tf.float32, [None, 1])\n",
    "\n",
    "    }\n",
    "\n",
    "    # Convert give inputs to adjust to the model.\n",
    "    features = {\n",
    "         INPUT_FEATURE: tf.concat([\n",
    "            receiver_tensors['b3001'],\n",
    "            receiver_tensors['b3002'],\n",
    "            receiver_tensors['b3003'],\n",
    "            receiver_tensors['b3004'],\n",
    "            receiver_tensors['b3005'],\n",
    "            receiver_tensors['b3006'],\n",
    "            receiver_tensors['b3007'],\n",
    "            receiver_tensors['b3008'],\n",
    "            receiver_tensors['b3009'],\n",
    "            receiver_tensors['b3010'],\n",
    "            receiver_tensors['b3011'],\n",
    "            receiver_tensors['b3012'],\n",
    "            receiver_tensors['b3013'],\n",
    "\n",
    "        ], axis=1)\n",
    "    }\n",
    "    return tf.estimator.export.ServingInputReceiver(receiver_tensors=receiver_tensors,\n",
    "                                                    features=features)\n"
   ]
  },
  {
   "cell_type": "markdown",
   "metadata": {},
   "source": [
    "## Train and Save BLE RSSI Model"
   ]
  },
  {
   "cell_type": "code",
   "execution_count": 67,
   "metadata": {},
   "outputs": [
    {
     "name": "stdout",
     "output_type": "stream",
     "text": [
      "INFO:tensorflow:Using config: {'_model_dir': 'blerssi/', '_tf_random_seed': None, '_save_summary_steps': 100, '_save_checkpoints_steps': 1000, '_save_checkpoints_secs': None, '_session_config': allow_soft_placement: true\n",
      "graph_options {\n",
      "  rewrite_options {\n",
      "    meta_optimizer_iterations: ONE\n",
      "  }\n",
      "}\n",
      ", '_keep_checkpoint_max': 5, '_keep_checkpoint_every_n_hours': 10000, '_log_step_count_steps': 100, '_train_distribute': None, '_device_fn': None, '_protocol': None, '_eval_distribute': None, '_experimental_distribute': None, '_experimental_max_worker_delay_secs': None, '_session_creation_timeout_secs': 7200, '_service': None, '_cluster_spec': <tensorflow.python.training.server_lib.ClusterSpec object at 0x7f1f50536748>, '_task_type': 'worker', '_task_id': 0, '_global_id_in_cluster': 0, '_master': '', '_evaluation_master': '', '_is_chief': True, '_num_ps_replicas': 0, '_num_worker_replicas': 1}\n"
     ]
    },
    {
     "name": "stderr",
     "output_type": "stream",
     "text": [
      "I0415 10:06:34.601049 139775581214528 estimator.py:212] Using config: {'_model_dir': 'blerssi/', '_tf_random_seed': None, '_save_summary_steps': 100, '_save_checkpoints_steps': 1000, '_save_checkpoints_secs': None, '_session_config': allow_soft_placement: true\n",
      "graph_options {\n",
      "  rewrite_options {\n",
      "    meta_optimizer_iterations: ONE\n",
      "  }\n",
      "}\n",
      ", '_keep_checkpoint_max': 5, '_keep_checkpoint_every_n_hours': 10000, '_log_step_count_steps': 100, '_train_distribute': None, '_device_fn': None, '_protocol': None, '_eval_distribute': None, '_experimental_distribute': None, '_experimental_max_worker_delay_secs': None, '_session_creation_timeout_secs': 7200, '_service': None, '_cluster_spec': <tensorflow.python.training.server_lib.ClusterSpec object at 0x7f1f50536748>, '_task_type': 'worker', '_task_id': 0, '_global_id_in_cluster': 0, '_master': '', '_evaluation_master': '', '_is_chief': True, '_num_ps_replicas': 0, '_num_worker_replicas': 1}\n"
     ]
    },
    {
     "name": "stdout",
     "output_type": "stream",
     "text": [
      "INFO:tensorflow:Not using Distribute Coordinator.\n"
     ]
    },
    {
     "name": "stderr",
     "output_type": "stream",
     "text": [
      "I0415 10:06:34.602662 139775581214528 estimator_training.py:186] Not using Distribute Coordinator.\n"
     ]
    },
    {
     "name": "stdout",
     "output_type": "stream",
     "text": [
      "INFO:tensorflow:Running training and evaluation locally (non-distributed).\n"
     ]
    },
    {
     "name": "stderr",
     "output_type": "stream",
     "text": [
      "I0415 10:06:34.603608 139775581214528 training.py:612] Running training and evaluation locally (non-distributed).\n"
     ]
    },
    {
     "name": "stdout",
     "output_type": "stream",
     "text": [
      "INFO:tensorflow:Start train and evaluate loop. The evaluate will happen after every checkpoint. Checkpoint frequency is determined based on RunConfig arguments: save_checkpoints_steps 1000 or save_checkpoints_secs None.\n"
     ]
    },
    {
     "name": "stderr",
     "output_type": "stream",
     "text": [
      "I0415 10:06:34.604480 139775581214528 training.py:700] Start train and evaluate loop. The evaluate will happen after every checkpoint. Checkpoint frequency is determined based on RunConfig arguments: save_checkpoints_steps 1000 or save_checkpoints_secs None.\n"
     ]
    },
    {
     "name": "stdout",
     "output_type": "stream",
     "text": [
      "INFO:tensorflow:Calling model_fn.\n"
     ]
    },
    {
     "name": "stderr",
     "output_type": "stream",
     "text": [
      "I0415 10:06:34.623420 139775581214528 estimator.py:1148] Calling model_fn.\n"
     ]
    },
    {
     "name": "stdout",
     "output_type": "stream",
     "text": [
      "INFO:tensorflow:Done calling model_fn.\n"
     ]
    },
    {
     "name": "stderr",
     "output_type": "stream",
     "text": [
      "I0415 10:06:35.041326 139775581214528 estimator.py:1150] Done calling model_fn.\n"
     ]
    },
    {
     "name": "stdout",
     "output_type": "stream",
     "text": [
      "INFO:tensorflow:Create CheckpointSaverHook.\n"
     ]
    },
    {
     "name": "stderr",
     "output_type": "stream",
     "text": [
      "I0415 10:06:35.044108 139775581214528 basic_session_run_hooks.py:541] Create CheckpointSaverHook.\n"
     ]
    },
    {
     "name": "stdout",
     "output_type": "stream",
     "text": [
      "INFO:tensorflow:Graph was finalized.\n"
     ]
    },
    {
     "name": "stderr",
     "output_type": "stream",
     "text": [
      "I0415 10:06:35.141920 139775581214528 monitored_session.py:240] Graph was finalized.\n"
     ]
    },
    {
     "name": "stdout",
     "output_type": "stream",
     "text": [
      "INFO:tensorflow:Running local_init_op.\n"
     ]
    },
    {
     "name": "stderr",
     "output_type": "stream",
     "text": [
      "I0415 10:06:35.191026 139775581214528 session_manager.py:500] Running local_init_op.\n"
     ]
    },
    {
     "name": "stdout",
     "output_type": "stream",
     "text": [
      "INFO:tensorflow:Done running local_init_op.\n"
     ]
    },
    {
     "name": "stderr",
     "output_type": "stream",
     "text": [
      "I0415 10:06:35.198856 139775581214528 session_manager.py:502] Done running local_init_op.\n"
     ]
    },
    {
     "name": "stdout",
     "output_type": "stream",
     "text": [
      "INFO:tensorflow:Saving checkpoints for 0 into blerssi/model.ckpt.\n"
     ]
    },
    {
     "name": "stderr",
     "output_type": "stream",
     "text": [
      "I0415 10:06:35.433403 139775581214528 basic_session_run_hooks.py:606] Saving checkpoints for 0 into blerssi/model.ckpt.\n"
     ]
    },
    {
     "name": "stdout",
     "output_type": "stream",
     "text": [
      "INFO:tensorflow:loss = 55.885307, step = 1\n"
     ]
    },
    {
     "name": "stderr",
     "output_type": "stream",
     "text": [
      "I0415 10:06:35.602560 139775581214528 basic_session_run_hooks.py:262] loss = 55.885307, step = 1\n"
     ]
    },
    {
     "name": "stdout",
     "output_type": "stream",
     "text": [
      "INFO:tensorflow:global_step/sec: 479.459\n"
     ]
    },
    {
     "name": "stderr",
     "output_type": "stream",
     "text": [
      "I0415 10:06:35.810944 139775581214528 basic_session_run_hooks.py:692] global_step/sec: 479.459\n"
     ]
    },
    {
     "name": "stdout",
     "output_type": "stream",
     "text": [
      "INFO:tensorflow:loss = 48.132507, step = 101 (0.212 sec)\n"
     ]
    },
    {
     "name": "stderr",
     "output_type": "stream",
     "text": [
      "I0415 10:06:35.814107 139775581214528 basic_session_run_hooks.py:260] loss = 48.132507, step = 101 (0.212 sec)\n"
     ]
    },
    {
     "name": "stdout",
     "output_type": "stream",
     "text": [
      "INFO:tensorflow:global_step/sec: 521.879\n"
     ]
    },
    {
     "name": "stderr",
     "output_type": "stream",
     "text": [
      "I0415 10:06:36.002548 139775581214528 basic_session_run_hooks.py:692] global_step/sec: 521.879\n"
     ]
    },
    {
     "name": "stdout",
     "output_type": "stream",
     "text": [
      "INFO:tensorflow:loss = 43.644894, step = 201 (0.192 sec)\n"
     ]
    },
    {
     "name": "stderr",
     "output_type": "stream",
     "text": [
      "I0415 10:06:36.005840 139775581214528 basic_session_run_hooks.py:260] loss = 43.644894, step = 201 (0.192 sec)\n"
     ]
    },
    {
     "name": "stdout",
     "output_type": "stream",
     "text": [
      "INFO:tensorflow:global_step/sec: 486.266\n"
     ]
    },
    {
     "name": "stderr",
     "output_type": "stream",
     "text": [
      "I0415 10:06:36.208371 139775581214528 basic_session_run_hooks.py:692] global_step/sec: 486.266\n"
     ]
    },
    {
     "name": "stdout",
     "output_type": "stream",
     "text": [
      "INFO:tensorflow:loss = 45.08407, step = 301 (0.208 sec)\n"
     ]
    },
    {
     "name": "stderr",
     "output_type": "stream",
     "text": [
      "I0415 10:06:36.213589 139775581214528 basic_session_run_hooks.py:260] loss = 45.08407, step = 301 (0.208 sec)\n"
     ]
    },
    {
     "name": "stdout",
     "output_type": "stream",
     "text": [
      "INFO:tensorflow:global_step/sec: 518.455\n"
     ]
    },
    {
     "name": "stderr",
     "output_type": "stream",
     "text": [
      "I0415 10:06:36.401066 139775581214528 basic_session_run_hooks.py:692] global_step/sec: 518.455\n"
     ]
    },
    {
     "name": "stdout",
     "output_type": "stream",
     "text": [
      "INFO:tensorflow:loss = 38.218285, step = 401 (0.191 sec)\n"
     ]
    },
    {
     "name": "stderr",
     "output_type": "stream",
     "text": [
      "I0415 10:06:36.404543 139775581214528 basic_session_run_hooks.py:260] loss = 38.218285, step = 401 (0.191 sec)\n"
     ]
    },
    {
     "name": "stdout",
     "output_type": "stream",
     "text": [
      "INFO:tensorflow:global_step/sec: 513.698\n"
     ]
    },
    {
     "name": "stderr",
     "output_type": "stream",
     "text": [
      "I0415 10:06:36.595876 139775581214528 basic_session_run_hooks.py:692] global_step/sec: 513.698\n"
     ]
    },
    {
     "name": "stdout",
     "output_type": "stream",
     "text": [
      "INFO:tensorflow:loss = 39.383747, step = 501 (0.195 sec)\n"
     ]
    },
    {
     "name": "stderr",
     "output_type": "stream",
     "text": [
      "I0415 10:06:36.599945 139775581214528 basic_session_run_hooks.py:260] loss = 39.383747, step = 501 (0.195 sec)\n"
     ]
    },
    {
     "name": "stdout",
     "output_type": "stream",
     "text": [
      "INFO:tensorflow:global_step/sec: 556.657\n"
     ]
    },
    {
     "name": "stderr",
     "output_type": "stream",
     "text": [
      "I0415 10:06:36.775332 139775581214528 basic_session_run_hooks.py:692] global_step/sec: 556.657\n"
     ]
    },
    {
     "name": "stdout",
     "output_type": "stream",
     "text": [
      "INFO:tensorflow:loss = 34.42041, step = 601 (0.178 sec)\n"
     ]
    },
    {
     "name": "stderr",
     "output_type": "stream",
     "text": [
      "I0415 10:06:36.778196 139775581214528 basic_session_run_hooks.py:260] loss = 34.42041, step = 601 (0.178 sec)\n"
     ]
    },
    {
     "name": "stdout",
     "output_type": "stream",
     "text": [
      "INFO:tensorflow:global_step/sec: 487.432\n"
     ]
    },
    {
     "name": "stderr",
     "output_type": "stream",
     "text": [
      "I0415 10:06:36.980535 139775581214528 basic_session_run_hooks.py:692] global_step/sec: 487.432\n"
     ]
    },
    {
     "name": "stdout",
     "output_type": "stream",
     "text": [
      "INFO:tensorflow:loss = 31.837654, step = 701 (0.206 sec)\n"
     ]
    },
    {
     "name": "stderr",
     "output_type": "stream",
     "text": [
      "I0415 10:06:36.984004 139775581214528 basic_session_run_hooks.py:260] loss = 31.837654, step = 701 (0.206 sec)\n"
     ]
    },
    {
     "name": "stdout",
     "output_type": "stream",
     "text": [
      "INFO:tensorflow:global_step/sec: 493.489\n"
     ]
    },
    {
     "name": "stderr",
     "output_type": "stream",
     "text": [
      "I0415 10:06:37.183191 139775581214528 basic_session_run_hooks.py:692] global_step/sec: 493.489\n"
     ]
    },
    {
     "name": "stdout",
     "output_type": "stream",
     "text": [
      "INFO:tensorflow:loss = 31.620766, step = 801 (0.203 sec)\n"
     ]
    },
    {
     "name": "stderr",
     "output_type": "stream",
     "text": [
      "I0415 10:06:37.186550 139775581214528 basic_session_run_hooks.py:260] loss = 31.620766, step = 801 (0.203 sec)\n"
     ]
    },
    {
     "name": "stdout",
     "output_type": "stream",
     "text": [
      "INFO:tensorflow:global_step/sec: 506.73\n"
     ]
    },
    {
     "name": "stderr",
     "output_type": "stream",
     "text": [
      "I0415 10:06:37.380516 139775581214528 basic_session_run_hooks.py:692] global_step/sec: 506.73\n"
     ]
    },
    {
     "name": "stdout",
     "output_type": "stream",
     "text": [
      "INFO:tensorflow:loss = 32.67509, step = 901 (0.197 sec)\n"
     ]
    },
    {
     "name": "stderr",
     "output_type": "stream",
     "text": [
      "I0415 10:06:37.384030 139775581214528 basic_session_run_hooks.py:260] loss = 32.67509, step = 901 (0.197 sec)\n"
     ]
    },
    {
     "name": "stdout",
     "output_type": "stream",
     "text": [
      "INFO:tensorflow:Saving checkpoints for 1000 into blerssi/model.ckpt.\n"
     ]
    },
    {
     "name": "stderr",
     "output_type": "stream",
     "text": [
      "I0415 10:06:37.579692 139775581214528 basic_session_run_hooks.py:606] Saving checkpoints for 1000 into blerssi/model.ckpt.\n"
     ]
    },
    {
     "name": "stdout",
     "output_type": "stream",
     "text": [
      "INFO:tensorflow:Calling model_fn.\n"
     ]
    },
    {
     "name": "stderr",
     "output_type": "stream",
     "text": [
      "I0415 10:06:37.671900 139775581214528 estimator.py:1148] Calling model_fn.\n"
     ]
    },
    {
     "name": "stdout",
     "output_type": "stream",
     "text": [
      "INFO:tensorflow:Done calling model_fn.\n"
     ]
    },
    {
     "name": "stderr",
     "output_type": "stream",
     "text": [
      "I0415 10:06:37.849715 139775581214528 estimator.py:1150] Done calling model_fn.\n"
     ]
    },
    {
     "name": "stdout",
     "output_type": "stream",
     "text": [
      "INFO:tensorflow:Starting evaluation at 2020-04-15T10:06:37Z\n"
     ]
    },
    {
     "name": "stderr",
     "output_type": "stream",
     "text": [
      "I0415 10:06:37.864496 139775581214528 evaluation.py:255] Starting evaluation at 2020-04-15T10:06:37Z\n"
     ]
    },
    {
     "name": "stdout",
     "output_type": "stream",
     "text": [
      "INFO:tensorflow:Graph was finalized.\n"
     ]
    },
    {
     "name": "stderr",
     "output_type": "stream",
     "text": [
      "I0415 10:06:37.937731 139775581214528 monitored_session.py:240] Graph was finalized.\n"
     ]
    },
    {
     "name": "stdout",
     "output_type": "stream",
     "text": [
      "INFO:tensorflow:Restoring parameters from blerssi/model.ckpt-1000\n"
     ]
    },
    {
     "name": "stderr",
     "output_type": "stream",
     "text": [
      "I0415 10:06:37.940613 139775581214528 saver.py:1284] Restoring parameters from blerssi/model.ckpt-1000\n"
     ]
    },
    {
     "name": "stdout",
     "output_type": "stream",
     "text": [
      "INFO:tensorflow:Running local_init_op.\n"
     ]
    },
    {
     "name": "stderr",
     "output_type": "stream",
     "text": [
      "I0415 10:06:37.976546 139775581214528 session_manager.py:500] Running local_init_op.\n"
     ]
    },
    {
     "name": "stdout",
     "output_type": "stream",
     "text": [
      "INFO:tensorflow:Done running local_init_op.\n"
     ]
    },
    {
     "name": "stderr",
     "output_type": "stream",
     "text": [
      "I0415 10:06:37.988241 139775581214528 session_manager.py:502] Done running local_init_op.\n"
     ]
    },
    {
     "name": "stdout",
     "output_type": "stream",
     "text": [
      "INFO:tensorflow:Evaluation [1/1]\n"
     ]
    },
    {
     "name": "stderr",
     "output_type": "stream",
     "text": [
      "I0415 10:06:38.068361 139775581214528 evaluation.py:167] Evaluation [1/1]\n"
     ]
    },
    {
     "name": "stdout",
     "output_type": "stream",
     "text": [
      "INFO:tensorflow:Finished evaluation at 2020-04-15-10:06:38\n"
     ]
    },
    {
     "name": "stderr",
     "output_type": "stream",
     "text": [
      "I0415 10:06:38.108512 139775581214528 evaluation.py:275] Finished evaluation at 2020-04-15-10:06:38\n"
     ]
    },
    {
     "name": "stdout",
     "output_type": "stream",
     "text": [
      "INFO:tensorflow:Saving dict for global step 1000: accuracy = 0.083333336, average_loss = 3.518089, global_step = 1000, loss = 42.217068\n"
     ]
    },
    {
     "name": "stderr",
     "output_type": "stream",
     "text": [
      "I0415 10:06:38.110924 139775581214528 estimator.py:2049] Saving dict for global step 1000: accuracy = 0.083333336, average_loss = 3.518089, global_step = 1000, loss = 42.217068\n"
     ]
    },
    {
     "name": "stdout",
     "output_type": "stream",
     "text": [
      "INFO:tensorflow:Saving 'checkpoint_path' summary for global step 1000: blerssi/model.ckpt-1000\n"
     ]
    },
    {
     "name": "stderr",
     "output_type": "stream",
     "text": [
      "I0415 10:06:38.114635 139775581214528 estimator.py:2109] Saving 'checkpoint_path' summary for global step 1000: blerssi/model.ckpt-1000\n"
     ]
    },
    {
     "name": "stdout",
     "output_type": "stream",
     "text": [
      "INFO:tensorflow:global_step/sec: 135.356\n"
     ]
    },
    {
     "name": "stderr",
     "output_type": "stream",
     "text": [
      "I0415 10:06:38.119214 139775581214528 basic_session_run_hooks.py:692] global_step/sec: 135.356\n"
     ]
    },
    {
     "name": "stdout",
     "output_type": "stream",
     "text": [
      "INFO:tensorflow:loss = 36.245026, step = 1001 (0.737 sec)\n"
     ]
    },
    {
     "name": "stderr",
     "output_type": "stream",
     "text": [
      "I0415 10:06:38.120958 139775581214528 basic_session_run_hooks.py:260] loss = 36.245026, step = 1001 (0.737 sec)\n"
     ]
    },
    {
     "name": "stdout",
     "output_type": "stream",
     "text": [
      "INFO:tensorflow:global_step/sec: 584.053\n"
     ]
    },
    {
     "name": "stderr",
     "output_type": "stream",
     "text": [
      "I0415 10:06:38.290506 139775581214528 basic_session_run_hooks.py:692] global_step/sec: 584.053\n"
     ]
    },
    {
     "name": "stdout",
     "output_type": "stream",
     "text": [
      "INFO:tensorflow:loss = 30.751553, step = 1101 (0.173 sec)\n"
     ]
    },
    {
     "name": "stderr",
     "output_type": "stream",
     "text": [
      "I0415 10:06:38.293926 139775581214528 basic_session_run_hooks.py:260] loss = 30.751553, step = 1101 (0.173 sec)\n"
     ]
    },
    {
     "name": "stdout",
     "output_type": "stream",
     "text": [
      "INFO:tensorflow:global_step/sec: 514.805\n"
     ]
    },
    {
     "name": "stderr",
     "output_type": "stream",
     "text": [
      "I0415 10:06:38.484769 139775581214528 basic_session_run_hooks.py:692] global_step/sec: 514.805\n"
     ]
    },
    {
     "name": "stdout",
     "output_type": "stream",
     "text": [
      "INFO:tensorflow:loss = 32.47703, step = 1201 (0.195 sec)\n"
     ]
    },
    {
     "name": "stderr",
     "output_type": "stream",
     "text": [
      "I0415 10:06:38.488433 139775581214528 basic_session_run_hooks.py:260] loss = 32.47703, step = 1201 (0.195 sec)\n"
     ]
    },
    {
     "name": "stdout",
     "output_type": "stream",
     "text": [
      "INFO:tensorflow:global_step/sec: 495.205\n"
     ]
    },
    {
     "name": "stderr",
     "output_type": "stream",
     "text": [
      "I0415 10:06:38.686789 139775581214528 basic_session_run_hooks.py:692] global_step/sec: 495.205\n"
     ]
    },
    {
     "name": "stdout",
     "output_type": "stream",
     "text": [
      "INFO:tensorflow:loss = 39.315987, step = 1301 (0.202 sec)\n"
     ]
    },
    {
     "name": "stderr",
     "output_type": "stream",
     "text": [
      "I0415 10:06:38.690409 139775581214528 basic_session_run_hooks.py:260] loss = 39.315987, step = 1301 (0.202 sec)\n"
     ]
    },
    {
     "name": "stdout",
     "output_type": "stream",
     "text": [
      "INFO:tensorflow:global_step/sec: 483.514\n"
     ]
    },
    {
     "name": "stderr",
     "output_type": "stream",
     "text": [
      "I0415 10:06:38.893570 139775581214528 basic_session_run_hooks.py:692] global_step/sec: 483.514\n"
     ]
    },
    {
     "name": "stdout",
     "output_type": "stream",
     "text": [
      "INFO:tensorflow:loss = 29.898031, step = 1401 (0.207 sec)\n"
     ]
    },
    {
     "name": "stderr",
     "output_type": "stream",
     "text": [
      "I0415 10:06:38.897362 139775581214528 basic_session_run_hooks.py:260] loss = 29.898031, step = 1401 (0.207 sec)\n"
     ]
    },
    {
     "name": "stdout",
     "output_type": "stream",
     "text": [
      "INFO:tensorflow:global_step/sec: 559.781\n"
     ]
    },
    {
     "name": "stderr",
     "output_type": "stream",
     "text": [
      "I0415 10:06:39.072227 139775581214528 basic_session_run_hooks.py:692] global_step/sec: 559.781\n"
     ]
    },
    {
     "name": "stdout",
     "output_type": "stream",
     "text": [
      "INFO:tensorflow:loss = 31.706728, step = 1501 (0.178 sec)\n"
     ]
    },
    {
     "name": "stderr",
     "output_type": "stream",
     "text": [
      "I0415 10:06:39.075265 139775581214528 basic_session_run_hooks.py:260] loss = 31.706728, step = 1501 (0.178 sec)\n"
     ]
    },
    {
     "name": "stdout",
     "output_type": "stream",
     "text": [
      "INFO:tensorflow:global_step/sec: 554.326\n"
     ]
    },
    {
     "name": "stderr",
     "output_type": "stream",
     "text": [
      "I0415 10:06:39.252584 139775581214528 basic_session_run_hooks.py:692] global_step/sec: 554.326\n"
     ]
    },
    {
     "name": "stdout",
     "output_type": "stream",
     "text": [
      "INFO:tensorflow:loss = 34.32192, step = 1601 (0.181 sec)\n"
     ]
    },
    {
     "name": "stderr",
     "output_type": "stream",
     "text": [
      "I0415 10:06:39.256049 139775581214528 basic_session_run_hooks.py:260] loss = 34.32192, step = 1601 (0.181 sec)\n"
     ]
    },
    {
     "name": "stdout",
     "output_type": "stream",
     "text": [
      "INFO:tensorflow:global_step/sec: 524.819\n"
     ]
    },
    {
     "name": "stderr",
     "output_type": "stream",
     "text": [
      "I0415 10:06:39.443127 139775581214528 basic_session_run_hooks.py:692] global_step/sec: 524.819\n"
     ]
    },
    {
     "name": "stdout",
     "output_type": "stream",
     "text": [
      "INFO:tensorflow:loss = 31.689758, step = 1701 (0.191 sec)\n"
     ]
    },
    {
     "name": "stderr",
     "output_type": "stream",
     "text": [
      "I0415 10:06:39.446677 139775581214528 basic_session_run_hooks.py:260] loss = 31.689758, step = 1701 (0.191 sec)\n"
     ]
    },
    {
     "name": "stdout",
     "output_type": "stream",
     "text": [
      "INFO:tensorflow:global_step/sec: 558.071\n"
     ]
    },
    {
     "name": "stderr",
     "output_type": "stream",
     "text": [
      "I0415 10:06:39.622316 139775581214528 basic_session_run_hooks.py:692] global_step/sec: 558.071\n"
     ]
    },
    {
     "name": "stdout",
     "output_type": "stream",
     "text": [
      "INFO:tensorflow:loss = 32.96498, step = 1801 (0.179 sec)\n"
     ]
    },
    {
     "name": "stderr",
     "output_type": "stream",
     "text": [
      "I0415 10:06:39.625795 139775581214528 basic_session_run_hooks.py:260] loss = 32.96498, step = 1801 (0.179 sec)\n"
     ]
    },
    {
     "name": "stdout",
     "output_type": "stream",
     "text": [
      "INFO:tensorflow:global_step/sec: 584.25\n"
     ]
    },
    {
     "name": "stderr",
     "output_type": "stream",
     "text": [
      "I0415 10:06:39.793452 139775581214528 basic_session_run_hooks.py:692] global_step/sec: 584.25\n"
     ]
    },
    {
     "name": "stdout",
     "output_type": "stream",
     "text": [
      "INFO:tensorflow:loss = 32.989082, step = 1901 (0.171 sec)\n"
     ]
    },
    {
     "name": "stderr",
     "output_type": "stream",
     "text": [
      "I0415 10:06:39.796774 139775581214528 basic_session_run_hooks.py:260] loss = 32.989082, step = 1901 (0.171 sec)\n"
     ]
    },
    {
     "name": "stdout",
     "output_type": "stream",
     "text": [
      "INFO:tensorflow:Saving checkpoints for 2000 into blerssi/model.ckpt.\n"
     ]
    },
    {
     "name": "stderr",
     "output_type": "stream",
     "text": [
      "I0415 10:06:39.959344 139775581214528 basic_session_run_hooks.py:606] Saving checkpoints for 2000 into blerssi/model.ckpt.\n"
     ]
    },
    {
     "name": "stdout",
     "output_type": "stream",
     "text": [
      "INFO:tensorflow:Calling model_fn.\n"
     ]
    },
    {
     "name": "stderr",
     "output_type": "stream",
     "text": [
      "I0415 10:06:40.043386 139775581214528 estimator.py:1148] Calling model_fn.\n"
     ]
    },
    {
     "name": "stdout",
     "output_type": "stream",
     "text": [
      "INFO:tensorflow:Done calling model_fn.\n"
     ]
    },
    {
     "name": "stderr",
     "output_type": "stream",
     "text": [
      "I0415 10:06:40.220763 139775581214528 estimator.py:1150] Done calling model_fn.\n"
     ]
    },
    {
     "name": "stdout",
     "output_type": "stream",
     "text": [
      "INFO:tensorflow:Starting evaluation at 2020-04-15T10:06:40Z\n"
     ]
    },
    {
     "name": "stderr",
     "output_type": "stream",
     "text": [
      "I0415 10:06:40.235360 139775581214528 evaluation.py:255] Starting evaluation at 2020-04-15T10:06:40Z\n"
     ]
    },
    {
     "name": "stdout",
     "output_type": "stream",
     "text": [
      "INFO:tensorflow:Graph was finalized.\n"
     ]
    },
    {
     "name": "stderr",
     "output_type": "stream",
     "text": [
      "I0415 10:06:40.324910 139775581214528 monitored_session.py:240] Graph was finalized.\n"
     ]
    },
    {
     "name": "stdout",
     "output_type": "stream",
     "text": [
      "INFO:tensorflow:Restoring parameters from blerssi/model.ckpt-2000\n"
     ]
    },
    {
     "name": "stderr",
     "output_type": "stream",
     "text": [
      "I0415 10:06:40.327635 139775581214528 saver.py:1284] Restoring parameters from blerssi/model.ckpt-2000\n"
     ]
    },
    {
     "name": "stdout",
     "output_type": "stream",
     "text": [
      "INFO:tensorflow:Running local_init_op.\n"
     ]
    },
    {
     "name": "stderr",
     "output_type": "stream",
     "text": [
      "I0415 10:06:40.360301 139775581214528 session_manager.py:500] Running local_init_op.\n"
     ]
    },
    {
     "name": "stdout",
     "output_type": "stream",
     "text": [
      "INFO:tensorflow:Done running local_init_op.\n"
     ]
    },
    {
     "name": "stderr",
     "output_type": "stream",
     "text": [
      "I0415 10:06:40.371829 139775581214528 session_manager.py:502] Done running local_init_op.\n"
     ]
    },
    {
     "name": "stdout",
     "output_type": "stream",
     "text": [
      "INFO:tensorflow:Evaluation [1/1]\n"
     ]
    },
    {
     "name": "stderr",
     "output_type": "stream",
     "text": [
      "I0415 10:06:40.465800 139775581214528 evaluation.py:167] Evaluation [1/1]\n"
     ]
    },
    {
     "name": "stdout",
     "output_type": "stream",
     "text": [
      "INFO:tensorflow:Finished evaluation at 2020-04-15-10:06:40\n"
     ]
    },
    {
     "name": "stderr",
     "output_type": "stream",
     "text": [
      "I0415 10:06:40.502271 139775581214528 evaluation.py:275] Finished evaluation at 2020-04-15-10:06:40\n"
     ]
    },
    {
     "name": "stdout",
     "output_type": "stream",
     "text": [
      "INFO:tensorflow:Saving dict for global step 2000: accuracy = 0.083333336, average_loss = 3.1629264, global_step = 2000, loss = 37.955116\n"
     ]
    },
    {
     "name": "stderr",
     "output_type": "stream",
     "text": [
      "I0415 10:06:40.504293 139775581214528 estimator.py:2049] Saving dict for global step 2000: accuracy = 0.083333336, average_loss = 3.1629264, global_step = 2000, loss = 37.955116\n"
     ]
    },
    {
     "name": "stdout",
     "output_type": "stream",
     "text": [
      "INFO:tensorflow:Saving 'checkpoint_path' summary for global step 2000: blerssi/model.ckpt-2000\n"
     ]
    },
    {
     "name": "stderr",
     "output_type": "stream",
     "text": [
      "I0415 10:06:40.507326 139775581214528 estimator.py:2109] Saving 'checkpoint_path' summary for global step 2000: blerssi/model.ckpt-2000\n"
     ]
    },
    {
     "name": "stdout",
     "output_type": "stream",
     "text": [
      "INFO:tensorflow:global_step/sec: 138.602\n"
     ]
    },
    {
     "name": "stderr",
     "output_type": "stream",
     "text": [
      "I0415 10:06:40.514923 139775581214528 basic_session_run_hooks.py:692] global_step/sec: 138.602\n"
     ]
    },
    {
     "name": "stdout",
     "output_type": "stream",
     "text": [
      "INFO:tensorflow:loss = 31.676643, step = 2001 (0.721 sec)\n"
     ]
    },
    {
     "name": "stderr",
     "output_type": "stream",
     "text": [
      "I0415 10:06:40.517610 139775581214528 basic_session_run_hooks.py:260] loss = 31.676643, step = 2001 (0.721 sec)\n"
     ]
    },
    {
     "name": "stdout",
     "output_type": "stream",
     "text": [
      "INFO:tensorflow:global_step/sec: 551.447\n"
     ]
    },
    {
     "name": "stderr",
     "output_type": "stream",
     "text": [
      "I0415 10:06:40.696283 139775581214528 basic_session_run_hooks.py:692] global_step/sec: 551.447\n"
     ]
    },
    {
     "name": "stdout",
     "output_type": "stream",
     "text": [
      "INFO:tensorflow:loss = 31.68762, step = 2101 (0.182 sec)\n"
     ]
    },
    {
     "name": "stderr",
     "output_type": "stream",
     "text": [
      "I0415 10:06:40.699557 139775581214528 basic_session_run_hooks.py:260] loss = 31.68762, step = 2101 (0.182 sec)\n"
     ]
    },
    {
     "name": "stdout",
     "output_type": "stream",
     "text": [
      "INFO:tensorflow:global_step/sec: 521.328\n"
     ]
    },
    {
     "name": "stderr",
     "output_type": "stream",
     "text": [
      "I0415 10:06:40.888188 139775581214528 basic_session_run_hooks.py:692] global_step/sec: 521.328\n"
     ]
    },
    {
     "name": "stdout",
     "output_type": "stream",
     "text": [
      "INFO:tensorflow:loss = 33.706936, step = 2201 (0.193 sec)\n"
     ]
    },
    {
     "name": "stderr",
     "output_type": "stream",
     "text": [
      "I0415 10:06:40.892285 139775581214528 basic_session_run_hooks.py:260] loss = 33.706936, step = 2201 (0.193 sec)\n"
     ]
    },
    {
     "name": "stdout",
     "output_type": "stream",
     "text": [
      "INFO:tensorflow:global_step/sec: 649.234\n"
     ]
    },
    {
     "name": "stderr",
     "output_type": "stream",
     "text": [
      "I0415 10:06:41.042075 139775581214528 basic_session_run_hooks.py:692] global_step/sec: 649.234\n"
     ]
    },
    {
     "name": "stdout",
     "output_type": "stream",
     "text": [
      "INFO:tensorflow:loss = 29.043583, step = 2301 (0.152 sec)\n"
     ]
    },
    {
     "name": "stderr",
     "output_type": "stream",
     "text": [
      "I0415 10:06:41.044504 139775581214528 basic_session_run_hooks.py:260] loss = 29.043583, step = 2301 (0.152 sec)\n"
     ]
    },
    {
     "name": "stdout",
     "output_type": "stream",
     "text": [
      "INFO:tensorflow:global_step/sec: 586.778\n"
     ]
    },
    {
     "name": "stderr",
     "output_type": "stream",
     "text": [
      "I0415 10:06:41.212604 139775581214528 basic_session_run_hooks.py:692] global_step/sec: 586.778\n"
     ]
    },
    {
     "name": "stdout",
     "output_type": "stream",
     "text": [
      "INFO:tensorflow:loss = 26.60017, step = 2401 (0.172 sec)\n"
     ]
    },
    {
     "name": "stderr",
     "output_type": "stream",
     "text": [
      "I0415 10:06:41.216316 139775581214528 basic_session_run_hooks.py:260] loss = 26.60017, step = 2401 (0.172 sec)\n"
     ]
    },
    {
     "name": "stdout",
     "output_type": "stream",
     "text": [
      "INFO:tensorflow:global_step/sec: 599.682\n"
     ]
    },
    {
     "name": "stderr",
     "output_type": "stream",
     "text": [
      "I0415 10:06:41.379367 139775581214528 basic_session_run_hooks.py:692] global_step/sec: 599.682\n"
     ]
    },
    {
     "name": "stdout",
     "output_type": "stream",
     "text": [
      "INFO:tensorflow:loss = 29.410782, step = 2501 (0.167 sec)\n"
     ]
    },
    {
     "name": "stderr",
     "output_type": "stream",
     "text": [
      "I0415 10:06:41.383161 139775581214528 basic_session_run_hooks.py:260] loss = 29.410782, step = 2501 (0.167 sec)\n"
     ]
    },
    {
     "name": "stdout",
     "output_type": "stream",
     "text": [
      "INFO:tensorflow:global_step/sec: 611.056\n"
     ]
    },
    {
     "name": "stderr",
     "output_type": "stream",
     "text": [
      "I0415 10:06:41.542996 139775581214528 basic_session_run_hooks.py:692] global_step/sec: 611.056\n"
     ]
    },
    {
     "name": "stdout",
     "output_type": "stream",
     "text": [
      "INFO:tensorflow:loss = 29.235376, step = 2601 (0.163 sec)\n"
     ]
    },
    {
     "name": "stderr",
     "output_type": "stream",
     "text": [
      "I0415 10:06:41.546293 139775581214528 basic_session_run_hooks.py:260] loss = 29.235376, step = 2601 (0.163 sec)\n"
     ]
    },
    {
     "name": "stdout",
     "output_type": "stream",
     "text": [
      "INFO:tensorflow:global_step/sec: 558.093\n"
     ]
    },
    {
     "name": "stderr",
     "output_type": "stream",
     "text": [
      "I0415 10:06:41.722207 139775581214528 basic_session_run_hooks.py:692] global_step/sec: 558.093\n"
     ]
    },
    {
     "name": "stdout",
     "output_type": "stream",
     "text": [
      "INFO:tensorflow:loss = 32.17106, step = 2701 (0.179 sec)\n"
     ]
    },
    {
     "name": "stderr",
     "output_type": "stream",
     "text": [
      "I0415 10:06:41.725625 139775581214528 basic_session_run_hooks.py:260] loss = 32.17106, step = 2701 (0.179 sec)\n"
     ]
    },
    {
     "name": "stdout",
     "output_type": "stream",
     "text": [
      "INFO:tensorflow:global_step/sec: 527.702\n"
     ]
    },
    {
     "name": "stderr",
     "output_type": "stream",
     "text": [
      "I0415 10:06:41.911771 139775581214528 basic_session_run_hooks.py:692] global_step/sec: 527.702\n"
     ]
    },
    {
     "name": "stdout",
     "output_type": "stream",
     "text": [
      "INFO:tensorflow:loss = 31.442234, step = 2801 (0.190 sec)\n"
     ]
    },
    {
     "name": "stderr",
     "output_type": "stream",
     "text": [
      "I0415 10:06:41.915869 139775581214528 basic_session_run_hooks.py:260] loss = 31.442234, step = 2801 (0.190 sec)\n"
     ]
    },
    {
     "name": "stdout",
     "output_type": "stream",
     "text": [
      "INFO:tensorflow:global_step/sec: 474.763\n"
     ]
    },
    {
     "name": "stderr",
     "output_type": "stream",
     "text": [
      "I0415 10:06:42.122352 139775581214528 basic_session_run_hooks.py:692] global_step/sec: 474.763\n"
     ]
    },
    {
     "name": "stdout",
     "output_type": "stream",
     "text": [
      "INFO:tensorflow:loss = 27.918598, step = 2901 (0.210 sec)\n"
     ]
    },
    {
     "name": "stderr",
     "output_type": "stream",
     "text": [
      "I0415 10:06:42.125755 139775581214528 basic_session_run_hooks.py:260] loss = 27.918598, step = 2901 (0.210 sec)\n"
     ]
    },
    {
     "name": "stdout",
     "output_type": "stream",
     "text": [
      "INFO:tensorflow:Saving checkpoints for 3000 into blerssi/model.ckpt.\n"
     ]
    },
    {
     "name": "stderr",
     "output_type": "stream",
     "text": [
      "I0415 10:06:42.314111 139775581214528 basic_session_run_hooks.py:606] Saving checkpoints for 3000 into blerssi/model.ckpt.\n"
     ]
    },
    {
     "name": "stdout",
     "output_type": "stream",
     "text": [
      "INFO:tensorflow:Calling model_fn.\n"
     ]
    },
    {
     "name": "stderr",
     "output_type": "stream",
     "text": [
      "I0415 10:06:42.397590 139775581214528 estimator.py:1148] Calling model_fn.\n"
     ]
    },
    {
     "name": "stdout",
     "output_type": "stream",
     "text": [
      "INFO:tensorflow:Done calling model_fn.\n"
     ]
    },
    {
     "name": "stderr",
     "output_type": "stream",
     "text": [
      "I0415 10:06:42.583333 139775581214528 estimator.py:1150] Done calling model_fn.\n"
     ]
    },
    {
     "name": "stdout",
     "output_type": "stream",
     "text": [
      "INFO:tensorflow:Starting evaluation at 2020-04-15T10:06:42Z\n"
     ]
    },
    {
     "name": "stderr",
     "output_type": "stream",
     "text": [
      "I0415 10:06:42.611394 139775581214528 evaluation.py:255] Starting evaluation at 2020-04-15T10:06:42Z\n"
     ]
    },
    {
     "name": "stdout",
     "output_type": "stream",
     "text": [
      "INFO:tensorflow:Graph was finalized.\n"
     ]
    },
    {
     "name": "stderr",
     "output_type": "stream",
     "text": [
      "I0415 10:06:42.702434 139775581214528 monitored_session.py:240] Graph was finalized.\n"
     ]
    },
    {
     "name": "stdout",
     "output_type": "stream",
     "text": [
      "INFO:tensorflow:Restoring parameters from blerssi/model.ckpt-3000\n"
     ]
    },
    {
     "name": "stderr",
     "output_type": "stream",
     "text": [
      "I0415 10:06:42.705545 139775581214528 saver.py:1284] Restoring parameters from blerssi/model.ckpt-3000\n"
     ]
    },
    {
     "name": "stdout",
     "output_type": "stream",
     "text": [
      "INFO:tensorflow:Running local_init_op.\n"
     ]
    },
    {
     "name": "stderr",
     "output_type": "stream",
     "text": [
      "I0415 10:06:42.741626 139775581214528 session_manager.py:500] Running local_init_op.\n"
     ]
    },
    {
     "name": "stdout",
     "output_type": "stream",
     "text": [
      "INFO:tensorflow:Done running local_init_op.\n"
     ]
    },
    {
     "name": "stderr",
     "output_type": "stream",
     "text": [
      "I0415 10:06:42.753113 139775581214528 session_manager.py:502] Done running local_init_op.\n"
     ]
    },
    {
     "name": "stdout",
     "output_type": "stream",
     "text": [
      "INFO:tensorflow:Evaluation [1/1]\n"
     ]
    },
    {
     "name": "stderr",
     "output_type": "stream",
     "text": [
      "I0415 10:06:42.836569 139775581214528 evaluation.py:167] Evaluation [1/1]\n"
     ]
    },
    {
     "name": "stdout",
     "output_type": "stream",
     "text": [
      "INFO:tensorflow:Finished evaluation at 2020-04-15-10:06:42\n"
     ]
    },
    {
     "name": "stderr",
     "output_type": "stream",
     "text": [
      "I0415 10:06:42.869988 139775581214528 evaluation.py:275] Finished evaluation at 2020-04-15-10:06:42\n"
     ]
    },
    {
     "name": "stdout",
     "output_type": "stream",
     "text": [
      "INFO:tensorflow:Saving dict for global step 3000: accuracy = 0.083333336, average_loss = 2.6226552, global_step = 3000, loss = 31.471863\n"
     ]
    },
    {
     "name": "stderr",
     "output_type": "stream",
     "text": [
      "I0415 10:06:42.871615 139775581214528 estimator.py:2049] Saving dict for global step 3000: accuracy = 0.083333336, average_loss = 2.6226552, global_step = 3000, loss = 31.471863\n"
     ]
    },
    {
     "name": "stdout",
     "output_type": "stream",
     "text": [
      "INFO:tensorflow:Saving 'checkpoint_path' summary for global step 3000: blerssi/model.ckpt-3000\n"
     ]
    },
    {
     "name": "stderr",
     "output_type": "stream",
     "text": [
      "I0415 10:06:42.873526 139775581214528 estimator.py:2109] Saving 'checkpoint_path' summary for global step 3000: blerssi/model.ckpt-3000\n"
     ]
    },
    {
     "name": "stdout",
     "output_type": "stream",
     "text": [
      "INFO:tensorflow:global_step/sec: 131.365\n"
     ]
    },
    {
     "name": "stderr",
     "output_type": "stream",
     "text": [
      "I0415 10:06:42.883472 139775581214528 basic_session_run_hooks.py:692] global_step/sec: 131.365\n"
     ]
    },
    {
     "name": "stdout",
     "output_type": "stream",
     "text": [
      "INFO:tensorflow:loss = 29.659958, step = 3001 (0.760 sec)\n"
     ]
    },
    {
     "name": "stderr",
     "output_type": "stream",
     "text": [
      "I0415 10:06:42.885925 139775581214528 basic_session_run_hooks.py:260] loss = 29.659958, step = 3001 (0.760 sec)\n"
     ]
    },
    {
     "name": "stdout",
     "output_type": "stream",
     "text": [
      "INFO:tensorflow:global_step/sec: 550.684\n"
     ]
    },
    {
     "name": "stderr",
     "output_type": "stream",
     "text": [
      "I0415 10:06:43.065159 139775581214528 basic_session_run_hooks.py:692] global_step/sec: 550.684\n"
     ]
    },
    {
     "name": "stdout",
     "output_type": "stream",
     "text": [
      "INFO:tensorflow:loss = 27.995087, step = 3101 (0.183 sec)\n"
     ]
    },
    {
     "name": "stderr",
     "output_type": "stream",
     "text": [
      "I0415 10:06:43.068524 139775581214528 basic_session_run_hooks.py:260] loss = 27.995087, step = 3101 (0.183 sec)\n"
     ]
    },
    {
     "name": "stdout",
     "output_type": "stream",
     "text": [
      "INFO:tensorflow:global_step/sec: 593.533\n"
     ]
    },
    {
     "name": "stderr",
     "output_type": "stream",
     "text": [
      "I0415 10:06:43.233590 139775581214528 basic_session_run_hooks.py:692] global_step/sec: 593.533\n"
     ]
    },
    {
     "name": "stdout",
     "output_type": "stream",
     "text": [
      "INFO:tensorflow:loss = 32.0862, step = 3201 (0.168 sec)\n"
     ]
    },
    {
     "name": "stderr",
     "output_type": "stream",
     "text": [
      "I0415 10:06:43.236718 139775581214528 basic_session_run_hooks.py:260] loss = 32.0862, step = 3201 (0.168 sec)\n"
     ]
    },
    {
     "name": "stdout",
     "output_type": "stream",
     "text": [
      "INFO:tensorflow:global_step/sec: 554.24\n"
     ]
    },
    {
     "name": "stderr",
     "output_type": "stream",
     "text": [
      "I0415 10:06:43.414320 139775581214528 basic_session_run_hooks.py:692] global_step/sec: 554.24\n"
     ]
    },
    {
     "name": "stdout",
     "output_type": "stream",
     "text": [
      "INFO:tensorflow:loss = 30.66685, step = 3301 (0.183 sec)\n"
     ]
    },
    {
     "name": "stderr",
     "output_type": "stream",
     "text": [
      "I0415 10:06:43.420045 139775581214528 basic_session_run_hooks.py:260] loss = 30.66685, step = 3301 (0.183 sec)\n"
     ]
    },
    {
     "name": "stdout",
     "output_type": "stream",
     "text": [
      "INFO:tensorflow:global_step/sec: 530.327\n"
     ]
    },
    {
     "name": "stderr",
     "output_type": "stream",
     "text": [
      "I0415 10:06:43.602590 139775581214528 basic_session_run_hooks.py:692] global_step/sec: 530.327\n"
     ]
    },
    {
     "name": "stdout",
     "output_type": "stream",
     "text": [
      "INFO:tensorflow:loss = 31.613325, step = 3401 (0.186 sec)\n"
     ]
    },
    {
     "name": "stderr",
     "output_type": "stream",
     "text": [
      "I0415 10:06:43.606120 139775581214528 basic_session_run_hooks.py:260] loss = 31.613325, step = 3401 (0.186 sec)\n"
     ]
    },
    {
     "name": "stdout",
     "output_type": "stream",
     "text": [
      "INFO:tensorflow:global_step/sec: 522.379\n"
     ]
    },
    {
     "name": "stderr",
     "output_type": "stream",
     "text": [
      "I0415 10:06:43.794023 139775581214528 basic_session_run_hooks.py:692] global_step/sec: 522.379\n"
     ]
    },
    {
     "name": "stdout",
     "output_type": "stream",
     "text": [
      "INFO:tensorflow:loss = 34.05999, step = 3501 (0.193 sec)\n"
     ]
    },
    {
     "name": "stderr",
     "output_type": "stream",
     "text": [
      "I0415 10:06:43.799131 139775581214528 basic_session_run_hooks.py:260] loss = 34.05999, step = 3501 (0.193 sec)\n"
     ]
    },
    {
     "name": "stdout",
     "output_type": "stream",
     "text": [
      "INFO:tensorflow:global_step/sec: 605.656\n"
     ]
    },
    {
     "name": "stderr",
     "output_type": "stream",
     "text": [
      "I0415 10:06:43.959161 139775581214528 basic_session_run_hooks.py:692] global_step/sec: 605.656\n"
     ]
    },
    {
     "name": "stdout",
     "output_type": "stream",
     "text": [
      "INFO:tensorflow:loss = 30.325912, step = 3601 (0.164 sec)\n"
     ]
    },
    {
     "name": "stderr",
     "output_type": "stream",
     "text": [
      "I0415 10:06:43.962894 139775581214528 basic_session_run_hooks.py:260] loss = 30.325912, step = 3601 (0.164 sec)\n"
     ]
    },
    {
     "name": "stdout",
     "output_type": "stream",
     "text": [
      "INFO:tensorflow:global_step/sec: 583.391\n"
     ]
    },
    {
     "name": "stderr",
     "output_type": "stream",
     "text": [
      "I0415 10:06:44.130531 139775581214528 basic_session_run_hooks.py:692] global_step/sec: 583.391\n"
     ]
    },
    {
     "name": "stdout",
     "output_type": "stream",
     "text": [
      "INFO:tensorflow:loss = 26.471485, step = 3701 (0.171 sec)\n"
     ]
    },
    {
     "name": "stderr",
     "output_type": "stream",
     "text": [
      "I0415 10:06:44.133925 139775581214528 basic_session_run_hooks.py:260] loss = 26.471485, step = 3701 (0.171 sec)\n"
     ]
    },
    {
     "name": "stdout",
     "output_type": "stream",
     "text": [
      "INFO:tensorflow:global_step/sec: 535.056\n"
     ]
    },
    {
     "name": "stderr",
     "output_type": "stream",
     "text": [
      "I0415 10:06:44.317449 139775581214528 basic_session_run_hooks.py:692] global_step/sec: 535.056\n"
     ]
    },
    {
     "name": "stdout",
     "output_type": "stream",
     "text": [
      "INFO:tensorflow:loss = 24.200989, step = 3801 (0.187 sec)\n"
     ]
    },
    {
     "name": "stderr",
     "output_type": "stream",
     "text": [
      "I0415 10:06:44.321155 139775581214528 basic_session_run_hooks.py:260] loss = 24.200989, step = 3801 (0.187 sec)\n"
     ]
    },
    {
     "name": "stdout",
     "output_type": "stream",
     "text": [
      "INFO:tensorflow:global_step/sec: 592.569\n"
     ]
    },
    {
     "name": "stderr",
     "output_type": "stream",
     "text": [
      "I0415 10:06:44.486192 139775581214528 basic_session_run_hooks.py:692] global_step/sec: 592.569\n"
     ]
    },
    {
     "name": "stdout",
     "output_type": "stream",
     "text": [
      "INFO:tensorflow:loss = 25.733587, step = 3901 (0.168 sec)\n"
     ]
    },
    {
     "name": "stderr",
     "output_type": "stream",
     "text": [
      "I0415 10:06:44.488993 139775581214528 basic_session_run_hooks.py:260] loss = 25.733587, step = 3901 (0.168 sec)\n"
     ]
    },
    {
     "name": "stdout",
     "output_type": "stream",
     "text": [
      "INFO:tensorflow:Saving checkpoints for 4000 into blerssi/model.ckpt.\n"
     ]
    },
    {
     "name": "stderr",
     "output_type": "stream",
     "text": [
      "I0415 10:06:44.646739 139775581214528 basic_session_run_hooks.py:606] Saving checkpoints for 4000 into blerssi/model.ckpt.\n"
     ]
    },
    {
     "name": "stdout",
     "output_type": "stream",
     "text": [
      "INFO:tensorflow:Calling model_fn.\n"
     ]
    },
    {
     "name": "stderr",
     "output_type": "stream",
     "text": [
      "I0415 10:06:44.728807 139775581214528 estimator.py:1148] Calling model_fn.\n"
     ]
    },
    {
     "name": "stdout",
     "output_type": "stream",
     "text": [
      "INFO:tensorflow:Done calling model_fn.\n"
     ]
    },
    {
     "name": "stderr",
     "output_type": "stream",
     "text": [
      "I0415 10:06:44.901948 139775581214528 estimator.py:1150] Done calling model_fn.\n"
     ]
    },
    {
     "name": "stdout",
     "output_type": "stream",
     "text": [
      "INFO:tensorflow:Starting evaluation at 2020-04-15T10:06:44Z\n"
     ]
    },
    {
     "name": "stderr",
     "output_type": "stream",
     "text": [
      "I0415 10:06:44.916579 139775581214528 evaluation.py:255] Starting evaluation at 2020-04-15T10:06:44Z\n"
     ]
    },
    {
     "name": "stdout",
     "output_type": "stream",
     "text": [
      "INFO:tensorflow:Graph was finalized.\n"
     ]
    },
    {
     "name": "stderr",
     "output_type": "stream",
     "text": [
      "I0415 10:06:44.989173 139775581214528 monitored_session.py:240] Graph was finalized.\n"
     ]
    },
    {
     "name": "stdout",
     "output_type": "stream",
     "text": [
      "INFO:tensorflow:Restoring parameters from blerssi/model.ckpt-4000\n"
     ]
    },
    {
     "name": "stderr",
     "output_type": "stream",
     "text": [
      "I0415 10:06:44.992447 139775581214528 saver.py:1284] Restoring parameters from blerssi/model.ckpt-4000\n"
     ]
    },
    {
     "name": "stdout",
     "output_type": "stream",
     "text": [
      "INFO:tensorflow:Running local_init_op.\n"
     ]
    },
    {
     "name": "stderr",
     "output_type": "stream",
     "text": [
      "I0415 10:06:45.027931 139775581214528 session_manager.py:500] Running local_init_op.\n"
     ]
    },
    {
     "name": "stdout",
     "output_type": "stream",
     "text": [
      "INFO:tensorflow:Done running local_init_op.\n"
     ]
    },
    {
     "name": "stderr",
     "output_type": "stream",
     "text": [
      "I0415 10:06:45.039614 139775581214528 session_manager.py:502] Done running local_init_op.\n"
     ]
    },
    {
     "name": "stdout",
     "output_type": "stream",
     "text": [
      "INFO:tensorflow:Evaluation [1/1]\n"
     ]
    },
    {
     "name": "stderr",
     "output_type": "stream",
     "text": [
      "I0415 10:06:45.109982 139775581214528 evaluation.py:167] Evaluation [1/1]\n"
     ]
    },
    {
     "name": "stdout",
     "output_type": "stream",
     "text": [
      "INFO:tensorflow:Finished evaluation at 2020-04-15-10:06:45\n"
     ]
    },
    {
     "name": "stderr",
     "output_type": "stream",
     "text": [
      "I0415 10:06:45.150278 139775581214528 evaluation.py:275] Finished evaluation at 2020-04-15-10:06:45\n"
     ]
    },
    {
     "name": "stdout",
     "output_type": "stream",
     "text": [
      "INFO:tensorflow:Saving dict for global step 4000: accuracy = 0.16666667, average_loss = 2.6111245, global_step = 4000, loss = 31.333494\n"
     ]
    },
    {
     "name": "stderr",
     "output_type": "stream",
     "text": [
      "I0415 10:06:45.152436 139775581214528 estimator.py:2049] Saving dict for global step 4000: accuracy = 0.16666667, average_loss = 2.6111245, global_step = 4000, loss = 31.333494\n"
     ]
    },
    {
     "name": "stdout",
     "output_type": "stream",
     "text": [
      "INFO:tensorflow:Saving 'checkpoint_path' summary for global step 4000: blerssi/model.ckpt-4000\n"
     ]
    },
    {
     "name": "stderr",
     "output_type": "stream",
     "text": [
      "I0415 10:06:45.155707 139775581214528 estimator.py:2109] Saving 'checkpoint_path' summary for global step 4000: blerssi/model.ckpt-4000\n"
     ]
    },
    {
     "name": "stdout",
     "output_type": "stream",
     "text": [
      "INFO:tensorflow:global_step/sec: 147.523\n"
     ]
    },
    {
     "name": "stderr",
     "output_type": "stream",
     "text": [
      "I0415 10:06:45.164026 139775581214528 basic_session_run_hooks.py:692] global_step/sec: 147.523\n"
     ]
    },
    {
     "name": "stdout",
     "output_type": "stream",
     "text": [
      "INFO:tensorflow:loss = 29.323963, step = 4001 (0.678 sec)\n"
     ]
    },
    {
     "name": "stderr",
     "output_type": "stream",
     "text": [
      "I0415 10:06:45.166588 139775581214528 basic_session_run_hooks.py:260] loss = 29.323963, step = 4001 (0.678 sec)\n"
     ]
    },
    {
     "name": "stdout",
     "output_type": "stream",
     "text": [
      "INFO:tensorflow:global_step/sec: 635.932\n"
     ]
    },
    {
     "name": "stderr",
     "output_type": "stream",
     "text": [
      "I0415 10:06:45.321233 139775581214528 basic_session_run_hooks.py:692] global_step/sec: 635.932\n"
     ]
    },
    {
     "name": "stdout",
     "output_type": "stream",
     "text": [
      "INFO:tensorflow:loss = 27.66123, step = 4101 (0.157 sec)\n"
     ]
    },
    {
     "name": "stderr",
     "output_type": "stream",
     "text": [
      "I0415 10:06:45.323570 139775581214528 basic_session_run_hooks.py:260] loss = 27.66123, step = 4101 (0.157 sec)\n"
     ]
    },
    {
     "name": "stdout",
     "output_type": "stream",
     "text": [
      "INFO:tensorflow:global_step/sec: 671.955\n"
     ]
    },
    {
     "name": "stderr",
     "output_type": "stream",
     "text": [
      "I0415 10:06:45.470129 139775581214528 basic_session_run_hooks.py:692] global_step/sec: 671.955\n"
     ]
    },
    {
     "name": "stdout",
     "output_type": "stream",
     "text": [
      "INFO:tensorflow:loss = 27.373827, step = 4201 (0.150 sec)\n"
     ]
    },
    {
     "name": "stderr",
     "output_type": "stream",
     "text": [
      "I0415 10:06:45.473094 139775581214528 basic_session_run_hooks.py:260] loss = 27.373827, step = 4201 (0.150 sec)\n"
     ]
    },
    {
     "name": "stdout",
     "output_type": "stream",
     "text": [
      "INFO:tensorflow:global_step/sec: 583.219\n"
     ]
    },
    {
     "name": "stderr",
     "output_type": "stream",
     "text": [
      "I0415 10:06:45.641590 139775581214528 basic_session_run_hooks.py:692] global_step/sec: 583.219\n"
     ]
    },
    {
     "name": "stdout",
     "output_type": "stream",
     "text": [
      "INFO:tensorflow:loss = 30.868675, step = 4301 (0.172 sec)\n"
     ]
    },
    {
     "name": "stderr",
     "output_type": "stream",
     "text": [
      "I0415 10:06:45.644812 139775581214528 basic_session_run_hooks.py:260] loss = 30.868675, step = 4301 (0.172 sec)\n"
     ]
    },
    {
     "name": "stdout",
     "output_type": "stream",
     "text": [
      "INFO:tensorflow:global_step/sec: 551.556\n"
     ]
    },
    {
     "name": "stderr",
     "output_type": "stream",
     "text": [
      "I0415 10:06:45.822879 139775581214528 basic_session_run_hooks.py:692] global_step/sec: 551.556\n"
     ]
    },
    {
     "name": "stdout",
     "output_type": "stream",
     "text": [
      "INFO:tensorflow:loss = 28.268318, step = 4401 (0.181 sec)\n"
     ]
    },
    {
     "name": "stderr",
     "output_type": "stream",
     "text": [
      "I0415 10:06:45.826266 139775581214528 basic_session_run_hooks.py:260] loss = 28.268318, step = 4401 (0.181 sec)\n"
     ]
    },
    {
     "name": "stdout",
     "output_type": "stream",
     "text": [
      "INFO:tensorflow:global_step/sec: 505.335\n"
     ]
    },
    {
     "name": "stderr",
     "output_type": "stream",
     "text": [
      "I0415 10:06:46.020819 139775581214528 basic_session_run_hooks.py:692] global_step/sec: 505.335\n"
     ]
    },
    {
     "name": "stdout",
     "output_type": "stream",
     "text": [
      "INFO:tensorflow:loss = 28.839924, step = 4501 (0.198 sec)\n"
     ]
    },
    {
     "name": "stderr",
     "output_type": "stream",
     "text": [
      "I0415 10:06:46.023943 139775581214528 basic_session_run_hooks.py:260] loss = 28.839924, step = 4501 (0.198 sec)\n"
     ]
    },
    {
     "name": "stdout",
     "output_type": "stream",
     "text": [
      "INFO:tensorflow:global_step/sec: 530.172\n"
     ]
    },
    {
     "name": "stderr",
     "output_type": "stream",
     "text": [
      "I0415 10:06:46.209399 139775581214528 basic_session_run_hooks.py:692] global_step/sec: 530.172\n"
     ]
    },
    {
     "name": "stdout",
     "output_type": "stream",
     "text": [
      "INFO:tensorflow:loss = 31.13188, step = 4601 (0.189 sec)\n"
     ]
    },
    {
     "name": "stderr",
     "output_type": "stream",
     "text": [
      "I0415 10:06:46.212922 139775581214528 basic_session_run_hooks.py:260] loss = 31.13188, step = 4601 (0.189 sec)\n"
     ]
    },
    {
     "name": "stdout",
     "output_type": "stream",
     "text": [
      "INFO:tensorflow:global_step/sec: 559.339\n"
     ]
    },
    {
     "name": "stderr",
     "output_type": "stream",
     "text": [
      "I0415 10:06:46.388181 139775581214528 basic_session_run_hooks.py:692] global_step/sec: 559.339\n"
     ]
    },
    {
     "name": "stdout",
     "output_type": "stream",
     "text": [
      "INFO:tensorflow:loss = 28.287926, step = 4701 (0.178 sec)\n"
     ]
    },
    {
     "name": "stderr",
     "output_type": "stream",
     "text": [
      "I0415 10:06:46.391254 139775581214528 basic_session_run_hooks.py:260] loss = 28.287926, step = 4701 (0.178 sec)\n"
     ]
    },
    {
     "name": "stdout",
     "output_type": "stream",
     "text": [
      "INFO:tensorflow:global_step/sec: 534.746\n"
     ]
    },
    {
     "name": "stderr",
     "output_type": "stream",
     "text": [
      "I0415 10:06:46.575261 139775581214528 basic_session_run_hooks.py:692] global_step/sec: 534.746\n"
     ]
    },
    {
     "name": "stdout",
     "output_type": "stream",
     "text": [
      "INFO:tensorflow:loss = 31.326286, step = 4801 (0.188 sec)\n"
     ]
    },
    {
     "name": "stderr",
     "output_type": "stream",
     "text": [
      "I0415 10:06:46.579083 139775581214528 basic_session_run_hooks.py:260] loss = 31.326286, step = 4801 (0.188 sec)\n"
     ]
    },
    {
     "name": "stdout",
     "output_type": "stream",
     "text": [
      "INFO:tensorflow:global_step/sec: 509.611\n"
     ]
    },
    {
     "name": "stderr",
     "output_type": "stream",
     "text": [
      "I0415 10:06:46.771445 139775581214528 basic_session_run_hooks.py:692] global_step/sec: 509.611\n"
     ]
    },
    {
     "name": "stdout",
     "output_type": "stream",
     "text": [
      "INFO:tensorflow:loss = 22.699284, step = 4901 (0.196 sec)\n"
     ]
    },
    {
     "name": "stderr",
     "output_type": "stream",
     "text": [
      "I0415 10:06:46.774924 139775581214528 basic_session_run_hooks.py:260] loss = 22.699284, step = 4901 (0.196 sec)\n"
     ]
    },
    {
     "name": "stdout",
     "output_type": "stream",
     "text": [
      "INFO:tensorflow:Saving checkpoints for 5000 into blerssi/model.ckpt.\n"
     ]
    },
    {
     "name": "stderr",
     "output_type": "stream",
     "text": [
      "I0415 10:06:46.953903 139775581214528 basic_session_run_hooks.py:606] Saving checkpoints for 5000 into blerssi/model.ckpt.\n"
     ]
    },
    {
     "name": "stdout",
     "output_type": "stream",
     "text": [
      "INFO:tensorflow:Calling model_fn.\n"
     ]
    },
    {
     "name": "stderr",
     "output_type": "stream",
     "text": [
      "I0415 10:06:47.030952 139775581214528 estimator.py:1148] Calling model_fn.\n"
     ]
    },
    {
     "name": "stdout",
     "output_type": "stream",
     "text": [
      "INFO:tensorflow:Done calling model_fn.\n"
     ]
    },
    {
     "name": "stderr",
     "output_type": "stream",
     "text": [
      "I0415 10:06:47.205489 139775581214528 estimator.py:1150] Done calling model_fn.\n"
     ]
    },
    {
     "name": "stdout",
     "output_type": "stream",
     "text": [
      "INFO:tensorflow:Starting evaluation at 2020-04-15T10:06:47Z\n"
     ]
    },
    {
     "name": "stderr",
     "output_type": "stream",
     "text": [
      "I0415 10:06:47.220574 139775581214528 evaluation.py:255] Starting evaluation at 2020-04-15T10:06:47Z\n"
     ]
    },
    {
     "name": "stdout",
     "output_type": "stream",
     "text": [
      "INFO:tensorflow:Graph was finalized.\n"
     ]
    },
    {
     "name": "stderr",
     "output_type": "stream",
     "text": [
      "I0415 10:06:47.294062 139775581214528 monitored_session.py:240] Graph was finalized.\n"
     ]
    },
    {
     "name": "stdout",
     "output_type": "stream",
     "text": [
      "INFO:tensorflow:Restoring parameters from blerssi/model.ckpt-5000\n"
     ]
    },
    {
     "name": "stderr",
     "output_type": "stream",
     "text": [
      "I0415 10:06:47.297023 139775581214528 saver.py:1284] Restoring parameters from blerssi/model.ckpt-5000\n"
     ]
    },
    {
     "name": "stdout",
     "output_type": "stream",
     "text": [
      "INFO:tensorflow:Running local_init_op.\n"
     ]
    },
    {
     "name": "stderr",
     "output_type": "stream",
     "text": [
      "I0415 10:06:47.329689 139775581214528 session_manager.py:500] Running local_init_op.\n"
     ]
    },
    {
     "name": "stdout",
     "output_type": "stream",
     "text": [
      "INFO:tensorflow:Done running local_init_op.\n"
     ]
    },
    {
     "name": "stderr",
     "output_type": "stream",
     "text": [
      "I0415 10:06:47.340832 139775581214528 session_manager.py:502] Done running local_init_op.\n"
     ]
    },
    {
     "name": "stdout",
     "output_type": "stream",
     "text": [
      "INFO:tensorflow:Evaluation [1/1]\n"
     ]
    },
    {
     "name": "stderr",
     "output_type": "stream",
     "text": [
      "I0415 10:06:47.433429 139775581214528 evaluation.py:167] Evaluation [1/1]\n"
     ]
    },
    {
     "name": "stdout",
     "output_type": "stream",
     "text": [
      "INFO:tensorflow:Finished evaluation at 2020-04-15-10:06:47\n"
     ]
    },
    {
     "name": "stderr",
     "output_type": "stream",
     "text": [
      "I0415 10:06:47.477674 139775581214528 evaluation.py:275] Finished evaluation at 2020-04-15-10:06:47\n"
     ]
    },
    {
     "name": "stdout",
     "output_type": "stream",
     "text": [
      "INFO:tensorflow:Saving dict for global step 5000: accuracy = 0.16666667, average_loss = 3.3898468, global_step = 5000, loss = 40.67816\n"
     ]
    },
    {
     "name": "stderr",
     "output_type": "stream",
     "text": [
      "I0415 10:06:47.479631 139775581214528 estimator.py:2049] Saving dict for global step 5000: accuracy = 0.16666667, average_loss = 3.3898468, global_step = 5000, loss = 40.67816\n"
     ]
    },
    {
     "name": "stdout",
     "output_type": "stream",
     "text": [
      "INFO:tensorflow:Saving 'checkpoint_path' summary for global step 5000: blerssi/model.ckpt-5000\n"
     ]
    },
    {
     "name": "stderr",
     "output_type": "stream",
     "text": [
      "I0415 10:06:47.482159 139775581214528 estimator.py:2109] Saving 'checkpoint_path' summary for global step 5000: blerssi/model.ckpt-5000\n"
     ]
    },
    {
     "name": "stdout",
     "output_type": "stream",
     "text": [
      "INFO:tensorflow:Performing the final export in the end of training.\n"
     ]
    },
    {
     "name": "stderr",
     "output_type": "stream",
     "text": [
      "I0415 10:06:47.485418 139775581214528 exporter.py:410] Performing the final export in the end of training.\n"
     ]
    },
    {
     "name": "stdout",
     "output_type": "stream",
     "text": [
      "INFO:tensorflow:Calling model_fn.\n"
     ]
    },
    {
     "name": "stderr",
     "output_type": "stream",
     "text": [
      "I0415 10:06:47.509186 139775581214528 estimator.py:1148] Calling model_fn.\n"
     ]
    },
    {
     "name": "stdout",
     "output_type": "stream",
     "text": [
      "INFO:tensorflow:Done calling model_fn.\n"
     ]
    },
    {
     "name": "stderr",
     "output_type": "stream",
     "text": [
      "I0415 10:06:47.636313 139775581214528 estimator.py:1150] Done calling model_fn.\n"
     ]
    },
    {
     "name": "stdout",
     "output_type": "stream",
     "text": [
      "INFO:tensorflow:Signatures INCLUDED in export for Classify: None\n"
     ]
    },
    {
     "name": "stderr",
     "output_type": "stream",
     "text": [
      "I0415 10:06:47.638519 139775581214528 export_utils.py:170] Signatures INCLUDED in export for Classify: None\n"
     ]
    },
    {
     "name": "stdout",
     "output_type": "stream",
     "text": [
      "INFO:tensorflow:Signatures INCLUDED in export for Regress: None\n"
     ]
    },
    {
     "name": "stderr",
     "output_type": "stream",
     "text": [
      "I0415 10:06:47.641283 139775581214528 export_utils.py:170] Signatures INCLUDED in export for Regress: None\n"
     ]
    },
    {
     "name": "stdout",
     "output_type": "stream",
     "text": [
      "INFO:tensorflow:Signatures INCLUDED in export for Predict: ['predict']\n"
     ]
    },
    {
     "name": "stderr",
     "output_type": "stream",
     "text": [
      "I0415 10:06:47.642415 139775581214528 export_utils.py:170] Signatures INCLUDED in export for Predict: ['predict']\n"
     ]
    },
    {
     "name": "stdout",
     "output_type": "stream",
     "text": [
      "INFO:tensorflow:Signatures INCLUDED in export for Train: None\n"
     ]
    },
    {
     "name": "stderr",
     "output_type": "stream",
     "text": [
      "I0415 10:06:47.643504 139775581214528 export_utils.py:170] Signatures INCLUDED in export for Train: None\n"
     ]
    },
    {
     "name": "stdout",
     "output_type": "stream",
     "text": [
      "INFO:tensorflow:Signatures INCLUDED in export for Eval: None\n"
     ]
    },
    {
     "name": "stderr",
     "output_type": "stream",
     "text": [
      "I0415 10:06:47.644791 139775581214528 export_utils.py:170] Signatures INCLUDED in export for Eval: None\n"
     ]
    },
    {
     "name": "stdout",
     "output_type": "stream",
     "text": [
      "INFO:tensorflow:Signatures EXCLUDED from export because they cannot be be served via TensorFlow Serving APIs:\n"
     ]
    },
    {
     "name": "stderr",
     "output_type": "stream",
     "text": [
      "I0415 10:06:47.645858 139775581214528 export_utils.py:173] Signatures EXCLUDED from export because they cannot be be served via TensorFlow Serving APIs:\n"
     ]
    },
    {
     "name": "stdout",
     "output_type": "stream",
     "text": [
      "INFO:tensorflow:'serving_default' : Classification input must be a single string Tensor; got {'b3001': <tf.Tensor 'Placeholder:0' shape=(?, 1) dtype=float32>, 'b3002': <tf.Tensor 'Placeholder_1:0' shape=(?, 1) dtype=float32>, 'b3003': <tf.Tensor 'Placeholder_2:0' shape=(?, 1) dtype=float32>, 'b3004': <tf.Tensor 'Placeholder_3:0' shape=(?, 1) dtype=float32>, 'b3005': <tf.Tensor 'Placeholder_4:0' shape=(?, 1) dtype=float32>, 'b3006': <tf.Tensor 'Placeholder_5:0' shape=(?, 1) dtype=float32>, 'b3007': <tf.Tensor 'Placeholder_6:0' shape=(?, 1) dtype=float32>, 'b3008': <tf.Tensor 'Placeholder_7:0' shape=(?, 1) dtype=float32>, 'b3009': <tf.Tensor 'Placeholder_8:0' shape=(?, 1) dtype=float32>, 'b3010': <tf.Tensor 'Placeholder_9:0' shape=(?, 1) dtype=float32>, 'b3011': <tf.Tensor 'Placeholder_10:0' shape=(?, 1) dtype=float32>, 'b3012': <tf.Tensor 'Placeholder_11:0' shape=(?, 1) dtype=float32>, 'b3013': <tf.Tensor 'Placeholder_12:0' shape=(?, 1) dtype=float32>}\n"
     ]
    },
    {
     "name": "stderr",
     "output_type": "stream",
     "text": [
      "I0415 10:06:47.646966 139775581214528 export_utils.py:176] 'serving_default' : Classification input must be a single string Tensor; got {'b3001': <tf.Tensor 'Placeholder:0' shape=(?, 1) dtype=float32>, 'b3002': <tf.Tensor 'Placeholder_1:0' shape=(?, 1) dtype=float32>, 'b3003': <tf.Tensor 'Placeholder_2:0' shape=(?, 1) dtype=float32>, 'b3004': <tf.Tensor 'Placeholder_3:0' shape=(?, 1) dtype=float32>, 'b3005': <tf.Tensor 'Placeholder_4:0' shape=(?, 1) dtype=float32>, 'b3006': <tf.Tensor 'Placeholder_5:0' shape=(?, 1) dtype=float32>, 'b3007': <tf.Tensor 'Placeholder_6:0' shape=(?, 1) dtype=float32>, 'b3008': <tf.Tensor 'Placeholder_7:0' shape=(?, 1) dtype=float32>, 'b3009': <tf.Tensor 'Placeholder_8:0' shape=(?, 1) dtype=float32>, 'b3010': <tf.Tensor 'Placeholder_9:0' shape=(?, 1) dtype=float32>, 'b3011': <tf.Tensor 'Placeholder_10:0' shape=(?, 1) dtype=float32>, 'b3012': <tf.Tensor 'Placeholder_11:0' shape=(?, 1) dtype=float32>, 'b3013': <tf.Tensor 'Placeholder_12:0' shape=(?, 1) dtype=float32>}\n"
     ]
    },
    {
     "name": "stdout",
     "output_type": "stream",
     "text": [
      "INFO:tensorflow:'classification' : Classification input must be a single string Tensor; got {'b3001': <tf.Tensor 'Placeholder:0' shape=(?, 1) dtype=float32>, 'b3002': <tf.Tensor 'Placeholder_1:0' shape=(?, 1) dtype=float32>, 'b3003': <tf.Tensor 'Placeholder_2:0' shape=(?, 1) dtype=float32>, 'b3004': <tf.Tensor 'Placeholder_3:0' shape=(?, 1) dtype=float32>, 'b3005': <tf.Tensor 'Placeholder_4:0' shape=(?, 1) dtype=float32>, 'b3006': <tf.Tensor 'Placeholder_5:0' shape=(?, 1) dtype=float32>, 'b3007': <tf.Tensor 'Placeholder_6:0' shape=(?, 1) dtype=float32>, 'b3008': <tf.Tensor 'Placeholder_7:0' shape=(?, 1) dtype=float32>, 'b3009': <tf.Tensor 'Placeholder_8:0' shape=(?, 1) dtype=float32>, 'b3010': <tf.Tensor 'Placeholder_9:0' shape=(?, 1) dtype=float32>, 'b3011': <tf.Tensor 'Placeholder_10:0' shape=(?, 1) dtype=float32>, 'b3012': <tf.Tensor 'Placeholder_11:0' shape=(?, 1) dtype=float32>, 'b3013': <tf.Tensor 'Placeholder_12:0' shape=(?, 1) dtype=float32>}\n"
     ]
    },
    {
     "name": "stderr",
     "output_type": "stream",
     "text": [
      "I0415 10:06:47.648419 139775581214528 export_utils.py:176] 'classification' : Classification input must be a single string Tensor; got {'b3001': <tf.Tensor 'Placeholder:0' shape=(?, 1) dtype=float32>, 'b3002': <tf.Tensor 'Placeholder_1:0' shape=(?, 1) dtype=float32>, 'b3003': <tf.Tensor 'Placeholder_2:0' shape=(?, 1) dtype=float32>, 'b3004': <tf.Tensor 'Placeholder_3:0' shape=(?, 1) dtype=float32>, 'b3005': <tf.Tensor 'Placeholder_4:0' shape=(?, 1) dtype=float32>, 'b3006': <tf.Tensor 'Placeholder_5:0' shape=(?, 1) dtype=float32>, 'b3007': <tf.Tensor 'Placeholder_6:0' shape=(?, 1) dtype=float32>, 'b3008': <tf.Tensor 'Placeholder_7:0' shape=(?, 1) dtype=float32>, 'b3009': <tf.Tensor 'Placeholder_8:0' shape=(?, 1) dtype=float32>, 'b3010': <tf.Tensor 'Placeholder_9:0' shape=(?, 1) dtype=float32>, 'b3011': <tf.Tensor 'Placeholder_10:0' shape=(?, 1) dtype=float32>, 'b3012': <tf.Tensor 'Placeholder_11:0' shape=(?, 1) dtype=float32>, 'b3013': <tf.Tensor 'Placeholder_12:0' shape=(?, 1) dtype=float32>}\n"
     ]
    },
    {
     "name": "stdout",
     "output_type": "stream",
     "text": [
      "WARNING:tensorflow:Export includes no default signature!\n"
     ]
    },
    {
     "name": "stderr",
     "output_type": "stream",
     "text": [
      "W0415 10:06:47.649806 139775581214528 export_utils.py:182] Export includes no default signature!\n"
     ]
    },
    {
     "name": "stdout",
     "output_type": "stream",
     "text": [
      "INFO:tensorflow:Restoring parameters from blerssi/model.ckpt-5000\n"
     ]
    },
    {
     "name": "stderr",
     "output_type": "stream",
     "text": [
      "I0415 10:06:47.717536 139775581214528 saver.py:1284] Restoring parameters from blerssi/model.ckpt-5000\n"
     ]
    },
    {
     "name": "stdout",
     "output_type": "stream",
     "text": [
      "INFO:tensorflow:Assets added to graph.\n"
     ]
    },
    {
     "name": "stderr",
     "output_type": "stream",
     "text": [
      "I0415 10:06:47.734151 139775581214528 builder_impl.py:665] Assets added to graph.\n"
     ]
    },
    {
     "name": "stdout",
     "output_type": "stream",
     "text": [
      "INFO:tensorflow:No assets to write.\n"
     ]
    },
    {
     "name": "stderr",
     "output_type": "stream",
     "text": [
      "I0415 10:06:47.735463 139775581214528 builder_impl.py:460] No assets to write.\n"
     ]
    },
    {
     "name": "stdout",
     "output_type": "stream",
     "text": [
      "INFO:tensorflow:SavedModel written to: blerssi/export/blerssi/temp-b'1586945207'/saved_model.pb\n"
     ]
    },
    {
     "name": "stderr",
     "output_type": "stream",
     "text": [
      "I0415 10:06:47.805230 139775581214528 builder_impl.py:425] SavedModel written to: blerssi/export/blerssi/temp-b'1586945207'/saved_model.pb\n"
     ]
    },
    {
     "name": "stdout",
     "output_type": "stream",
     "text": [
      "INFO:tensorflow:Loss for final step: 33.769516.\n"
     ]
    },
    {
     "name": "stderr",
     "output_type": "stream",
     "text": [
      "I0415 10:06:47.882945 139775581214528 estimator.py:371] Loss for final step: 33.769516.\n"
     ]
    },
    {
     "ename": "SystemExit",
     "evalue": "",
     "output_type": "error",
     "traceback": [
      "An exception has occurred, use %tb to see the full traceback.\n",
      "\u001b[0;31mSystemExit\u001b[0m\n"
     ]
    },
    {
     "name": "stderr",
     "output_type": "stream",
     "text": [
      "/usr/local/lib/python3.6/dist-packages/IPython/core/interactiveshell.py:3327: UserWarning: To exit: use 'exit', 'quit', or Ctrl-D.\n",
      "  warn(\"To exit: use 'exit', 'quit', or Ctrl-D.\", stacklevel=1)\n"
     ]
    }
   ],
   "source": [
    "def main(unused_args):\n",
    "  tf.logging.set_verbosity(tf.logging.INFO)\n",
    "\n",
    "  df_full = pd.read_csv('iBeacon_RSSI_Labeled.csv') #Labeled dataset\n",
    "\n",
    "  # Input Data Preprocessing \n",
    "  df_full = df_full.drop(['date'],axis = 1)\n",
    "  df_full[FEATURES] = (df_full[FEATURES])/(-200)\n",
    "\n",
    "  #Output Data Preprocessing\n",
    "  dict = {'O02': 0,'P01': 1,'P02': 2,'R01': 3,'R02': 4,'S01': 5,'S02': 6,'T01': 7,'U02': 8,'U01': 9,'J03': 10,'K03': 11,'L03': 12,'M03': 13,'N03': 14,'O03': 15,'P03': 16,'Q03': 17,'R03': 18,'S03': 19,'T03': 20,'U03': 21,'U04': 22,'T04': 23,'S04': 24,'R04': 25,'Q04': 26,'P04': 27,'O04': 28,'N04': 29,'M04': 30,'L04': 31,'K04': 32,'J04': 33,'I04': 34,'I05': 35,'J05': 36,'K05': 37,'L05': 38,'M05': 39,'N05': 40,'O05': 41,'P05': 42,'Q05': 43,'R05': 44,'S05': 45,'T05': 46,'U05': 47,'S06': 48,'R06': 49,'Q06': 50,'P06': 51,'O06': 52,'N06': 53,'M06': 54,'L06': 55,'K06': 56,'J06': 57,'I06': 58,'F08': 59,'J02': 60,'J07': 61,'I07': 62,'I10': 63,'J10': 64,'D15': 65,'E15': 66,'G15': 67,'J15': 68,'L15': 69,'R15': 70,'T15': 71,'W15': 72,'I08': 73,'I03': 74,'J08': 75,'I01': 76,'I02': 77,'J01': 78,'K01': 79,'K02': 80,'L01': 81,'L02': 82,'M01': 83,'M02': 84,'N01': 85,'N02': 86,'O01': 87,'I09': 88,'D14': 89,'D13': 90,'K07': 91,'K08': 92,'N15': 93,'P15': 94,'I15': 95,'S15': 96,'U15': 97,'V15': 98,'S07': 99,'S08': 100,'L09': 101,'L08': 102,'Q02': 103,'Q01': 104}\n",
    "  df_full['location'] = df_full['location'].map(dict)\n",
    "  df_train=df_full.sample(frac=0.8,random_state=200)\n",
    "  df_valid=df_full.drop(df_train.index)\n",
    "\n",
    "  location_counts = BLE_RSSI.location.value_counts()\n",
    "  train_X = np.asarray(df_train[FEATURES])\n",
    "  train_y = np.asarray(df_train['location'])\n",
    "  test_X = np.asarray(df_valid[FEATURES])\n",
    "  test_y = np.asarray(df_valid['location'])\n",
    "  feature_columns = [\n",
    "        tf.feature_column.numeric_column(INPUT_FEATURE, shape=[13])\n",
    "  ]\n",
    "  # Train Input Function\n",
    "  train_input_fn = tf.estimator.inputs.numpy_input_fn(\n",
    "    x = {INPUT_FEATURE: train_X},\n",
    "    y = train_y,\n",
    "    batch_size = 12,\n",
    "    num_epochs = 100,\n",
    "    shuffle = False,\n",
    "\n",
    "  )\n",
    "\n",
    "  # Test Input Function\n",
    "  test_input_fn = tf.estimator.inputs.numpy_input_fn(\n",
    "    x = {INPUT_FEATURE: test_X},\n",
    "    y = test_y,\n",
    "    batch_size = 12,\n",
    "    num_epochs = 100,\n",
    "    shuffle = True,\n",
    "    queue_capacity = 1000,\n",
    "    num_threads = 1\n",
    "  )\n",
    "\n",
    "\n",
    "  config = tf.estimator.RunConfig(model_dir=TF_MODEL_DIR, save_summary_steps=100, save_checkpoints_steps=1000)\n",
    "\n",
    "  # Build 3 layer DNN classifier\n",
    "\n",
    "  model = tf.estimator.DNNClassifier(hidden_units = [13,65,110],\n",
    "                     feature_columns = feature_columns,\n",
    "                     model_dir = TF_MODEL_DIR,\n",
    "                     n_classes=105, config=config\n",
    "                   )\n",
    "\n",
    "  export_final = tf.estimator.FinalExporter(TF_EXPORT_DIR, serving_input_receiver_fn=serving_input_receiver_fn1)\n",
    "\n",
    "  train_spec = tf.estimator.TrainSpec(input_fn=train_input_fn, \n",
    "                                        max_steps=TF_TRAIN_STEPS)\n",
    "\n",
    "  eval_spec = tf.estimator.EvalSpec(input_fn=test_input_fn,\n",
    "                                      steps=1,\n",
    "                                      exporters=export_final,\n",
    "                                      throttle_secs=1,\n",
    "                                      start_delay_secs=1)\n",
    "\n",
    "  # Train and Evaluate the model\n",
    "\n",
    "  tf.estimator.train_and_evaluate(model, train_spec, eval_spec)\n",
    "\n",
    "if __name__ == \"__main__\":\n",
    "    tf.app.run() "
   ]
  },
  {
   "cell_type": "markdown",
   "metadata": {},
   "source": [
    "## Update  storageUri in blerssi_kfserving.yaml with pvc-name"
   ]
  },
  {
   "cell_type": "code",
   "execution_count": 4,
   "metadata": {},
   "outputs": [
    {
     "name": "stdout",
     "output_type": "stream",
     "text": [
      "apiVersion: \"serving.kubeflow.org/v1alpha2\"\r\n",
      "kind: \"InferenceService\"\r\n",
      "metadata:\r\n",
      "  name: \"blerssi-model\"\r\n",
      "  namespace: anonymous\r\n",
      "spec:\r\n",
      "  default:\r\n",
      "    predictor:\r\n",
      "      tensorflow:\r\n",
      "        storageUri: \"pvc://workspace-multi-gpu1/blerssi/export/blerssi\""
     ]
    }
   ],
   "source": [
    "pvcname = !(echo  $HOSTNAME | sed 's/.\\{2\\}$//')\n",
    "pvc = \"workspace-\"+pvcname[0]\n",
    "! sed -i \"s/nfs/$pvc/g\" blerssi_kfserving.yaml\n",
    "! cat blerssi_kfserving.yaml"
   ]
  },
  {
   "cell_type": "markdown",
   "metadata": {},
   "source": [
    "## Serving BLE RSSI Model using kubeflow kfserving"
   ]
  },
  {
   "cell_type": "code",
   "execution_count": 5,
   "metadata": {},
   "outputs": [
    {
     "name": "stdout",
     "output_type": "stream",
     "text": [
      "inferenceservice.serving.kubeflow.org/blerssi-model created\r\n"
     ]
    }
   ],
   "source": [
    "!kubectl apply -f blerssi_kfserving.yaml"
   ]
  },
  {
   "cell_type": "code",
   "execution_count": 73,
   "metadata": {},
   "outputs": [
    {
     "name": "stdout",
     "output_type": "stream",
     "text": [
      "NAME            URL                                                                  READY   DEFAULT TRAFFIC   CANARY TRAFFIC   AGE\r\n",
      "blerssi-model   http://blerssi-model.anonymous.example.com/v1/models/blerssi-model   True    100                                93s\r\n"
     ]
    }
   ],
   "source": [
    "!kubectl get inferenceservices -n anonymous"
   ]
  },
  {
   "cell_type": "markdown",
   "metadata": {},
   "source": [
    "#### Note:\n",
    "Wait for inference service READY=\"True\""
   ]
  },
  {
   "cell_type": "markdown",
   "metadata": {},
   "source": [
    "## Data pre-process for prediction"
   ]
  },
  {
   "cell_type": "code",
   "execution_count": 75,
   "metadata": {},
   "outputs": [
    {
     "name": "stdout",
     "output_type": "stream",
     "text": [
      "   b3001  b3002  b3003  b3004  b3005  b3006  b3007  b3008  b3009  b3010  \\\n",
      "0    1.0    1.0  0.400    1.0  0.385  0.280  0.405    1.0    1.0    1.0   \n",
      "1    1.0    1.0  0.400    1.0  0.390  0.280  1.000    1.0    1.0    1.0   \n",
      "2    1.0    1.0  0.405    1.0  0.370  0.315  1.000    1.0    1.0    1.0   \n",
      "3    1.0    1.0  1.000    1.0  0.375  0.280  1.000    1.0    1.0    1.0   \n",
      "4    1.0    1.0  1.000    1.0  0.410  0.280  1.000    1.0    1.0    1.0   \n",
      "\n",
      "   b3011  b3012  b3013  \n",
      "0    1.0    1.0    1.0  \n",
      "1    1.0    1.0    1.0  \n",
      "2    1.0    1.0    1.0  \n",
      "3    1.0    1.0    1.0  \n",
      "4    1.0    1.0    1.0  \n"
     ]
    }
   ],
   "source": [
    "  df_full = pd.read_csv('iBeacon_RSSI_Unlabeled_truncated.csv') #Labeled dataset\n",
    "  # Input Data Preprocessing \n",
    "  df_full = df_full.drop(['date'],axis = 1)\n",
    "  df_full = df_full.drop(['location'],axis = 1)\n",
    "  df_full[FEATURES] = (df_full[FEATURES])/(-200)\n",
    "  print(df_full.head(5))"
   ]
  },
  {
   "cell_type": "markdown",
   "metadata": {},
   "source": [
    "## Predict data from serving after setting INGRESS_IP\n",
    "### Note - Use one of preprocessed row values from previous cell in request data instances"
   ]
  },
  {
   "cell_type": "code",
   "execution_count": 76,
   "metadata": {},
   "outputs": [
    {
     "name": "stdout",
     "output_type": "stream",
     "text": [
      "*   Trying INGRESS_IP...\n",
      "* TCP_NODELAY set\n",
      "* Connected to INGRESS_IP (INGRESS_IP) port 31380 (#0)\n",
      "> POST /v1/models/blerssi-model:predict HTTP/1.1\n",
      "> Host: blerssi-model.anonymous.example.com\n",
      "> User-Agent: curl/7.58.0\n",
      "> Accept: */*\n",
      "> Content-Length: 255\n",
      "> Content-Type: application/x-www-form-urlencoded\n",
      "> \n",
      "* upload completely sent off: 255 out of 255 bytes\n",
      "< HTTP/1.1 200 OK\n",
      "< content-length: 4243\n",
      "< content-type: application/json\n",
      "< date: Wed, 15 Apr 2020 10:10:14 GMT\n",
      "< x-envoy-upstream-service-time: 8810\n",
      "< server: istio-envoy\n",
      "< \n",
      "{\n",
      "    \"predictions\": [\n",
      "        {\n",
      "            \"class_ids\": [14],\n",
      "            \"classes\": [\"14\"],\n",
      "            \"all_class_ids\": [0, 1, 2, 3, 4, 5, 6, 7, 8, 9, 10, 11, 12, 13, 14, 15, 16, 17, 18, 19, 20, 21, 22, 23, 24, 25, 26, 27, 28, 29, 30, 31, 32, 33, 34, 35, 36, 37, 38, 39, 40, 41, 42, 43, 44, 45, 46, 47, 48, 49, 50, 51, 52, 53, 54, 55, 56, 57, 58, 59, 60, 61, 62, 63, 64, 65, 66, 67, 68, 69, 70, 71, 72, 73, 74, 75, 76, 77, 78, 79, 80, 81, 82, 83, 84, 85, 86, 87, 88, 89, 90, 91, 92, 93, 94, 95, 96, 97, 98, 99, 100, 101, 102, 103, 104],\n",
      "            \"all_classes\": [\"0\", \"1\", \"2\", \"3\", \"4\", \"5\", \"6\", \"7\", \"8\", \"9\", \"10\", \"11\", \"12\", \"13\", \"14\", \"15\", \"16\", \"17\", \"18\", \"19\", \"20\", \"21\", \"22\", \"23\", \"24\", \"25\", \"26\", \"27\", \"28\", \"29\", \"30\", \"31\", \"32\", \"33\", \"34\", \"35\", \"36\", \"37\", \"38\", \"39\", \"40\", \"41\", \"42\", \"43\", \"44\", \"45\", \"46\", \"47\", \"48\", \"49\", \"50\", \"51\", \"52\", \"53\", \"54\", \"55\", \"56\", \"57\", \"58\", \"59\", \"60\", \"61\", \"62\", \"63\", \"64\", \"65\", \"66\", \"67\", \"68\", \"69\", \"70\", \"71\", \"72\", \"73\", \"74\", \"75\", \"76\", \"77\", \"78\", \"79\", \"80\", \"81\", \"82\", \"83\", \"84\", \"85\", \"86\", \"87\", \"88\", \"89\", \"90\", \"91\", \"92\", \"93\", \"94\", \"95\", \"96\", \"97\", \"98\", \"99\", \"100\", \"101\", \"102\", \"103\", \"104\"],\n",
      "            \"probabilities\": [0.00113199779, 0.00605003908, 2.70900036e-05, 0.000199535454, 5.54861163e-06, 0.000218443442, 5.9516816e-07, 0.000196634632, 0.000608575181, 0.000270316406, 3.56623932e-05, 0.00496215746, 0.289194882, 9.68101631e-07, 0.487834573, 6.21972067e-05, 0.000437815965, 9.32061653e-07, 1.0067869e-05, 0.000503053947, 3.03620732e-06, 7.52528422e-08, 4.58624356e-07, 4.01446449e-08, 6.64549407e-06, 4.58796279e-07, 0.00111091835, 9.63892e-06, 3.53994301e-06, 1.44083242e-06, 0.000525681826, 0.0130875437, 6.89715525e-05, 0.000190618433, 0.000825144933, 0.00038106984, 0.000192163323, 0.0151429148, 0.0186901297, 0.0160132833, 0.00251314067, 3.6384572e-05, 2.51590554e-05, 0.00131376914, 0.00015362777, 2.64844033e-07, 4.82676e-05, 1.23737209e-06, 0.000238427863, 1.49454909e-05, 1.46775471e-06, 2.3513634e-05, 1.51672029e-05, 0.000156096474, 0.00226793392, 0.00984910782, 0.0285186823, 8.27393451e-05, 0.000188604405, 1.56252327e-07, 0.000134892747, 0.00136743195, 0.000615138211, 4.43949633e-09, 2.04934691e-09, 2.30196817e-09, 2.32994735e-09, 1.55587419e-08, 9.1472625e-09, 1.40316958e-08, 1.5167908e-09, 5.14949328e-09, 3.0188918e-10, 0.000238131979, 0.0762901157, 7.8399491e-05, 3.96509859e-05, 0.00950392243, 0.00045757959, 2.3241797e-05, 0.000242268245, 0.00420382665, 0.000824094284, 9.02675481e-07, 8.16691681e-05, 6.48855275e-05, 3.09497082e-05, 6.57071587e-06, 5.48730327e-07, 3.04528802e-09, 8.9926262e-09, 8.14533269e-05, 6.1702056e-05, 1.93759524e-06, 7.35196293e-10, 3.1193903e-09, 1.40828918e-10, 6.99507723e-08, 2.87559643e-10, 0.00163051207, 1.48537556e-05, 5.30683124e-08, 3.38049431e-05, 5.30401053e-07, 0.000517293578],\n",
      "            \"logits\": [-2.9328289, -1.25674772, -6.66540289, -4.66857576, -8.25102, -4.5780406, -10.4834795, -4.68322086, -3.55344725, -4.36497498, -6.39047146, -1.45497215, 2.61028814, -9.99698639, 3.13316369, -5.8342576, -3.88276911, -10.0349245, -7.6552186, -3.74387026, -8.85395908, -12.5514698, -10.744092, -13.1798344, -8.07062912, -10.7437172, -2.95162559, -7.6987586, -8.70045757, -9.59934711, -3.69987202, -0.485151857, -5.73087406, -4.71429443, -3.24900866, -4.02158546, -4.70622206, -0.339279801, -0.128817111, -0.283394158, -2.13527918, -6.37042332, -6.73935032, -2.78391218, -4.93003559, -11.2931824, -6.08780766, -9.75157833, -4.49050093, -7.26015854, -9.58083439, -6.80698729, -7.24543238, -4.91409349, -2.23794341, -0.76943171, 0.293746829, -5.54887247, -4.72491646, -11.8208513, -5.06008768, -2.74387813, -3.54272103, -15.3817816, -16.1548023, -16.038559, -16.0264778, -14.1277, -14.6588678, -14.2310038, -16.4557266, -15.2334251, -18.0700188, -4.49174261, 1.2777307, -5.60275078, -6.28445196, -0.80510807, -3.83861732, -6.81861591, -4.47452211, -1.62081742, -3.25028276, -10.0669603, -5.56189156, -5.79194355, -6.53220463, -8.08194542, -10.5647163, -15.7587271, -14.6759186, -5.56453753, -5.84225035, -9.30312061, -17.1799412, -15.7346849, -18.8325329, -12.6245317, -18.1186485, -2.5679183, -7.26631498, -12.9007435, -6.44396114, -10.59869, -3.7159574]\n",
      "        }\n",
      "    ]\n",
      "* Connection #0 to host INGRESS_IP left intact\n",
      "}"
     ]
    }
   ],
   "source": [
    "!curl -v -H \"Host: blerssi-model.anonymous.example.com\" http://INGRESS_IP:31380/v1/models/blerssi-model:predict -d '{\"signature_name\":\"predict\",\"instances\":[{\"b3001\":[1.0] , \"b3002\":[1.0] , \"b3003\":[0.4], \"b3004\":[1.0] , \"b3005\":[0.385] , \"b3006\":[0.280] , \"b3007\":[0.405] , \"b3008\":[1.0] , \"b3009\":[1.0] , \"b3010\":[1.0] , \"b3011\":[1.0] , \"b3012\":[1.0] , \"b3013\":[1.0]}]}'"
   ]
  },
  {
   "cell_type": "markdown",
   "metadata": {},
   "source": [
    "## Delete kfserving model & Clean up of stored models"
   ]
  },
  {
   "cell_type": "code",
   "execution_count": 6,
   "metadata": {},
   "outputs": [
    {
     "name": "stdout",
     "output_type": "stream",
     "text": [
      "inferenceservice.serving.kubeflow.org \"blerssi-model\" deleted\n",
      "apiVersion: \"serving.kubeflow.org/v1alpha2\"\n",
      "kind: \"InferenceService\"\n",
      "metadata:\n",
      "  name: \"blerssi-model\"\n",
      "  namespace: anonymous\n",
      "spec:\n",
      "  default:\n",
      "    predictor:\n",
      "      tensorflow:\n",
      "        storageUri: \"pvc://nfs1/blerssi/export/blerssi\""
     ]
    }
   ],
   "source": [
    "!kubectl delete -f blerssi_kfserving.yaml\n",
    "!rm -rf /mnt/blerssi\n",
    "pvcname = !(echo  $HOSTNAME | sed 's/.\\{2\\}$//')\n",
    "pvc = \"workspace-\"+pvcname[0]\n",
    "! sed -i \"s/$pvc/nfs/g\" blerssi_kfserving.yaml\n",
    "! cat blerssi_kfserving.yaml"
   ]
  },
  {
   "cell_type": "code",
   "execution_count": null,
   "metadata": {},
   "outputs": [],
   "source": [
    "\n"
   ]
  }
 ],
 "metadata": {
  "kernelspec": {
   "display_name": "Python 3",
   "language": "python",
   "name": "python3"
  },
  "language_info": {
   "codemirror_mode": {
    "name": "ipython",
    "version": 3
   },
   "file_extension": ".py",
   "mimetype": "text/x-python",
   "name": "python",
   "nbconvert_exporter": "python",
   "pygments_lexer": "ipython3",
   "version": "3.6.9"
  }
 },
 "nbformat": 4,
 "nbformat_minor": 2
}
