{
 "cells": [
  {
   "cell_type": "markdown",
   "metadata": {},
   "source": [
    "## BLE RSSI Dataset for Indoor localization\n",
    "\n",
    "The dataset was created using the RSSI readings of an array of 13 ibeacons in the first floor of Waldo Library, Western Michigan University. Data was collected using iPhone 6S. The dataset contains two sub-datasets: a labeled dataset (1420 instances) and an unlabeled dataset (5191 instances). The recording was performed during the operational hours of the library. For the labeled dataset, the input data contains the location (label column), a timestamp, followed by RSSI readings of 13 iBeacons. RSSI measurements are negative values. Bigger RSSI values indicate closer proximity to a given iBeacon (e.g., RSSI of -65 represent a closer distance to a given iBeacon compared to RSSI of -85). For out-of-range iBeacons, the RSSI is indicated by -200. The locations related to RSSI readings are combined in one column consisting a letter for the column and a number for the row of the position. The following figure depicts the layout of the iBeacons as well as the arrange of locations."
   ]
  },
  {
   "cell_type": "markdown",
   "metadata": {},
   "source": [
    "![alt text](pictures/iBeacon_Layout.jpg \"Title\")"
   ]
  },
  {
   "cell_type": "markdown",
   "metadata": {},
   "source": [
    "## Install Libraries"
   ]
  },
  {
   "cell_type": "code",
   "execution_count": 25,
   "metadata": {},
   "outputs": [
    {
     "name": "stdout",
     "output_type": "stream",
     "text": [
      "Requirement already satisfied: pandas in ./.local/lib/python3.6/site-packages (1.0.3)\n",
      "Requirement already satisfied: sklearn in ./.local/lib/python3.6/site-packages (0.0)\n",
      "Requirement already satisfied: pytz>=2017.2 in /usr/local/lib/python3.6/dist-packages (from pandas) (2019.3)\n",
      "Requirement already satisfied: numpy>=1.13.3 in /usr/local/lib/python3.6/dist-packages (from pandas) (1.18.1)\n",
      "Requirement already satisfied: python-dateutil>=2.6.1 in /usr/local/lib/python3.6/dist-packages (from pandas) (2.8.1)\n",
      "Requirement already satisfied: scikit-learn in ./.local/lib/python3.6/site-packages (from sklearn) (0.22.2.post1)\n",
      "Requirement already satisfied: six>=1.5 in /usr/lib/python3/dist-packages (from python-dateutil>=2.6.1->pandas) (1.11.0)\n",
      "Requirement already satisfied: scipy>=0.17.0 in /usr/local/lib/python3.6/dist-packages (from scikit-learn->sklearn) (1.4.1)\n",
      "Requirement already satisfied: joblib>=0.11 in ./.local/lib/python3.6/site-packages (from scikit-learn->sklearn) (0.14.1)\n",
      "\u001b[33mWARNING: You are using pip version 19.3.1; however, version 20.0.2 is available.\n",
      "You should consider upgrading via the 'pip install --upgrade pip' command.\u001b[0m\n"
     ]
    }
   ],
   "source": [
    "! pip install pandas sklearn --user"
   ]
  },
  {
   "cell_type": "markdown",
   "metadata": {},
   "source": [
    "## Import Libraries"
   ]
  },
  {
   "cell_type": "code",
   "execution_count": 1,
   "metadata": {},
   "outputs": [],
   "source": [
    "from __future__ import absolute_import\n",
    "from __future__ import division\n",
    "from __future__ import print_function\n",
    "\n",
    "import tensorflow as tf\n",
    "import pandas as pd\n",
    "import numpy as np\n",
    "import shutil\n",
    "import os\n",
    "from sklearn.preprocessing import OneHotEncoder"
   ]
  },
  {
   "cell_type": "markdown",
   "metadata": {},
   "source": [
    "## Check number of available GPUs"
   ]
  },
  {
   "cell_type": "code",
   "execution_count": 2,
   "metadata": {},
   "outputs": [
    {
     "name": "stdout",
     "output_type": "stream",
     "text": [
      "Num GPUs Available:  1\n"
     ]
    },
    {
     "data": {
      "text/plain": [
       "[PhysicalDevice(name='/physical_device:GPU:0', device_type='GPU')]"
      ]
     },
     "execution_count": 2,
     "metadata": {},
     "output_type": "execute_result"
    }
   ],
   "source": [
    "print(\"Num GPUs Available: \", len(tf.config.experimental.list_physical_devices('GPU')))\n",
    "tf.config.experimental.list_physical_devices('GPU')"
   ]
  },
  {
   "cell_type": "markdown",
   "metadata": {},
   "source": [
    "## Declare Variables"
   ]
  },
  {
   "cell_type": "code",
   "execution_count": 3,
   "metadata": {},
   "outputs": [],
   "source": [
    "BLE_RSSI = pd.read_csv('iBeacon_RSSI_Labeled.csv') #Labeled dataset\n",
    "\n",
    "# Configure model options\n",
    "TF_DATA_DIR = os.getenv(\"TF_DATA_DIR\", \"/tmp/data/\")\n",
    "TF_MODEL_DIR = os.getenv(\"TF_MODEL_DIR\", \"blerssi/\")\n",
    "TF_EXPORT_DIR = os.getenv(\"TF_EXPORT_DIR\", \"blerssi/\")\n",
    "TF_MODEL_TYPE = os.getenv(\"TF_MODEL_TYPE\", \"DNN\")\n",
    "TF_TRAIN_STEPS = int(os.getenv(\"TF_TRAIN_STEPS\", 5000))\n",
    "TF_BATCH_SIZE = int(os.getenv(\"TF_BATCH_SIZE\", 50))\n",
    "TF_LEARNING_RATE = float(os.getenv(\"TF_LEARNING_RATE\", 0.00001))\n",
    "\n",
    "\n",
    "# Feature columns\n",
    "COLUMNS = list(BLE_RSSI.columns)\n",
    "FEATURES = COLUMNS[2:]\n",
    "LABEL = [COLUMNS[0]]\n",
    "\n",
    "INPUT_FEATURE = 'x'\n",
    "NUM_CLASSES = 3"
   ]
  },
  {
   "cell_type": "markdown",
   "metadata": {},
   "source": [
    "## BLERSSI Input Dataset\n",
    "\n",
    "### Attribute Information\n",
    "\n",
    "    location: The location of receiving RSSIs from ibeacons b3001 to b3013; \n",
    "              symbolic values showing the column and row of the location on the map (e.g., A01 stands for column A, row 1).\n",
    "    date: Datetime in the format of ‘d-m-yyyy hh:mm:ss’\n",
    "    b3001 - b3013: RSSI readings corresponding to the iBeacons; numeric, integers only."
   ]
  },
  {
   "cell_type": "code",
   "execution_count": 4,
   "metadata": {},
   "outputs": [
    {
     "data": {
      "text/html": [
       "<div>\n",
       "<style scoped>\n",
       "    .dataframe tbody tr th:only-of-type {\n",
       "        vertical-align: middle;\n",
       "    }\n",
       "\n",
       "    .dataframe tbody tr th {\n",
       "        vertical-align: top;\n",
       "    }\n",
       "\n",
       "    .dataframe thead th {\n",
       "        text-align: right;\n",
       "    }\n",
       "</style>\n",
       "<table border=\"1\" class=\"dataframe\">\n",
       "  <thead>\n",
       "    <tr style=\"text-align: right;\">\n",
       "      <th></th>\n",
       "      <th>location</th>\n",
       "      <th>date</th>\n",
       "      <th>b3001</th>\n",
       "      <th>b3002</th>\n",
       "      <th>b3003</th>\n",
       "      <th>b3004</th>\n",
       "      <th>b3005</th>\n",
       "      <th>b3006</th>\n",
       "      <th>b3007</th>\n",
       "      <th>b3008</th>\n",
       "      <th>b3009</th>\n",
       "      <th>b3010</th>\n",
       "      <th>b3011</th>\n",
       "      <th>b3012</th>\n",
       "      <th>b3013</th>\n",
       "    </tr>\n",
       "  </thead>\n",
       "  <tbody>\n",
       "    <tr>\n",
       "      <th>0</th>\n",
       "      <td>O02</td>\n",
       "      <td>10-18-2016 11:15:21</td>\n",
       "      <td>-200</td>\n",
       "      <td>-200</td>\n",
       "      <td>-200</td>\n",
       "      <td>-200</td>\n",
       "      <td>-200</td>\n",
       "      <td>-78</td>\n",
       "      <td>-200</td>\n",
       "      <td>-200</td>\n",
       "      <td>-200</td>\n",
       "      <td>-200</td>\n",
       "      <td>-200</td>\n",
       "      <td>-200</td>\n",
       "      <td>-200</td>\n",
       "    </tr>\n",
       "    <tr>\n",
       "      <th>1</th>\n",
       "      <td>P01</td>\n",
       "      <td>10-18-2016 11:15:19</td>\n",
       "      <td>-200</td>\n",
       "      <td>-200</td>\n",
       "      <td>-200</td>\n",
       "      <td>-200</td>\n",
       "      <td>-200</td>\n",
       "      <td>-78</td>\n",
       "      <td>-200</td>\n",
       "      <td>-200</td>\n",
       "      <td>-200</td>\n",
       "      <td>-200</td>\n",
       "      <td>-200</td>\n",
       "      <td>-200</td>\n",
       "      <td>-200</td>\n",
       "    </tr>\n",
       "    <tr>\n",
       "      <th>2</th>\n",
       "      <td>P01</td>\n",
       "      <td>10-18-2016 11:15:17</td>\n",
       "      <td>-200</td>\n",
       "      <td>-200</td>\n",
       "      <td>-200</td>\n",
       "      <td>-200</td>\n",
       "      <td>-200</td>\n",
       "      <td>-77</td>\n",
       "      <td>-200</td>\n",
       "      <td>-200</td>\n",
       "      <td>-200</td>\n",
       "      <td>-200</td>\n",
       "      <td>-200</td>\n",
       "      <td>-200</td>\n",
       "      <td>-200</td>\n",
       "    </tr>\n",
       "    <tr>\n",
       "      <th>3</th>\n",
       "      <td>P01</td>\n",
       "      <td>10-18-2016 11:15:15</td>\n",
       "      <td>-200</td>\n",
       "      <td>-200</td>\n",
       "      <td>-200</td>\n",
       "      <td>-200</td>\n",
       "      <td>-200</td>\n",
       "      <td>-77</td>\n",
       "      <td>-200</td>\n",
       "      <td>-200</td>\n",
       "      <td>-200</td>\n",
       "      <td>-200</td>\n",
       "      <td>-200</td>\n",
       "      <td>-200</td>\n",
       "      <td>-200</td>\n",
       "    </tr>\n",
       "    <tr>\n",
       "      <th>4</th>\n",
       "      <td>P01</td>\n",
       "      <td>10-18-2016 11:15:13</td>\n",
       "      <td>-200</td>\n",
       "      <td>-200</td>\n",
       "      <td>-200</td>\n",
       "      <td>-200</td>\n",
       "      <td>-200</td>\n",
       "      <td>-77</td>\n",
       "      <td>-200</td>\n",
       "      <td>-200</td>\n",
       "      <td>-200</td>\n",
       "      <td>-200</td>\n",
       "      <td>-200</td>\n",
       "      <td>-200</td>\n",
       "      <td>-200</td>\n",
       "    </tr>\n",
       "    <tr>\n",
       "      <th>5</th>\n",
       "      <td>P01</td>\n",
       "      <td>10-18-2016 11:15:11</td>\n",
       "      <td>-200</td>\n",
       "      <td>-200</td>\n",
       "      <td>-82</td>\n",
       "      <td>-200</td>\n",
       "      <td>-200</td>\n",
       "      <td>-200</td>\n",
       "      <td>-200</td>\n",
       "      <td>-200</td>\n",
       "      <td>-200</td>\n",
       "      <td>-200</td>\n",
       "      <td>-200</td>\n",
       "      <td>-200</td>\n",
       "      <td>-200</td>\n",
       "    </tr>\n",
       "    <tr>\n",
       "      <th>6</th>\n",
       "      <td>P01</td>\n",
       "      <td>10-18-2016 11:15:09</td>\n",
       "      <td>-200</td>\n",
       "      <td>-200</td>\n",
       "      <td>-80</td>\n",
       "      <td>-200</td>\n",
       "      <td>-200</td>\n",
       "      <td>-77</td>\n",
       "      <td>-200</td>\n",
       "      <td>-200</td>\n",
       "      <td>-200</td>\n",
       "      <td>-200</td>\n",
       "      <td>-200</td>\n",
       "      <td>-200</td>\n",
       "      <td>-200</td>\n",
       "    </tr>\n",
       "    <tr>\n",
       "      <th>7</th>\n",
       "      <td>P02</td>\n",
       "      <td>10-18-2016 11:15:07</td>\n",
       "      <td>-200</td>\n",
       "      <td>-200</td>\n",
       "      <td>-86</td>\n",
       "      <td>-200</td>\n",
       "      <td>-200</td>\n",
       "      <td>-200</td>\n",
       "      <td>-200</td>\n",
       "      <td>-200</td>\n",
       "      <td>-200</td>\n",
       "      <td>-200</td>\n",
       "      <td>-200</td>\n",
       "      <td>-200</td>\n",
       "      <td>-200</td>\n",
       "    </tr>\n",
       "    <tr>\n",
       "      <th>8</th>\n",
       "      <td>R01</td>\n",
       "      <td>10-18-2016 11:15:05</td>\n",
       "      <td>-200</td>\n",
       "      <td>-200</td>\n",
       "      <td>-200</td>\n",
       "      <td>-75</td>\n",
       "      <td>-200</td>\n",
       "      <td>-200</td>\n",
       "      <td>-200</td>\n",
       "      <td>-200</td>\n",
       "      <td>-200</td>\n",
       "      <td>-200</td>\n",
       "      <td>-200</td>\n",
       "      <td>-200</td>\n",
       "      <td>-200</td>\n",
       "    </tr>\n",
       "    <tr>\n",
       "      <th>9</th>\n",
       "      <td>R01</td>\n",
       "      <td>10-18-2016 11:15:03</td>\n",
       "      <td>-200</td>\n",
       "      <td>-200</td>\n",
       "      <td>-200</td>\n",
       "      <td>-75</td>\n",
       "      <td>-200</td>\n",
       "      <td>-200</td>\n",
       "      <td>-200</td>\n",
       "      <td>-200</td>\n",
       "      <td>-200</td>\n",
       "      <td>-200</td>\n",
       "      <td>-200</td>\n",
       "      <td>-200</td>\n",
       "      <td>-200</td>\n",
       "    </tr>\n",
       "  </tbody>\n",
       "</table>\n",
       "</div>"
      ],
      "text/plain": [
       "  location                 date  b3001  b3002  b3003  b3004  b3005  b3006  \\\n",
       "0      O02  10-18-2016 11:15:21   -200   -200   -200   -200   -200    -78   \n",
       "1      P01  10-18-2016 11:15:19   -200   -200   -200   -200   -200    -78   \n",
       "2      P01  10-18-2016 11:15:17   -200   -200   -200   -200   -200    -77   \n",
       "3      P01  10-18-2016 11:15:15   -200   -200   -200   -200   -200    -77   \n",
       "4      P01  10-18-2016 11:15:13   -200   -200   -200   -200   -200    -77   \n",
       "5      P01  10-18-2016 11:15:11   -200   -200    -82   -200   -200   -200   \n",
       "6      P01  10-18-2016 11:15:09   -200   -200    -80   -200   -200    -77   \n",
       "7      P02  10-18-2016 11:15:07   -200   -200    -86   -200   -200   -200   \n",
       "8      R01  10-18-2016 11:15:05   -200   -200   -200    -75   -200   -200   \n",
       "9      R01  10-18-2016 11:15:03   -200   -200   -200    -75   -200   -200   \n",
       "\n",
       "   b3007  b3008  b3009  b3010  b3011  b3012  b3013  \n",
       "0   -200   -200   -200   -200   -200   -200   -200  \n",
       "1   -200   -200   -200   -200   -200   -200   -200  \n",
       "2   -200   -200   -200   -200   -200   -200   -200  \n",
       "3   -200   -200   -200   -200   -200   -200   -200  \n",
       "4   -200   -200   -200   -200   -200   -200   -200  \n",
       "5   -200   -200   -200   -200   -200   -200   -200  \n",
       "6   -200   -200   -200   -200   -200   -200   -200  \n",
       "7   -200   -200   -200   -200   -200   -200   -200  \n",
       "8   -200   -200   -200   -200   -200   -200   -200  \n",
       "9   -200   -200   -200   -200   -200   -200   -200  "
      ]
     },
     "execution_count": 4,
     "metadata": {},
     "output_type": "execute_result"
    }
   ],
   "source": [
    "BLE_RSSI.head(10)"
   ]
  },
  {
   "cell_type": "markdown",
   "metadata": {},
   "source": [
    "## Definition of Serving Input Receiver Function"
   ]
  },
  {
   "cell_type": "code",
   "execution_count": 5,
   "metadata": {},
   "outputs": [],
   "source": [
    "def serving_input_receiver_fn1():\n",
    "    \"\"\"\n",
    "    This is used to define inputs to serve the model.\n",
    "    :return: ServingInputReciever\n",
    "    \"\"\"\n",
    "    receiver_tensors = {\n",
    "        'b3001': tf.placeholder(tf.float32, [None, 1]),\n",
    "        'b3002': tf.placeholder(tf.float32, [None, 1]),\n",
    "        'b3003': tf.placeholder(tf.float32, [None, 1]),\n",
    "        'b3004': tf.placeholder(tf.float32, [None, 1]),\n",
    "        'b3005': tf.placeholder(tf.float32, [None, 1]),\n",
    "        'b3006': tf.placeholder(tf.float32, [None, 1]),\n",
    "        'b3007': tf.placeholder(tf.float32, [None, 1]),\n",
    "        'b3008': tf.placeholder(tf.float32, [None, 1]),\n",
    "        'b3009': tf.placeholder(tf.float32, [None, 1]),\n",
    "        'b3010': tf.placeholder(tf.float32, [None, 1]),\n",
    "        'b3011': tf.placeholder(tf.float32, [None, 1]),\n",
    "        'b3012': tf.placeholder(tf.float32, [None, 1]),\n",
    "        'b3013': tf.placeholder(tf.float32, [None, 1])\n",
    "\n",
    "    }\n",
    "\n",
    "    # Convert give inputs to adjust to the model.\n",
    "    features = {\n",
    "         INPUT_FEATURE: tf.concat([\n",
    "            receiver_tensors['b3001'],\n",
    "            receiver_tensors['b3002'],\n",
    "            receiver_tensors['b3003'],\n",
    "            receiver_tensors['b3004'],\n",
    "            receiver_tensors['b3005'],\n",
    "            receiver_tensors['b3006'],\n",
    "            receiver_tensors['b3007'],\n",
    "            receiver_tensors['b3008'],\n",
    "            receiver_tensors['b3009'],\n",
    "            receiver_tensors['b3010'],\n",
    "            receiver_tensors['b3011'],\n",
    "            receiver_tensors['b3012'],\n",
    "            receiver_tensors['b3013'],\n",
    "\n",
    "        ], axis=1)\n",
    "    }\n",
    "    return tf.estimator.export.ServingInputReceiver(receiver_tensors=receiver_tensors,\n",
    "                                                    features=features)\n"
   ]
  },
  {
   "cell_type": "markdown",
   "metadata": {},
   "source": [
    "## Train and Save BLE RSSI Model"
   ]
  },
  {
   "cell_type": "code",
   "execution_count": 6,
   "metadata": {},
   "outputs": [
    {
     "name": "stdout",
     "output_type": "stream",
     "text": [
      "Num GPUs Available:  1\n",
      "INFO:tensorflow:Using config: {'_model_dir': 'blerssi/', '_tf_random_seed': None, '_save_summary_steps': 100, '_save_checkpoints_steps': 1000, '_save_checkpoints_secs': None, '_session_config': allow_soft_placement: true\n",
      "graph_options {\n",
      "  rewrite_options {\n",
      "    meta_optimizer_iterations: ONE\n",
      "  }\n",
      "}\n",
      ", '_keep_checkpoint_max': 5, '_keep_checkpoint_every_n_hours': 10000, '_log_step_count_steps': 100, '_train_distribute': None, '_device_fn': None, '_protocol': None, '_eval_distribute': None, '_experimental_distribute': None, '_experimental_max_worker_delay_secs': None, '_session_creation_timeout_secs': 7200, '_service': None, '_cluster_spec': <tensorflow.python.training.server_lib.ClusterSpec object at 0x7f853f320668>, '_task_type': 'worker', '_task_id': 0, '_global_id_in_cluster': 0, '_master': '', '_evaluation_master': '', '_is_chief': True, '_num_ps_replicas': 0, '_num_worker_replicas': 1}\n"
     ]
    },
    {
     "name": "stderr",
     "output_type": "stream",
     "text": [
      "I0406 11:20:23.206892 140213923624768 estimator.py:212] Using config: {'_model_dir': 'blerssi/', '_tf_random_seed': None, '_save_summary_steps': 100, '_save_checkpoints_steps': 1000, '_save_checkpoints_secs': None, '_session_config': allow_soft_placement: true\n",
      "graph_options {\n",
      "  rewrite_options {\n",
      "    meta_optimizer_iterations: ONE\n",
      "  }\n",
      "}\n",
      ", '_keep_checkpoint_max': 5, '_keep_checkpoint_every_n_hours': 10000, '_log_step_count_steps': 100, '_train_distribute': None, '_device_fn': None, '_protocol': None, '_eval_distribute': None, '_experimental_distribute': None, '_experimental_max_worker_delay_secs': None, '_session_creation_timeout_secs': 7200, '_service': None, '_cluster_spec': <tensorflow.python.training.server_lib.ClusterSpec object at 0x7f853f320668>, '_task_type': 'worker', '_task_id': 0, '_global_id_in_cluster': 0, '_master': '', '_evaluation_master': '', '_is_chief': True, '_num_ps_replicas': 0, '_num_worker_replicas': 1}\n"
     ]
    },
    {
     "name": "stdout",
     "output_type": "stream",
     "text": [
      "INFO:tensorflow:Not using Distribute Coordinator.\n"
     ]
    },
    {
     "name": "stderr",
     "output_type": "stream",
     "text": [
      "I0406 11:20:23.208696 140213923624768 estimator_training.py:186] Not using Distribute Coordinator.\n"
     ]
    },
    {
     "name": "stdout",
     "output_type": "stream",
     "text": [
      "INFO:tensorflow:Running training and evaluation locally (non-distributed).\n"
     ]
    },
    {
     "name": "stderr",
     "output_type": "stream",
     "text": [
      "I0406 11:20:23.210152 140213923624768 training.py:612] Running training and evaluation locally (non-distributed).\n"
     ]
    },
    {
     "name": "stdout",
     "output_type": "stream",
     "text": [
      "INFO:tensorflow:Start train and evaluate loop. The evaluate will happen after every checkpoint. Checkpoint frequency is determined based on RunConfig arguments: save_checkpoints_steps 1000 or save_checkpoints_secs None.\n"
     ]
    },
    {
     "name": "stderr",
     "output_type": "stream",
     "text": [
      "I0406 11:20:23.211651 140213923624768 training.py:700] Start train and evaluate loop. The evaluate will happen after every checkpoint. Checkpoint frequency is determined based on RunConfig arguments: save_checkpoints_steps 1000 or save_checkpoints_secs None.\n"
     ]
    },
    {
     "name": "stdout",
     "output_type": "stream",
     "text": [
      "WARNING:tensorflow:From /usr/local/lib/python3.6/dist-packages/tensorflow_core/python/training/training_util.py:236: Variable.initialized_value (from tensorflow.python.ops.variables) is deprecated and will be removed in a future version.\n",
      "Instructions for updating:\n",
      "Use Variable.read_value. Variables in 2.X are initialized automatically both in eager and graph (inside tf.defun) contexts.\n"
     ]
    },
    {
     "name": "stderr",
     "output_type": "stream",
     "text": [
      "W0406 11:20:23.219122 140213923624768 deprecation.py:323] From /usr/local/lib/python3.6/dist-packages/tensorflow_core/python/training/training_util.py:236: Variable.initialized_value (from tensorflow.python.ops.variables) is deprecated and will be removed in a future version.\n",
      "Instructions for updating:\n",
      "Use Variable.read_value. Variables in 2.X are initialized automatically both in eager and graph (inside tf.defun) contexts.\n"
     ]
    },
    {
     "name": "stdout",
     "output_type": "stream",
     "text": [
      "WARNING:tensorflow:From /usr/local/lib/python3.6/dist-packages/tensorflow_estimator/python/estimator/inputs/queues/feeding_queue_runner.py:62: QueueRunner.__init__ (from tensorflow.python.training.queue_runner_impl) is deprecated and will be removed in a future version.\n",
      "Instructions for updating:\n",
      "To construct input pipelines, use the `tf.data` module.\n"
     ]
    },
    {
     "name": "stderr",
     "output_type": "stream",
     "text": [
      "W0406 11:20:23.233221 140213923624768 deprecation.py:323] From /usr/local/lib/python3.6/dist-packages/tensorflow_estimator/python/estimator/inputs/queues/feeding_queue_runner.py:62: QueueRunner.__init__ (from tensorflow.python.training.queue_runner_impl) is deprecated and will be removed in a future version.\n",
      "Instructions for updating:\n",
      "To construct input pipelines, use the `tf.data` module.\n"
     ]
    },
    {
     "name": "stdout",
     "output_type": "stream",
     "text": [
      "WARNING:tensorflow:From /usr/local/lib/python3.6/dist-packages/tensorflow_estimator/python/estimator/inputs/queues/feeding_functions.py:500: add_queue_runner (from tensorflow.python.training.queue_runner_impl) is deprecated and will be removed in a future version.\n",
      "Instructions for updating:\n",
      "To construct input pipelines, use the `tf.data` module.\n"
     ]
    },
    {
     "name": "stderr",
     "output_type": "stream",
     "text": [
      "W0406 11:20:23.235765 140213923624768 deprecation.py:323] From /usr/local/lib/python3.6/dist-packages/tensorflow_estimator/python/estimator/inputs/queues/feeding_functions.py:500: add_queue_runner (from tensorflow.python.training.queue_runner_impl) is deprecated and will be removed in a future version.\n",
      "Instructions for updating:\n",
      "To construct input pipelines, use the `tf.data` module.\n"
     ]
    },
    {
     "name": "stdout",
     "output_type": "stream",
     "text": [
      "INFO:tensorflow:Calling model_fn.\n"
     ]
    },
    {
     "name": "stderr",
     "output_type": "stream",
     "text": [
      "I0406 11:20:23.244633 140213923624768 estimator.py:1148] Calling model_fn.\n"
     ]
    },
    {
     "name": "stdout",
     "output_type": "stream",
     "text": [
      "WARNING:tensorflow:From /usr/local/lib/python3.6/dist-packages/tensorflow_core/python/ops/resource_variable_ops.py:1630: calling BaseResourceVariable.__init__ (from tensorflow.python.ops.resource_variable_ops) with constraint is deprecated and will be removed in a future version.\n",
      "Instructions for updating:\n",
      "If using Keras pass *_constraint arguments to layers.\n"
     ]
    },
    {
     "name": "stderr",
     "output_type": "stream",
     "text": [
      "W0406 11:20:23.776774 140213923624768 deprecation.py:506] From /usr/local/lib/python3.6/dist-packages/tensorflow_core/python/ops/resource_variable_ops.py:1630: calling BaseResourceVariable.__init__ (from tensorflow.python.ops.resource_variable_ops) with constraint is deprecated and will be removed in a future version.\n",
      "Instructions for updating:\n",
      "If using Keras pass *_constraint arguments to layers.\n"
     ]
    },
    {
     "name": "stdout",
     "output_type": "stream",
     "text": [
      "WARNING:tensorflow:From /usr/local/lib/python3.6/dist-packages/tensorflow_estimator/python/estimator/canned/head.py:437: to_float (from tensorflow.python.ops.math_ops) is deprecated and will be removed in a future version.\n",
      "Instructions for updating:\n",
      "Use `tf.cast` instead.\n"
     ]
    },
    {
     "name": "stderr",
     "output_type": "stream",
     "text": [
      "W0406 11:20:23.902287 140213923624768 deprecation.py:323] From /usr/local/lib/python3.6/dist-packages/tensorflow_estimator/python/estimator/canned/head.py:437: to_float (from tensorflow.python.ops.math_ops) is deprecated and will be removed in a future version.\n",
      "Instructions for updating:\n",
      "Use `tf.cast` instead.\n"
     ]
    },
    {
     "name": "stdout",
     "output_type": "stream",
     "text": [
      "WARNING:tensorflow:From /usr/local/lib/python3.6/dist-packages/tensorflow_core/python/training/adagrad.py:76: calling Constant.__init__ (from tensorflow.python.ops.init_ops) with dtype is deprecated and will be removed in a future version.\n",
      "Instructions for updating:\n",
      "Call initializer instance with the dtype argument instead of passing it to the constructor\n"
     ]
    },
    {
     "name": "stderr",
     "output_type": "stream",
     "text": [
      "W0406 11:20:23.990124 140213923624768 deprecation.py:506] From /usr/local/lib/python3.6/dist-packages/tensorflow_core/python/training/adagrad.py:76: calling Constant.__init__ (from tensorflow.python.ops.init_ops) with dtype is deprecated and will be removed in a future version.\n",
      "Instructions for updating:\n",
      "Call initializer instance with the dtype argument instead of passing it to the constructor\n"
     ]
    },
    {
     "name": "stdout",
     "output_type": "stream",
     "text": [
      "INFO:tensorflow:Done calling model_fn.\n"
     ]
    },
    {
     "name": "stderr",
     "output_type": "stream",
     "text": [
      "I0406 11:20:24.025599 140213923624768 estimator.py:1150] Done calling model_fn.\n"
     ]
    },
    {
     "name": "stdout",
     "output_type": "stream",
     "text": [
      "INFO:tensorflow:Create CheckpointSaverHook.\n"
     ]
    },
    {
     "name": "stderr",
     "output_type": "stream",
     "text": [
      "I0406 11:20:24.027358 140213923624768 basic_session_run_hooks.py:541] Create CheckpointSaverHook.\n"
     ]
    },
    {
     "name": "stdout",
     "output_type": "stream",
     "text": [
      "WARNING:tensorflow:From /usr/local/lib/python3.6/dist-packages/tensorflow_core/python/ops/array_ops.py:1475: where (from tensorflow.python.ops.array_ops) is deprecated and will be removed in a future version.\n",
      "Instructions for updating:\n",
      "Use tf.where in 2.0, which has the same broadcast rule as np.where\n"
     ]
    },
    {
     "name": "stderr",
     "output_type": "stream",
     "text": [
      "W0406 11:20:24.080113 140213923624768 deprecation.py:323] From /usr/local/lib/python3.6/dist-packages/tensorflow_core/python/ops/array_ops.py:1475: where (from tensorflow.python.ops.array_ops) is deprecated and will be removed in a future version.\n",
      "Instructions for updating:\n",
      "Use tf.where in 2.0, which has the same broadcast rule as np.where\n"
     ]
    },
    {
     "name": "stdout",
     "output_type": "stream",
     "text": [
      "INFO:tensorflow:Graph was finalized.\n"
     ]
    },
    {
     "name": "stderr",
     "output_type": "stream",
     "text": [
      "I0406 11:20:24.165882 140213923624768 monitored_session.py:240] Graph was finalized.\n"
     ]
    },
    {
     "name": "stdout",
     "output_type": "stream",
     "text": [
      "INFO:tensorflow:Running local_init_op.\n"
     ]
    },
    {
     "name": "stderr",
     "output_type": "stream",
     "text": [
      "I0406 11:20:25.540173 140213923624768 session_manager.py:500] Running local_init_op.\n"
     ]
    },
    {
     "name": "stdout",
     "output_type": "stream",
     "text": [
      "INFO:tensorflow:Done running local_init_op.\n"
     ]
    },
    {
     "name": "stderr",
     "output_type": "stream",
     "text": [
      "I0406 11:20:25.550126 140213923624768 session_manager.py:502] Done running local_init_op.\n"
     ]
    },
    {
     "name": "stdout",
     "output_type": "stream",
     "text": [
      "WARNING:tensorflow:From /usr/local/lib/python3.6/dist-packages/tensorflow_core/python/training/monitored_session.py:882: start_queue_runners (from tensorflow.python.training.queue_runner_impl) is deprecated and will be removed in a future version.\n",
      "Instructions for updating:\n",
      "To construct input pipelines, use the `tf.data` module.\n"
     ]
    },
    {
     "name": "stderr",
     "output_type": "stream",
     "text": [
      "W0406 11:20:25.571874 140213923624768 deprecation.py:323] From /usr/local/lib/python3.6/dist-packages/tensorflow_core/python/training/monitored_session.py:882: start_queue_runners (from tensorflow.python.training.queue_runner_impl) is deprecated and will be removed in a future version.\n",
      "Instructions for updating:\n",
      "To construct input pipelines, use the `tf.data` module.\n"
     ]
    },
    {
     "name": "stdout",
     "output_type": "stream",
     "text": [
      "INFO:tensorflow:Saving checkpoints for 0 into blerssi/model.ckpt.\n"
     ]
    },
    {
     "name": "stderr",
     "output_type": "stream",
     "text": [
      "I0406 11:20:25.854519 140213923624768 basic_session_run_hooks.py:606] Saving checkpoints for 0 into blerssi/model.ckpt.\n"
     ]
    },
    {
     "name": "stdout",
     "output_type": "stream",
     "text": [
      "INFO:tensorflow:loss = 56.18515, step = 0\n"
     ]
    },
    {
     "name": "stderr",
     "output_type": "stream",
     "text": [
      "I0406 11:20:26.337171 140213923624768 basic_session_run_hooks.py:262] loss = 56.18515, step = 0\n"
     ]
    },
    {
     "name": "stdout",
     "output_type": "stream",
     "text": [
      "INFO:tensorflow:global_step/sec: 245.345\n"
     ]
    },
    {
     "name": "stderr",
     "output_type": "stream",
     "text": [
      "I0406 11:20:26.744433 140213923624768 basic_session_run_hooks.py:692] global_step/sec: 245.345\n"
     ]
    },
    {
     "name": "stdout",
     "output_type": "stream",
     "text": [
      "INFO:tensorflow:loss = 38.273605, step = 100 (0.411 sec)\n"
     ]
    },
    {
     "name": "stderr",
     "output_type": "stream",
     "text": [
      "I0406 11:20:26.747944 140213923624768 basic_session_run_hooks.py:260] loss = 38.273605, step = 100 (0.411 sec)\n"
     ]
    },
    {
     "name": "stdout",
     "output_type": "stream",
     "text": [
      "INFO:tensorflow:global_step/sec: 296.601\n"
     ]
    },
    {
     "name": "stderr",
     "output_type": "stream",
     "text": [
      "I0406 11:20:27.081610 140213923624768 basic_session_run_hooks.py:692] global_step/sec: 296.601\n"
     ]
    },
    {
     "name": "stdout",
     "output_type": "stream",
     "text": [
      "INFO:tensorflow:loss = 33.083363, step = 200 (0.339 sec)\n"
     ]
    },
    {
     "name": "stderr",
     "output_type": "stream",
     "text": [
      "I0406 11:20:27.086899 140213923624768 basic_session_run_hooks.py:260] loss = 33.083363, step = 200 (0.339 sec)\n"
     ]
    },
    {
     "name": "stdout",
     "output_type": "stream",
     "text": [
      "INFO:tensorflow:global_step/sec: 272.336\n"
     ]
    },
    {
     "name": "stderr",
     "output_type": "stream",
     "text": [
      "I0406 11:20:27.448844 140213923624768 basic_session_run_hooks.py:692] global_step/sec: 272.336\n"
     ]
    },
    {
     "name": "stdout",
     "output_type": "stream",
     "text": [
      "INFO:tensorflow:loss = 35.534615, step = 300 (0.367 sec)\n"
     ]
    },
    {
     "name": "stderr",
     "output_type": "stream",
     "text": [
      "I0406 11:20:27.453861 140213923624768 basic_session_run_hooks.py:260] loss = 35.534615, step = 300 (0.367 sec)\n"
     ]
    },
    {
     "name": "stdout",
     "output_type": "stream",
     "text": [
      "INFO:tensorflow:global_step/sec: 283.538\n"
     ]
    },
    {
     "name": "stderr",
     "output_type": "stream",
     "text": [
      "I0406 11:20:27.801465 140213923624768 basic_session_run_hooks.py:692] global_step/sec: 283.538\n"
     ]
    },
    {
     "name": "stdout",
     "output_type": "stream",
     "text": [
      "INFO:tensorflow:loss = 34.628223, step = 400 (0.351 sec)\n"
     ]
    },
    {
     "name": "stderr",
     "output_type": "stream",
     "text": [
      "I0406 11:20:27.804822 140213923624768 basic_session_run_hooks.py:260] loss = 34.628223, step = 400 (0.351 sec)\n"
     ]
    },
    {
     "name": "stdout",
     "output_type": "stream",
     "text": [
      "INFO:tensorflow:global_step/sec: 142.497\n"
     ]
    },
    {
     "name": "stderr",
     "output_type": "stream",
     "text": [
      "I0406 11:20:28.503391 140213923624768 basic_session_run_hooks.py:692] global_step/sec: 142.497\n"
     ]
    },
    {
     "name": "stdout",
     "output_type": "stream",
     "text": [
      "INFO:tensorflow:loss = 28.443844, step = 500 (0.703 sec)\n"
     ]
    },
    {
     "name": "stderr",
     "output_type": "stream",
     "text": [
      "I0406 11:20:28.507802 140213923624768 basic_session_run_hooks.py:260] loss = 28.443844, step = 500 (0.703 sec)\n"
     ]
    },
    {
     "name": "stdout",
     "output_type": "stream",
     "text": [
      "INFO:tensorflow:global_step/sec: 256.819\n"
     ]
    },
    {
     "name": "stderr",
     "output_type": "stream",
     "text": [
      "I0406 11:20:28.892582 140213923624768 basic_session_run_hooks.py:692] global_step/sec: 256.819\n"
     ]
    },
    {
     "name": "stdout",
     "output_type": "stream",
     "text": [
      "INFO:tensorflow:loss = 33.088745, step = 600 (0.388 sec)\n"
     ]
    },
    {
     "name": "stderr",
     "output_type": "stream",
     "text": [
      "I0406 11:20:28.896093 140213923624768 basic_session_run_hooks.py:260] loss = 33.088745, step = 600 (0.388 sec)\n"
     ]
    },
    {
     "name": "stdout",
     "output_type": "stream",
     "text": [
      "INFO:tensorflow:global_step/sec: 261.295\n"
     ]
    },
    {
     "name": "stderr",
     "output_type": "stream",
     "text": [
      "I0406 11:20:29.275306 140213923624768 basic_session_run_hooks.py:692] global_step/sec: 261.295\n"
     ]
    },
    {
     "name": "stdout",
     "output_type": "stream",
     "text": [
      "INFO:tensorflow:loss = 27.984795, step = 700 (0.383 sec)\n"
     ]
    },
    {
     "name": "stderr",
     "output_type": "stream",
     "text": [
      "I0406 11:20:29.279183 140213923624768 basic_session_run_hooks.py:260] loss = 27.984795, step = 700 (0.383 sec)\n"
     ]
    },
    {
     "name": "stdout",
     "output_type": "stream",
     "text": [
      "INFO:tensorflow:global_step/sec: 255.978\n"
     ]
    },
    {
     "name": "stderr",
     "output_type": "stream",
     "text": [
      "I0406 11:20:29.665940 140213923624768 basic_session_run_hooks.py:692] global_step/sec: 255.978\n"
     ]
    },
    {
     "name": "stdout",
     "output_type": "stream",
     "text": [
      "INFO:tensorflow:loss = 29.474953, step = 800 (0.390 sec)\n"
     ]
    },
    {
     "name": "stderr",
     "output_type": "stream",
     "text": [
      "I0406 11:20:29.669239 140213923624768 basic_session_run_hooks.py:260] loss = 29.474953, step = 800 (0.390 sec)\n"
     ]
    },
    {
     "name": "stdout",
     "output_type": "stream",
     "text": [
      "INFO:tensorflow:global_step/sec: 284.116\n"
     ]
    },
    {
     "name": "stderr",
     "output_type": "stream",
     "text": [
      "I0406 11:20:30.017989 140213923624768 basic_session_run_hooks.py:692] global_step/sec: 284.116\n"
     ]
    },
    {
     "name": "stdout",
     "output_type": "stream",
     "text": [
      "INFO:tensorflow:loss = 27.99167, step = 900 (0.352 sec)\n"
     ]
    },
    {
     "name": "stderr",
     "output_type": "stream",
     "text": [
      "I0406 11:20:30.021227 140213923624768 basic_session_run_hooks.py:260] loss = 27.99167, step = 900 (0.352 sec)\n"
     ]
    },
    {
     "name": "stdout",
     "output_type": "stream",
     "text": [
      "INFO:tensorflow:Saving checkpoints for 1000 into blerssi/model.ckpt.\n"
     ]
    },
    {
     "name": "stderr",
     "output_type": "stream",
     "text": [
      "I0406 11:20:30.385073 140213923624768 basic_session_run_hooks.py:606] Saving checkpoints for 1000 into blerssi/model.ckpt.\n"
     ]
    },
    {
     "name": "stdout",
     "output_type": "stream",
     "text": [
      "INFO:tensorflow:Calling model_fn.\n"
     ]
    },
    {
     "name": "stderr",
     "output_type": "stream",
     "text": [
      "I0406 11:20:30.477293 140213923624768 estimator.py:1148] Calling model_fn.\n"
     ]
    },
    {
     "name": "stdout",
     "output_type": "stream",
     "text": [
      "INFO:tensorflow:Done calling model_fn.\n"
     ]
    },
    {
     "name": "stderr",
     "output_type": "stream",
     "text": [
      "I0406 11:20:30.668347 140213923624768 estimator.py:1150] Done calling model_fn.\n"
     ]
    },
    {
     "name": "stdout",
     "output_type": "stream",
     "text": [
      "INFO:tensorflow:Starting evaluation at 2020-04-06T11:20:30Z\n"
     ]
    },
    {
     "name": "stderr",
     "output_type": "stream",
     "text": [
      "I0406 11:20:30.683704 140213923624768 evaluation.py:255] Starting evaluation at 2020-04-06T11:20:30Z\n"
     ]
    },
    {
     "name": "stdout",
     "output_type": "stream",
     "text": [
      "INFO:tensorflow:Graph was finalized.\n"
     ]
    },
    {
     "name": "stderr",
     "output_type": "stream",
     "text": [
      "I0406 11:20:30.761866 140213923624768 monitored_session.py:240] Graph was finalized.\n"
     ]
    },
    {
     "name": "stdout",
     "output_type": "stream",
     "text": [
      "INFO:tensorflow:Restoring parameters from blerssi/model.ckpt-1000\n"
     ]
    },
    {
     "name": "stderr",
     "output_type": "stream",
     "text": [
      "I0406 11:20:30.769894 140213923624768 saver.py:1284] Restoring parameters from blerssi/model.ckpt-1000\n"
     ]
    },
    {
     "name": "stdout",
     "output_type": "stream",
     "text": [
      "INFO:tensorflow:Running local_init_op.\n"
     ]
    },
    {
     "name": "stderr",
     "output_type": "stream",
     "text": [
      "I0406 11:20:30.815011 140213923624768 session_manager.py:500] Running local_init_op.\n"
     ]
    },
    {
     "name": "stdout",
     "output_type": "stream",
     "text": [
      "INFO:tensorflow:Done running local_init_op.\n"
     ]
    },
    {
     "name": "stderr",
     "output_type": "stream",
     "text": [
      "I0406 11:20:30.829493 140213923624768 session_manager.py:502] Done running local_init_op.\n"
     ]
    },
    {
     "name": "stdout",
     "output_type": "stream",
     "text": [
      "INFO:tensorflow:Evaluation [1/1]\n"
     ]
    },
    {
     "name": "stderr",
     "output_type": "stream",
     "text": [
      "I0406 11:20:30.922444 140213923624768 evaluation.py:167] Evaluation [1/1]\n"
     ]
    },
    {
     "name": "stdout",
     "output_type": "stream",
     "text": [
      "INFO:tensorflow:Finished evaluation at 2020-04-06-11:20:30\n"
     ]
    },
    {
     "name": "stderr",
     "output_type": "stream",
     "text": [
      "I0406 11:20:30.971237 140213923624768 evaluation.py:275] Finished evaluation at 2020-04-06-11:20:30\n"
     ]
    },
    {
     "name": "stdout",
     "output_type": "stream",
     "text": [
      "INFO:tensorflow:Saving dict for global step 1000: accuracy = 0.16666667, average_loss = 2.6984806, global_step = 1000, loss = 32.381767\n"
     ]
    },
    {
     "name": "stderr",
     "output_type": "stream",
     "text": [
      "I0406 11:20:30.973293 140213923624768 estimator.py:2049] Saving dict for global step 1000: accuracy = 0.16666667, average_loss = 2.6984806, global_step = 1000, loss = 32.381767\n"
     ]
    },
    {
     "name": "stdout",
     "output_type": "stream",
     "text": [
      "INFO:tensorflow:Saving 'checkpoint_path' summary for global step 1000: blerssi/model.ckpt-1000\n"
     ]
    },
    {
     "name": "stderr",
     "output_type": "stream",
     "text": [
      "I0406 11:20:31.032564 140213923624768 estimator.py:2109] Saving 'checkpoint_path' summary for global step 1000: blerssi/model.ckpt-1000\n"
     ]
    },
    {
     "name": "stdout",
     "output_type": "stream",
     "text": [
      "INFO:tensorflow:global_step/sec: 97.7228\n"
     ]
    },
    {
     "name": "stderr",
     "output_type": "stream",
     "text": [
      "I0406 11:20:31.041103 140213923624768 basic_session_run_hooks.py:692] global_step/sec: 97.7228\n"
     ]
    },
    {
     "name": "stdout",
     "output_type": "stream",
     "text": [
      "INFO:tensorflow:loss = 34.49926, step = 1000 (1.022 sec)\n"
     ]
    },
    {
     "name": "stderr",
     "output_type": "stream",
     "text": [
      "I0406 11:20:31.043571 140213923624768 basic_session_run_hooks.py:260] loss = 34.49926, step = 1000 (1.022 sec)\n"
     ]
    },
    {
     "name": "stdout",
     "output_type": "stream",
     "text": [
      "INFO:tensorflow:global_step/sec: 293.915\n"
     ]
    },
    {
     "name": "stderr",
     "output_type": "stream",
     "text": [
      "I0406 11:20:31.381448 140213923624768 basic_session_run_hooks.py:692] global_step/sec: 293.915\n"
     ]
    },
    {
     "name": "stdout",
     "output_type": "stream",
     "text": [
      "INFO:tensorflow:loss = 29.004421, step = 1100 (0.341 sec)\n"
     ]
    },
    {
     "name": "stderr",
     "output_type": "stream",
     "text": [
      "I0406 11:20:31.385076 140213923624768 basic_session_run_hooks.py:260] loss = 29.004421, step = 1100 (0.341 sec)\n"
     ]
    },
    {
     "name": "stdout",
     "output_type": "stream",
     "text": [
      "INFO:tensorflow:global_step/sec: 281.905\n"
     ]
    },
    {
     "name": "stderr",
     "output_type": "stream",
     "text": [
      "I0406 11:20:31.736182 140213923624768 basic_session_run_hooks.py:692] global_step/sec: 281.905\n"
     ]
    },
    {
     "name": "stdout",
     "output_type": "stream",
     "text": [
      "INFO:tensorflow:loss = 32.80918, step = 1200 (0.355 sec)\n"
     ]
    },
    {
     "name": "stderr",
     "output_type": "stream",
     "text": [
      "I0406 11:20:31.739980 140213923624768 basic_session_run_hooks.py:260] loss = 32.80918, step = 1200 (0.355 sec)\n"
     ]
    },
    {
     "name": "stdout",
     "output_type": "stream",
     "text": [
      "INFO:tensorflow:global_step/sec: 300.033\n"
     ]
    },
    {
     "name": "stderr",
     "output_type": "stream",
     "text": [
      "I0406 11:20:32.069515 140213923624768 basic_session_run_hooks.py:692] global_step/sec: 300.033\n"
     ]
    },
    {
     "name": "stdout",
     "output_type": "stream",
     "text": [
      "INFO:tensorflow:loss = 35.409683, step = 1300 (0.334 sec)\n"
     ]
    },
    {
     "name": "stderr",
     "output_type": "stream",
     "text": [
      "I0406 11:20:32.074364 140213923624768 basic_session_run_hooks.py:260] loss = 35.409683, step = 1300 (0.334 sec)\n"
     ]
    },
    {
     "name": "stdout",
     "output_type": "stream",
     "text": [
      "INFO:tensorflow:global_step/sec: 276.044\n"
     ]
    },
    {
     "name": "stderr",
     "output_type": "stream",
     "text": [
      "I0406 11:20:32.431838 140213923624768 basic_session_run_hooks.py:692] global_step/sec: 276.044\n"
     ]
    },
    {
     "name": "stdout",
     "output_type": "stream",
     "text": [
      "INFO:tensorflow:loss = 28.67936, step = 1400 (0.361 sec)\n"
     ]
    },
    {
     "name": "stderr",
     "output_type": "stream",
     "text": [
      "I0406 11:20:32.435682 140213923624768 basic_session_run_hooks.py:260] loss = 28.67936, step = 1400 (0.361 sec)\n"
     ]
    },
    {
     "name": "stdout",
     "output_type": "stream",
     "text": [
      "INFO:tensorflow:global_step/sec: 287.067\n"
     ]
    },
    {
     "name": "stderr",
     "output_type": "stream",
     "text": [
      "I0406 11:20:32.780116 140213923624768 basic_session_run_hooks.py:692] global_step/sec: 287.067\n"
     ]
    },
    {
     "name": "stdout",
     "output_type": "stream",
     "text": [
      "INFO:tensorflow:loss = 31.702555, step = 1500 (0.348 sec)\n"
     ]
    },
    {
     "name": "stderr",
     "output_type": "stream",
     "text": [
      "I0406 11:20:32.783707 140213923624768 basic_session_run_hooks.py:260] loss = 31.702555, step = 1500 (0.348 sec)\n"
     ]
    },
    {
     "name": "stdout",
     "output_type": "stream",
     "text": [
      "INFO:tensorflow:global_step/sec: 287.366\n"
     ]
    },
    {
     "name": "stderr",
     "output_type": "stream",
     "text": [
      "I0406 11:20:33.128092 140213923624768 basic_session_run_hooks.py:692] global_step/sec: 287.366\n"
     ]
    },
    {
     "name": "stdout",
     "output_type": "stream",
     "text": [
      "INFO:tensorflow:loss = 27.26019, step = 1600 (0.348 sec)\n"
     ]
    },
    {
     "name": "stderr",
     "output_type": "stream",
     "text": [
      "I0406 11:20:33.131895 140213923624768 basic_session_run_hooks.py:260] loss = 27.26019, step = 1600 (0.348 sec)\n"
     ]
    },
    {
     "name": "stdout",
     "output_type": "stream",
     "text": [
      "INFO:tensorflow:global_step/sec: 288.209\n"
     ]
    },
    {
     "name": "stderr",
     "output_type": "stream",
     "text": [
      "I0406 11:20:33.475061 140213923624768 basic_session_run_hooks.py:692] global_step/sec: 288.209\n"
     ]
    },
    {
     "name": "stdout",
     "output_type": "stream",
     "text": [
      "INFO:tensorflow:loss = 32.141235, step = 1700 (0.347 sec)\n"
     ]
    },
    {
     "name": "stderr",
     "output_type": "stream",
     "text": [
      "I0406 11:20:33.478808 140213923624768 basic_session_run_hooks.py:260] loss = 32.141235, step = 1700 (0.347 sec)\n"
     ]
    },
    {
     "name": "stdout",
     "output_type": "stream",
     "text": [
      "INFO:tensorflow:global_step/sec: 274.215\n"
     ]
    },
    {
     "name": "stderr",
     "output_type": "stream",
     "text": [
      "I0406 11:20:33.839784 140213923624768 basic_session_run_hooks.py:692] global_step/sec: 274.215\n"
     ]
    },
    {
     "name": "stdout",
     "output_type": "stream",
     "text": [
      "INFO:tensorflow:loss = 32.77611, step = 1800 (0.365 sec)\n"
     ]
    },
    {
     "name": "stderr",
     "output_type": "stream",
     "text": [
      "I0406 11:20:33.843364 140213923624768 basic_session_run_hooks.py:260] loss = 32.77611, step = 1800 (0.365 sec)\n"
     ]
    },
    {
     "name": "stdout",
     "output_type": "stream",
     "text": [
      "INFO:tensorflow:global_step/sec: 286.174\n"
     ]
    },
    {
     "name": "stderr",
     "output_type": "stream",
     "text": [
      "I0406 11:20:34.189166 140213923624768 basic_session_run_hooks.py:692] global_step/sec: 286.174\n"
     ]
    },
    {
     "name": "stdout",
     "output_type": "stream",
     "text": [
      "INFO:tensorflow:loss = 33.882492, step = 1900 (0.349 sec)\n"
     ]
    },
    {
     "name": "stderr",
     "output_type": "stream",
     "text": [
      "I0406 11:20:34.192812 140213923624768 basic_session_run_hooks.py:260] loss = 33.882492, step = 1900 (0.349 sec)\n"
     ]
    },
    {
     "name": "stdout",
     "output_type": "stream",
     "text": [
      "INFO:tensorflow:Saving checkpoints for 2000 into blerssi/model.ckpt.\n"
     ]
    },
    {
     "name": "stderr",
     "output_type": "stream",
     "text": [
      "I0406 11:20:34.546863 140213923624768 basic_session_run_hooks.py:606] Saving checkpoints for 2000 into blerssi/model.ckpt.\n"
     ]
    },
    {
     "name": "stdout",
     "output_type": "stream",
     "text": [
      "INFO:tensorflow:Calling model_fn.\n"
     ]
    },
    {
     "name": "stderr",
     "output_type": "stream",
     "text": [
      "I0406 11:20:34.616988 140213923624768 estimator.py:1148] Calling model_fn.\n"
     ]
    },
    {
     "name": "stdout",
     "output_type": "stream",
     "text": [
      "INFO:tensorflow:Done calling model_fn.\n"
     ]
    },
    {
     "name": "stderr",
     "output_type": "stream",
     "text": [
      "I0406 11:20:34.792822 140213923624768 estimator.py:1150] Done calling model_fn.\n"
     ]
    },
    {
     "name": "stdout",
     "output_type": "stream",
     "text": [
      "INFO:tensorflow:Starting evaluation at 2020-04-06T11:20:34Z\n"
     ]
    },
    {
     "name": "stderr",
     "output_type": "stream",
     "text": [
      "I0406 11:20:34.807370 140213923624768 evaluation.py:255] Starting evaluation at 2020-04-06T11:20:34Z\n"
     ]
    },
    {
     "name": "stdout",
     "output_type": "stream",
     "text": [
      "INFO:tensorflow:Graph was finalized.\n"
     ]
    },
    {
     "name": "stderr",
     "output_type": "stream",
     "text": [
      "I0406 11:20:35.014999 140213923624768 monitored_session.py:240] Graph was finalized.\n"
     ]
    },
    {
     "name": "stdout",
     "output_type": "stream",
     "text": [
      "INFO:tensorflow:Restoring parameters from blerssi/model.ckpt-2000\n"
     ]
    },
    {
     "name": "stderr",
     "output_type": "stream",
     "text": [
      "I0406 11:20:35.094097 140213923624768 saver.py:1284] Restoring parameters from blerssi/model.ckpt-2000\n"
     ]
    },
    {
     "name": "stdout",
     "output_type": "stream",
     "text": [
      "INFO:tensorflow:Running local_init_op.\n"
     ]
    },
    {
     "name": "stderr",
     "output_type": "stream",
     "text": [
      "I0406 11:20:35.147716 140213923624768 session_manager.py:500] Running local_init_op.\n"
     ]
    },
    {
     "name": "stdout",
     "output_type": "stream",
     "text": [
      "INFO:tensorflow:Done running local_init_op.\n"
     ]
    },
    {
     "name": "stderr",
     "output_type": "stream",
     "text": [
      "I0406 11:20:35.161900 140213923624768 session_manager.py:502] Done running local_init_op.\n"
     ]
    },
    {
     "name": "stdout",
     "output_type": "stream",
     "text": [
      "INFO:tensorflow:Evaluation [1/1]\n"
     ]
    },
    {
     "name": "stderr",
     "output_type": "stream",
     "text": [
      "I0406 11:20:35.270307 140213923624768 evaluation.py:167] Evaluation [1/1]\n"
     ]
    },
    {
     "name": "stdout",
     "output_type": "stream",
     "text": [
      "INFO:tensorflow:Finished evaluation at 2020-04-06-11:20:35\n"
     ]
    },
    {
     "name": "stderr",
     "output_type": "stream",
     "text": [
      "I0406 11:20:35.318574 140213923624768 evaluation.py:275] Finished evaluation at 2020-04-06-11:20:35\n"
     ]
    },
    {
     "name": "stdout",
     "output_type": "stream",
     "text": [
      "INFO:tensorflow:Saving dict for global step 2000: accuracy = 0.25, average_loss = 2.383222, global_step = 2000, loss = 28.598665\n"
     ]
    },
    {
     "name": "stderr",
     "output_type": "stream",
     "text": [
      "I0406 11:20:35.320871 140213923624768 estimator.py:2049] Saving dict for global step 2000: accuracy = 0.25, average_loss = 2.383222, global_step = 2000, loss = 28.598665\n"
     ]
    },
    {
     "name": "stdout",
     "output_type": "stream",
     "text": [
      "INFO:tensorflow:Saving 'checkpoint_path' summary for global step 2000: blerssi/model.ckpt-2000\n"
     ]
    },
    {
     "name": "stderr",
     "output_type": "stream",
     "text": [
      "I0406 11:20:35.323196 140213923624768 estimator.py:2109] Saving 'checkpoint_path' summary for global step 2000: blerssi/model.ckpt-2000\n"
     ]
    },
    {
     "name": "stdout",
     "output_type": "stream",
     "text": [
      "INFO:tensorflow:global_step/sec: 87.3986\n"
     ]
    },
    {
     "name": "stderr",
     "output_type": "stream",
     "text": [
      "I0406 11:20:35.333310 140213923624768 basic_session_run_hooks.py:692] global_step/sec: 87.3986\n"
     ]
    },
    {
     "name": "stdout",
     "output_type": "stream",
     "text": [
      "INFO:tensorflow:loss = 29.9129, step = 2000 (1.144 sec)\n"
     ]
    },
    {
     "name": "stderr",
     "output_type": "stream",
     "text": [
      "I0406 11:20:35.336462 140213923624768 basic_session_run_hooks.py:260] loss = 29.9129, step = 2000 (1.144 sec)\n"
     ]
    },
    {
     "name": "stdout",
     "output_type": "stream",
     "text": [
      "INFO:tensorflow:global_step/sec: 270.512\n"
     ]
    },
    {
     "name": "stderr",
     "output_type": "stream",
     "text": [
      "I0406 11:20:35.703312 140213923624768 basic_session_run_hooks.py:692] global_step/sec: 270.512\n"
     ]
    },
    {
     "name": "stdout",
     "output_type": "stream",
     "text": [
      "INFO:tensorflow:loss = 32.44304, step = 2100 (0.373 sec)\n"
     ]
    },
    {
     "name": "stderr",
     "output_type": "stream",
     "text": [
      "I0406 11:20:35.709410 140213923624768 basic_session_run_hooks.py:260] loss = 32.44304, step = 2100 (0.373 sec)\n"
     ]
    },
    {
     "name": "stdout",
     "output_type": "stream",
     "text": [
      "INFO:tensorflow:global_step/sec: 257.691\n"
     ]
    },
    {
     "name": "stderr",
     "output_type": "stream",
     "text": [
      "I0406 11:20:36.091267 140213923624768 basic_session_run_hooks.py:692] global_step/sec: 257.691\n"
     ]
    },
    {
     "name": "stdout",
     "output_type": "stream",
     "text": [
      "INFO:tensorflow:loss = 33.24015, step = 2200 (0.387 sec)\n"
     ]
    },
    {
     "name": "stderr",
     "output_type": "stream",
     "text": [
      "I0406 11:20:36.096392 140213923624768 basic_session_run_hooks.py:260] loss = 33.24015, step = 2200 (0.387 sec)\n"
     ]
    },
    {
     "name": "stdout",
     "output_type": "stream",
     "text": [
      "INFO:tensorflow:global_step/sec: 250.57\n"
     ]
    },
    {
     "name": "stderr",
     "output_type": "stream",
     "text": [
      "I0406 11:20:36.490772 140213923624768 basic_session_run_hooks.py:692] global_step/sec: 250.57\n"
     ]
    },
    {
     "name": "stdout",
     "output_type": "stream",
     "text": [
      "INFO:tensorflow:loss = 27.629015, step = 2300 (0.402 sec)\n"
     ]
    },
    {
     "name": "stderr",
     "output_type": "stream",
     "text": [
      "I0406 11:20:36.498662 140213923624768 basic_session_run_hooks.py:260] loss = 27.629015, step = 2300 (0.402 sec)\n"
     ]
    },
    {
     "name": "stdout",
     "output_type": "stream",
     "text": [
      "INFO:tensorflow:global_step/sec: 266.198\n"
     ]
    },
    {
     "name": "stderr",
     "output_type": "stream",
     "text": [
      "I0406 11:20:36.865821 140213923624768 basic_session_run_hooks.py:692] global_step/sec: 266.198\n"
     ]
    },
    {
     "name": "stdout",
     "output_type": "stream",
     "text": [
      "INFO:tensorflow:loss = 27.064255, step = 2400 (0.371 sec)\n"
     ]
    },
    {
     "name": "stderr",
     "output_type": "stream",
     "text": [
      "I0406 11:20:36.869531 140213923624768 basic_session_run_hooks.py:260] loss = 27.064255, step = 2400 (0.371 sec)\n"
     ]
    },
    {
     "name": "stdout",
     "output_type": "stream",
     "text": [
      "INFO:tensorflow:global_step/sec: 265.335\n"
     ]
    },
    {
     "name": "stderr",
     "output_type": "stream",
     "text": [
      "I0406 11:20:37.242851 140213923624768 basic_session_run_hooks.py:692] global_step/sec: 265.335\n"
     ]
    },
    {
     "name": "stdout",
     "output_type": "stream",
     "text": [
      "INFO:tensorflow:loss = 29.71592, step = 2500 (0.378 sec)\n"
     ]
    },
    {
     "name": "stderr",
     "output_type": "stream",
     "text": [
      "I0406 11:20:37.247489 140213923624768 basic_session_run_hooks.py:260] loss = 29.71592, step = 2500 (0.378 sec)\n"
     ]
    },
    {
     "name": "stdout",
     "output_type": "stream",
     "text": [
      "INFO:tensorflow:global_step/sec: 273.081\n"
     ]
    },
    {
     "name": "stderr",
     "output_type": "stream",
     "text": [
      "I0406 11:20:37.608906 140213923624768 basic_session_run_hooks.py:692] global_step/sec: 273.081\n"
     ]
    },
    {
     "name": "stdout",
     "output_type": "stream",
     "text": [
      "INFO:tensorflow:loss = 29.698488, step = 2600 (0.366 sec)\n"
     ]
    },
    {
     "name": "stderr",
     "output_type": "stream",
     "text": [
      "I0406 11:20:37.613452 140213923624768 basic_session_run_hooks.py:260] loss = 29.698488, step = 2600 (0.366 sec)\n"
     ]
    },
    {
     "name": "stdout",
     "output_type": "stream",
     "text": [
      "INFO:tensorflow:global_step/sec: 279.719\n"
     ]
    },
    {
     "name": "stderr",
     "output_type": "stream",
     "text": [
      "I0406 11:20:37.966427 140213923624768 basic_session_run_hooks.py:692] global_step/sec: 279.719\n"
     ]
    },
    {
     "name": "stdout",
     "output_type": "stream",
     "text": [
      "INFO:tensorflow:loss = 32.775394, step = 2700 (0.357 sec)\n"
     ]
    },
    {
     "name": "stderr",
     "output_type": "stream",
     "text": [
      "I0406 11:20:37.970319 140213923624768 basic_session_run_hooks.py:260] loss = 32.775394, step = 2700 (0.357 sec)\n"
     ]
    },
    {
     "name": "stdout",
     "output_type": "stream",
     "text": [
      "INFO:tensorflow:global_step/sec: 277.631\n"
     ]
    },
    {
     "name": "stderr",
     "output_type": "stream",
     "text": [
      "I0406 11:20:38.326638 140213923624768 basic_session_run_hooks.py:692] global_step/sec: 277.631\n"
     ]
    },
    {
     "name": "stdout",
     "output_type": "stream",
     "text": [
      "INFO:tensorflow:loss = 30.574627, step = 2800 (0.360 sec)\n"
     ]
    },
    {
     "name": "stderr",
     "output_type": "stream",
     "text": [
      "I0406 11:20:38.330264 140213923624768 basic_session_run_hooks.py:260] loss = 30.574627, step = 2800 (0.360 sec)\n"
     ]
    },
    {
     "name": "stdout",
     "output_type": "stream",
     "text": [
      "INFO:tensorflow:global_step/sec: 297.07\n"
     ]
    },
    {
     "name": "stderr",
     "output_type": "stream",
     "text": [
      "I0406 11:20:38.663214 140213923624768 basic_session_run_hooks.py:692] global_step/sec: 297.07\n"
     ]
    },
    {
     "name": "stdout",
     "output_type": "stream",
     "text": [
      "INFO:tensorflow:loss = 25.009815, step = 2900 (0.336 sec)\n"
     ]
    },
    {
     "name": "stderr",
     "output_type": "stream",
     "text": [
      "I0406 11:20:38.666724 140213923624768 basic_session_run_hooks.py:260] loss = 25.009815, step = 2900 (0.336 sec)\n"
     ]
    },
    {
     "name": "stdout",
     "output_type": "stream",
     "text": [
      "INFO:tensorflow:Saving checkpoints for 3000 into blerssi/model.ckpt.\n"
     ]
    },
    {
     "name": "stderr",
     "output_type": "stream",
     "text": [
      "I0406 11:20:39.002656 140213923624768 basic_session_run_hooks.py:606] Saving checkpoints for 3000 into blerssi/model.ckpt.\n"
     ]
    },
    {
     "name": "stdout",
     "output_type": "stream",
     "text": [
      "INFO:tensorflow:Calling model_fn.\n"
     ]
    },
    {
     "name": "stderr",
     "output_type": "stream",
     "text": [
      "I0406 11:20:39.070883 140213923624768 estimator.py:1148] Calling model_fn.\n"
     ]
    },
    {
     "name": "stdout",
     "output_type": "stream",
     "text": [
      "INFO:tensorflow:Done calling model_fn.\n"
     ]
    },
    {
     "name": "stderr",
     "output_type": "stream",
     "text": [
      "I0406 11:20:39.253421 140213923624768 estimator.py:1150] Done calling model_fn.\n"
     ]
    },
    {
     "name": "stdout",
     "output_type": "stream",
     "text": [
      "INFO:tensorflow:Starting evaluation at 2020-04-06T11:20:39Z\n"
     ]
    },
    {
     "name": "stderr",
     "output_type": "stream",
     "text": [
      "I0406 11:20:39.269320 140213923624768 evaluation.py:255] Starting evaluation at 2020-04-06T11:20:39Z\n"
     ]
    },
    {
     "name": "stdout",
     "output_type": "stream",
     "text": [
      "INFO:tensorflow:Graph was finalized.\n"
     ]
    },
    {
     "name": "stderr",
     "output_type": "stream",
     "text": [
      "I0406 11:20:39.345224 140213923624768 monitored_session.py:240] Graph was finalized.\n"
     ]
    },
    {
     "name": "stdout",
     "output_type": "stream",
     "text": [
      "INFO:tensorflow:Restoring parameters from blerssi/model.ckpt-3000\n"
     ]
    },
    {
     "name": "stderr",
     "output_type": "stream",
     "text": [
      "I0406 11:20:39.352064 140213923624768 saver.py:1284] Restoring parameters from blerssi/model.ckpt-3000\n"
     ]
    },
    {
     "name": "stdout",
     "output_type": "stream",
     "text": [
      "INFO:tensorflow:Running local_init_op.\n"
     ]
    },
    {
     "name": "stderr",
     "output_type": "stream",
     "text": [
      "I0406 11:20:39.396537 140213923624768 session_manager.py:500] Running local_init_op.\n"
     ]
    },
    {
     "name": "stdout",
     "output_type": "stream",
     "text": [
      "INFO:tensorflow:Done running local_init_op.\n"
     ]
    },
    {
     "name": "stderr",
     "output_type": "stream",
     "text": [
      "I0406 11:20:39.422045 140213923624768 session_manager.py:502] Done running local_init_op.\n"
     ]
    },
    {
     "name": "stdout",
     "output_type": "stream",
     "text": [
      "INFO:tensorflow:Evaluation [1/1]\n"
     ]
    },
    {
     "name": "stderr",
     "output_type": "stream",
     "text": [
      "I0406 11:20:39.585358 140213923624768 evaluation.py:167] Evaluation [1/1]\n"
     ]
    },
    {
     "name": "stdout",
     "output_type": "stream",
     "text": [
      "INFO:tensorflow:Finished evaluation at 2020-04-06-11:20:39\n"
     ]
    },
    {
     "name": "stderr",
     "output_type": "stream",
     "text": [
      "I0406 11:20:39.634359 140213923624768 evaluation.py:275] Finished evaluation at 2020-04-06-11:20:39\n"
     ]
    },
    {
     "name": "stdout",
     "output_type": "stream",
     "text": [
      "INFO:tensorflow:Saving dict for global step 3000: accuracy = 0.25, average_loss = 2.3472006, global_step = 3000, loss = 28.166407\n"
     ]
    },
    {
     "name": "stderr",
     "output_type": "stream",
     "text": [
      "I0406 11:20:39.636792 140213923624768 estimator.py:2049] Saving dict for global step 3000: accuracy = 0.25, average_loss = 2.3472006, global_step = 3000, loss = 28.166407\n"
     ]
    },
    {
     "name": "stdout",
     "output_type": "stream",
     "text": [
      "INFO:tensorflow:Saving 'checkpoint_path' summary for global step 3000: blerssi/model.ckpt-3000\n"
     ]
    },
    {
     "name": "stderr",
     "output_type": "stream",
     "text": [
      "I0406 11:20:39.639914 140213923624768 estimator.py:2109] Saving 'checkpoint_path' summary for global step 3000: blerssi/model.ckpt-3000\n"
     ]
    },
    {
     "name": "stdout",
     "output_type": "stream",
     "text": [
      "INFO:tensorflow:global_step/sec: 101.29\n"
     ]
    },
    {
     "name": "stderr",
     "output_type": "stream",
     "text": [
      "I0406 11:20:39.650501 140213923624768 basic_session_run_hooks.py:692] global_step/sec: 101.29\n"
     ]
    },
    {
     "name": "stdout",
     "output_type": "stream",
     "text": [
      "INFO:tensorflow:loss = 29.316795, step = 3000 (0.987 sec)\n"
     ]
    },
    {
     "name": "stderr",
     "output_type": "stream",
     "text": [
      "I0406 11:20:39.653905 140213923624768 basic_session_run_hooks.py:260] loss = 29.316795, step = 3000 (0.987 sec)\n"
     ]
    },
    {
     "name": "stdout",
     "output_type": "stream",
     "text": [
      "INFO:tensorflow:global_step/sec: 279.883\n"
     ]
    },
    {
     "name": "stderr",
     "output_type": "stream",
     "text": [
      "I0406 11:20:40.007814 140213923624768 basic_session_run_hooks.py:692] global_step/sec: 279.883\n"
     ]
    },
    {
     "name": "stdout",
     "output_type": "stream",
     "text": [
      "INFO:tensorflow:loss = 25.880814, step = 3100 (0.358 sec)\n"
     ]
    },
    {
     "name": "stderr",
     "output_type": "stream",
     "text": [
      "I0406 11:20:40.011665 140213923624768 basic_session_run_hooks.py:260] loss = 25.880814, step = 3100 (0.358 sec)\n"
     ]
    },
    {
     "name": "stdout",
     "output_type": "stream",
     "text": [
      "INFO:tensorflow:global_step/sec: 265.229\n"
     ]
    },
    {
     "name": "stderr",
     "output_type": "stream",
     "text": [
      "I0406 11:20:40.384809 140213923624768 basic_session_run_hooks.py:692] global_step/sec: 265.229\n"
     ]
    },
    {
     "name": "stdout",
     "output_type": "stream",
     "text": [
      "INFO:tensorflow:loss = 30.773724, step = 3200 (0.377 sec)\n"
     ]
    },
    {
     "name": "stderr",
     "output_type": "stream",
     "text": [
      "I0406 11:20:40.388587 140213923624768 basic_session_run_hooks.py:260] loss = 30.773724, step = 3200 (0.377 sec)\n"
     ]
    },
    {
     "name": "stdout",
     "output_type": "stream",
     "text": [
      "INFO:tensorflow:global_step/sec: 271.747\n"
     ]
    },
    {
     "name": "stderr",
     "output_type": "stream",
     "text": [
      "I0406 11:20:40.752795 140213923624768 basic_session_run_hooks.py:692] global_step/sec: 271.747\n"
     ]
    },
    {
     "name": "stdout",
     "output_type": "stream",
     "text": [
      "INFO:tensorflow:loss = 30.113272, step = 3300 (0.368 sec)\n"
     ]
    },
    {
     "name": "stderr",
     "output_type": "stream",
     "text": [
      "I0406 11:20:40.756601 140213923624768 basic_session_run_hooks.py:260] loss = 30.113272, step = 3300 (0.368 sec)\n"
     ]
    },
    {
     "name": "stdout",
     "output_type": "stream",
     "text": [
      "INFO:tensorflow:global_step/sec: 279.049\n"
     ]
    },
    {
     "name": "stderr",
     "output_type": "stream",
     "text": [
      "I0406 11:20:41.111582 140213923624768 basic_session_run_hooks.py:692] global_step/sec: 279.049\n"
     ]
    },
    {
     "name": "stdout",
     "output_type": "stream",
     "text": [
      "INFO:tensorflow:loss = 26.428404, step = 3400 (0.361 sec)\n"
     ]
    },
    {
     "name": "stderr",
     "output_type": "stream",
     "text": [
      "I0406 11:20:41.117343 140213923624768 basic_session_run_hooks.py:260] loss = 26.428404, step = 3400 (0.361 sec)\n"
     ]
    },
    {
     "name": "stdout",
     "output_type": "stream",
     "text": [
      "INFO:tensorflow:global_step/sec: 286.013\n"
     ]
    },
    {
     "name": "stderr",
     "output_type": "stream",
     "text": [
      "I0406 11:20:41.460785 140213923624768 basic_session_run_hooks.py:692] global_step/sec: 286.013\n"
     ]
    },
    {
     "name": "stdout",
     "output_type": "stream",
     "text": [
      "INFO:tensorflow:loss = 31.71016, step = 3500 (0.348 sec)\n"
     ]
    },
    {
     "name": "stderr",
     "output_type": "stream",
     "text": [
      "I0406 11:20:41.464862 140213923624768 basic_session_run_hooks.py:260] loss = 31.71016, step = 3500 (0.348 sec)\n"
     ]
    },
    {
     "name": "stdout",
     "output_type": "stream",
     "text": [
      "INFO:tensorflow:global_step/sec: 289.858\n"
     ]
    },
    {
     "name": "stderr",
     "output_type": "stream",
     "text": [
      "I0406 11:20:41.805851 140213923624768 basic_session_run_hooks.py:692] global_step/sec: 289.858\n"
     ]
    },
    {
     "name": "stdout",
     "output_type": "stream",
     "text": [
      "INFO:tensorflow:loss = 29.44272, step = 3600 (0.346 sec)\n"
     ]
    },
    {
     "name": "stderr",
     "output_type": "stream",
     "text": [
      "I0406 11:20:41.810927 140213923624768 basic_session_run_hooks.py:260] loss = 29.44272, step = 3600 (0.346 sec)\n"
     ]
    },
    {
     "name": "stdout",
     "output_type": "stream",
     "text": [
      "INFO:tensorflow:global_step/sec: 290.937\n"
     ]
    },
    {
     "name": "stderr",
     "output_type": "stream",
     "text": [
      "I0406 11:20:42.149551 140213923624768 basic_session_run_hooks.py:692] global_step/sec: 290.937\n"
     ]
    },
    {
     "name": "stdout",
     "output_type": "stream",
     "text": [
      "INFO:tensorflow:loss = 26.056856, step = 3700 (0.342 sec)\n"
     ]
    },
    {
     "name": "stderr",
     "output_type": "stream",
     "text": [
      "I0406 11:20:42.152736 140213923624768 basic_session_run_hooks.py:260] loss = 26.056856, step = 3700 (0.342 sec)\n"
     ]
    },
    {
     "name": "stdout",
     "output_type": "stream",
     "text": [
      "INFO:tensorflow:global_step/sec: 279.021\n"
     ]
    },
    {
     "name": "stderr",
     "output_type": "stream",
     "text": [
      "I0406 11:20:42.508256 140213923624768 basic_session_run_hooks.py:692] global_step/sec: 279.021\n"
     ]
    },
    {
     "name": "stdout",
     "output_type": "stream",
     "text": [
      "INFO:tensorflow:loss = 23.099312, step = 3800 (0.361 sec)\n"
     ]
    },
    {
     "name": "stderr",
     "output_type": "stream",
     "text": [
      "I0406 11:20:42.514162 140213923624768 basic_session_run_hooks.py:260] loss = 23.099312, step = 3800 (0.361 sec)\n"
     ]
    },
    {
     "name": "stdout",
     "output_type": "stream",
     "text": [
      "INFO:tensorflow:global_step/sec: 275.261\n"
     ]
    },
    {
     "name": "stderr",
     "output_type": "stream",
     "text": [
      "I0406 11:20:42.871356 140213923624768 basic_session_run_hooks.py:692] global_step/sec: 275.261\n"
     ]
    },
    {
     "name": "stdout",
     "output_type": "stream",
     "text": [
      "INFO:tensorflow:loss = 24.135319, step = 3900 (0.362 sec)\n"
     ]
    },
    {
     "name": "stderr",
     "output_type": "stream",
     "text": [
      "I0406 11:20:42.875919 140213923624768 basic_session_run_hooks.py:260] loss = 24.135319, step = 3900 (0.362 sec)\n"
     ]
    },
    {
     "name": "stdout",
     "output_type": "stream",
     "text": [
      "INFO:tensorflow:Saving checkpoints for 4000 into blerssi/model.ckpt.\n"
     ]
    },
    {
     "name": "stderr",
     "output_type": "stream",
     "text": [
      "I0406 11:20:43.232992 140213923624768 basic_session_run_hooks.py:606] Saving checkpoints for 4000 into blerssi/model.ckpt.\n"
     ]
    },
    {
     "name": "stdout",
     "output_type": "stream",
     "text": [
      "INFO:tensorflow:Calling model_fn.\n"
     ]
    },
    {
     "name": "stderr",
     "output_type": "stream",
     "text": [
      "I0406 11:20:43.303297 140213923624768 estimator.py:1148] Calling model_fn.\n"
     ]
    },
    {
     "name": "stdout",
     "output_type": "stream",
     "text": [
      "INFO:tensorflow:Done calling model_fn.\n"
     ]
    },
    {
     "name": "stderr",
     "output_type": "stream",
     "text": [
      "I0406 11:20:43.489457 140213923624768 estimator.py:1150] Done calling model_fn.\n"
     ]
    },
    {
     "name": "stdout",
     "output_type": "stream",
     "text": [
      "INFO:tensorflow:Starting evaluation at 2020-04-06T11:20:43Z\n"
     ]
    },
    {
     "name": "stderr",
     "output_type": "stream",
     "text": [
      "I0406 11:20:43.513253 140213923624768 evaluation.py:255] Starting evaluation at 2020-04-06T11:20:43Z\n"
     ]
    },
    {
     "name": "stdout",
     "output_type": "stream",
     "text": [
      "INFO:tensorflow:Graph was finalized.\n"
     ]
    },
    {
     "name": "stderr",
     "output_type": "stream",
     "text": [
      "I0406 11:20:43.591145 140213923624768 monitored_session.py:240] Graph was finalized.\n"
     ]
    },
    {
     "name": "stdout",
     "output_type": "stream",
     "text": [
      "INFO:tensorflow:Restoring parameters from blerssi/model.ckpt-4000\n"
     ]
    },
    {
     "name": "stderr",
     "output_type": "stream",
     "text": [
      "I0406 11:20:43.599008 140213923624768 saver.py:1284] Restoring parameters from blerssi/model.ckpt-4000\n"
     ]
    },
    {
     "name": "stdout",
     "output_type": "stream",
     "text": [
      "INFO:tensorflow:Running local_init_op.\n"
     ]
    },
    {
     "name": "stderr",
     "output_type": "stream",
     "text": [
      "I0406 11:20:43.644696 140213923624768 session_manager.py:500] Running local_init_op.\n"
     ]
    },
    {
     "name": "stdout",
     "output_type": "stream",
     "text": [
      "INFO:tensorflow:Done running local_init_op.\n"
     ]
    },
    {
     "name": "stderr",
     "output_type": "stream",
     "text": [
      "I0406 11:20:43.661116 140213923624768 session_manager.py:502] Done running local_init_op.\n"
     ]
    },
    {
     "name": "stdout",
     "output_type": "stream",
     "text": [
      "INFO:tensorflow:Evaluation [1/1]\n"
     ]
    },
    {
     "name": "stderr",
     "output_type": "stream",
     "text": [
      "I0406 11:20:43.749667 140213923624768 evaluation.py:167] Evaluation [1/1]\n"
     ]
    },
    {
     "name": "stdout",
     "output_type": "stream",
     "text": [
      "INFO:tensorflow:Finished evaluation at 2020-04-06-11:20:43\n"
     ]
    },
    {
     "name": "stderr",
     "output_type": "stream",
     "text": [
      "I0406 11:20:43.797943 140213923624768 evaluation.py:275] Finished evaluation at 2020-04-06-11:20:43\n"
     ]
    },
    {
     "name": "stdout",
     "output_type": "stream",
     "text": [
      "INFO:tensorflow:Saving dict for global step 4000: accuracy = 0.25, average_loss = 2.3726141, global_step = 4000, loss = 28.47137\n"
     ]
    },
    {
     "name": "stderr",
     "output_type": "stream",
     "text": [
      "I0406 11:20:43.800532 140213923624768 estimator.py:2049] Saving dict for global step 4000: accuracy = 0.25, average_loss = 2.3726141, global_step = 4000, loss = 28.47137\n"
     ]
    },
    {
     "name": "stdout",
     "output_type": "stream",
     "text": [
      "INFO:tensorflow:Saving 'checkpoint_path' summary for global step 4000: blerssi/model.ckpt-4000\n"
     ]
    },
    {
     "name": "stderr",
     "output_type": "stream",
     "text": [
      "I0406 11:20:43.803485 140213923624768 estimator.py:2109] Saving 'checkpoint_path' summary for global step 4000: blerssi/model.ckpt-4000\n"
     ]
    },
    {
     "name": "stdout",
     "output_type": "stream",
     "text": [
      "INFO:tensorflow:global_step/sec: 105.875\n"
     ]
    },
    {
     "name": "stderr",
     "output_type": "stream",
     "text": [
      "I0406 11:20:43.815719 140213923624768 basic_session_run_hooks.py:692] global_step/sec: 105.875\n"
     ]
    },
    {
     "name": "stdout",
     "output_type": "stream",
     "text": [
      "INFO:tensorflow:loss = 27.348204, step = 4000 (0.943 sec)\n"
     ]
    },
    {
     "name": "stderr",
     "output_type": "stream",
     "text": [
      "I0406 11:20:43.818878 140213923624768 basic_session_run_hooks.py:260] loss = 27.348204, step = 4000 (0.943 sec)\n"
     ]
    },
    {
     "name": "stdout",
     "output_type": "stream",
     "text": [
      "INFO:tensorflow:global_step/sec: 283.635\n"
     ]
    },
    {
     "name": "stderr",
     "output_type": "stream",
     "text": [
      "I0406 11:20:44.168272 140213923624768 basic_session_run_hooks.py:692] global_step/sec: 283.635\n"
     ]
    },
    {
     "name": "stdout",
     "output_type": "stream",
     "text": [
      "INFO:tensorflow:loss = 26.693993, step = 4100 (0.353 sec)\n"
     ]
    },
    {
     "name": "stderr",
     "output_type": "stream",
     "text": [
      "I0406 11:20:44.172065 140213923624768 basic_session_run_hooks.py:260] loss = 26.693993, step = 4100 (0.353 sec)\n"
     ]
    },
    {
     "name": "stdout",
     "output_type": "stream",
     "text": [
      "INFO:tensorflow:global_step/sec: 283.426\n"
     ]
    },
    {
     "name": "stderr",
     "output_type": "stream",
     "text": [
      "I0406 11:20:44.521098 140213923624768 basic_session_run_hooks.py:692] global_step/sec: 283.426\n"
     ]
    },
    {
     "name": "stdout",
     "output_type": "stream",
     "text": [
      "INFO:tensorflow:loss = 25.008394, step = 4200 (0.353 sec)\n"
     ]
    },
    {
     "name": "stderr",
     "output_type": "stream",
     "text": [
      "I0406 11:20:44.524679 140213923624768 basic_session_run_hooks.py:260] loss = 25.008394, step = 4200 (0.353 sec)\n"
     ]
    },
    {
     "name": "stdout",
     "output_type": "stream",
     "text": [
      "INFO:tensorflow:global_step/sec: 281.593\n"
     ]
    },
    {
     "name": "stderr",
     "output_type": "stream",
     "text": [
      "I0406 11:20:44.876517 140213923624768 basic_session_run_hooks.py:692] global_step/sec: 281.593\n"
     ]
    },
    {
     "name": "stdout",
     "output_type": "stream",
     "text": [
      "INFO:tensorflow:loss = 26.734684, step = 4300 (0.358 sec)\n"
     ]
    },
    {
     "name": "stderr",
     "output_type": "stream",
     "text": [
      "I0406 11:20:44.882800 140213923624768 basic_session_run_hooks.py:260] loss = 26.734684, step = 4300 (0.358 sec)\n"
     ]
    },
    {
     "name": "stdout",
     "output_type": "stream",
     "text": [
      "INFO:tensorflow:global_step/sec: 266.556\n"
     ]
    },
    {
     "name": "stderr",
     "output_type": "stream",
     "text": [
      "I0406 11:20:45.251521 140213923624768 basic_session_run_hooks.py:692] global_step/sec: 266.556\n"
     ]
    },
    {
     "name": "stdout",
     "output_type": "stream",
     "text": [
      "INFO:tensorflow:loss = 28.448826, step = 4400 (0.373 sec)\n"
     ]
    },
    {
     "name": "stderr",
     "output_type": "stream",
     "text": [
      "I0406 11:20:45.255862 140213923624768 basic_session_run_hooks.py:260] loss = 28.448826, step = 4400 (0.373 sec)\n"
     ]
    },
    {
     "name": "stdout",
     "output_type": "stream",
     "text": [
      "INFO:tensorflow:global_step/sec: 264.512\n"
     ]
    },
    {
     "name": "stderr",
     "output_type": "stream",
     "text": [
      "I0406 11:20:45.629512 140213923624768 basic_session_run_hooks.py:692] global_step/sec: 264.512\n"
     ]
    },
    {
     "name": "stdout",
     "output_type": "stream",
     "text": [
      "INFO:tensorflow:loss = 28.891562, step = 4500 (0.379 sec)\n"
     ]
    },
    {
     "name": "stderr",
     "output_type": "stream",
     "text": [
      "I0406 11:20:45.634707 140213923624768 basic_session_run_hooks.py:260] loss = 28.891562, step = 4500 (0.379 sec)\n"
     ]
    },
    {
     "name": "stdout",
     "output_type": "stream",
     "text": [
      "INFO:tensorflow:global_step/sec: 277.89\n"
     ]
    },
    {
     "name": "stderr",
     "output_type": "stream",
     "text": [
      "I0406 11:20:45.989192 140213923624768 basic_session_run_hooks.py:692] global_step/sec: 277.89\n"
     ]
    },
    {
     "name": "stdout",
     "output_type": "stream",
     "text": [
      "INFO:tensorflow:loss = 29.298122, step = 4600 (0.357 sec)\n"
     ]
    },
    {
     "name": "stderr",
     "output_type": "stream",
     "text": [
      "I0406 11:20:45.991685 140213923624768 basic_session_run_hooks.py:260] loss = 29.298122, step = 4600 (0.357 sec)\n"
     ]
    },
    {
     "name": "stdout",
     "output_type": "stream",
     "text": [
      "INFO:tensorflow:global_step/sec: 288.22\n"
     ]
    },
    {
     "name": "stderr",
     "output_type": "stream",
     "text": [
      "I0406 11:20:46.336266 140213923624768 basic_session_run_hooks.py:692] global_step/sec: 288.22\n"
     ]
    },
    {
     "name": "stdout",
     "output_type": "stream",
     "text": [
      "INFO:tensorflow:loss = 25.230064, step = 4700 (0.348 sec)\n"
     ]
    },
    {
     "name": "stderr",
     "output_type": "stream",
     "text": [
      "I0406 11:20:46.340181 140213923624768 basic_session_run_hooks.py:260] loss = 25.230064, step = 4700 (0.348 sec)\n"
     ]
    },
    {
     "name": "stdout",
     "output_type": "stream",
     "text": [
      "INFO:tensorflow:global_step/sec: 277.017\n"
     ]
    },
    {
     "name": "stderr",
     "output_type": "stream",
     "text": [
      "I0406 11:20:46.697213 140213923624768 basic_session_run_hooks.py:692] global_step/sec: 277.017\n"
     ]
    },
    {
     "name": "stdout",
     "output_type": "stream",
     "text": [
      "INFO:tensorflow:loss = 32.117306, step = 4800 (0.361 sec)\n"
     ]
    },
    {
     "name": "stderr",
     "output_type": "stream",
     "text": [
      "I0406 11:20:46.701122 140213923624768 basic_session_run_hooks.py:260] loss = 32.117306, step = 4800 (0.361 sec)\n"
     ]
    },
    {
     "name": "stdout",
     "output_type": "stream",
     "text": [
      "INFO:tensorflow:global_step/sec: 286.508\n"
     ]
    },
    {
     "name": "stderr",
     "output_type": "stream",
     "text": [
      "I0406 11:20:47.046268 140213923624768 basic_session_run_hooks.py:692] global_step/sec: 286.508\n"
     ]
    },
    {
     "name": "stdout",
     "output_type": "stream",
     "text": [
      "INFO:tensorflow:loss = 22.210217, step = 4900 (0.349 sec)\n"
     ]
    },
    {
     "name": "stderr",
     "output_type": "stream",
     "text": [
      "I0406 11:20:47.049827 140213923624768 basic_session_run_hooks.py:260] loss = 22.210217, step = 4900 (0.349 sec)\n"
     ]
    },
    {
     "name": "stdout",
     "output_type": "stream",
     "text": [
      "INFO:tensorflow:Saving checkpoints for 5000 into blerssi/model.ckpt.\n"
     ]
    },
    {
     "name": "stderr",
     "output_type": "stream",
     "text": [
      "I0406 11:20:47.388322 140213923624768 basic_session_run_hooks.py:606] Saving checkpoints for 5000 into blerssi/model.ckpt.\n"
     ]
    },
    {
     "name": "stdout",
     "output_type": "stream",
     "text": [
      "WARNING:tensorflow:From /usr/local/lib/python3.6/dist-packages/tensorflow_core/python/training/saver.py:963: remove_checkpoint (from tensorflow.python.training.checkpoint_management) is deprecated and will be removed in a future version.\n",
      "Instructions for updating:\n",
      "Use standard file APIs to delete files with this prefix.\n"
     ]
    },
    {
     "name": "stderr",
     "output_type": "stream",
     "text": [
      "W0406 11:20:47.404642 140213923624768 deprecation.py:323] From /usr/local/lib/python3.6/dist-packages/tensorflow_core/python/training/saver.py:963: remove_checkpoint (from tensorflow.python.training.checkpoint_management) is deprecated and will be removed in a future version.\n",
      "Instructions for updating:\n",
      "Use standard file APIs to delete files with this prefix.\n"
     ]
    },
    {
     "name": "stdout",
     "output_type": "stream",
     "text": [
      "INFO:tensorflow:Calling model_fn.\n"
     ]
    },
    {
     "name": "stderr",
     "output_type": "stream",
     "text": [
      "I0406 11:20:47.470304 140213923624768 estimator.py:1148] Calling model_fn.\n"
     ]
    },
    {
     "name": "stdout",
     "output_type": "stream",
     "text": [
      "INFO:tensorflow:Done calling model_fn.\n"
     ]
    },
    {
     "name": "stderr",
     "output_type": "stream",
     "text": [
      "I0406 11:20:47.662667 140213923624768 estimator.py:1150] Done calling model_fn.\n"
     ]
    },
    {
     "name": "stdout",
     "output_type": "stream",
     "text": [
      "INFO:tensorflow:Starting evaluation at 2020-04-06T11:20:47Z\n"
     ]
    },
    {
     "name": "stderr",
     "output_type": "stream",
     "text": [
      "I0406 11:20:47.677565 140213923624768 evaluation.py:255] Starting evaluation at 2020-04-06T11:20:47Z\n"
     ]
    },
    {
     "name": "stdout",
     "output_type": "stream",
     "text": [
      "INFO:tensorflow:Graph was finalized.\n"
     ]
    },
    {
     "name": "stderr",
     "output_type": "stream",
     "text": [
      "I0406 11:20:47.772875 140213923624768 monitored_session.py:240] Graph was finalized.\n"
     ]
    },
    {
     "name": "stdout",
     "output_type": "stream",
     "text": [
      "INFO:tensorflow:Restoring parameters from blerssi/model.ckpt-5000\n"
     ]
    },
    {
     "name": "stderr",
     "output_type": "stream",
     "text": [
      "I0406 11:20:47.782232 140213923624768 saver.py:1284] Restoring parameters from blerssi/model.ckpt-5000\n"
     ]
    },
    {
     "name": "stdout",
     "output_type": "stream",
     "text": [
      "INFO:tensorflow:Running local_init_op.\n"
     ]
    },
    {
     "name": "stderr",
     "output_type": "stream",
     "text": [
      "I0406 11:20:47.826307 140213923624768 session_manager.py:500] Running local_init_op.\n"
     ]
    },
    {
     "name": "stdout",
     "output_type": "stream",
     "text": [
      "INFO:tensorflow:Done running local_init_op.\n"
     ]
    },
    {
     "name": "stderr",
     "output_type": "stream",
     "text": [
      "I0406 11:20:47.840943 140213923624768 session_manager.py:502] Done running local_init_op.\n"
     ]
    },
    {
     "name": "stdout",
     "output_type": "stream",
     "text": [
      "INFO:tensorflow:Evaluation [1/1]\n"
     ]
    },
    {
     "name": "stderr",
     "output_type": "stream",
     "text": [
      "I0406 11:20:47.948760 140213923624768 evaluation.py:167] Evaluation [1/1]\n"
     ]
    },
    {
     "name": "stdout",
     "output_type": "stream",
     "text": [
      "INFO:tensorflow:Finished evaluation at 2020-04-06-11:20:47\n"
     ]
    },
    {
     "name": "stderr",
     "output_type": "stream",
     "text": [
      "I0406 11:20:47.984719 140213923624768 evaluation.py:275] Finished evaluation at 2020-04-06-11:20:47\n"
     ]
    },
    {
     "name": "stdout",
     "output_type": "stream",
     "text": [
      "INFO:tensorflow:Saving dict for global step 5000: accuracy = 0.33333334, average_loss = 2.451317, global_step = 5000, loss = 29.415804\n"
     ]
    },
    {
     "name": "stderr",
     "output_type": "stream",
     "text": [
      "I0406 11:20:47.986686 140213923624768 estimator.py:2049] Saving dict for global step 5000: accuracy = 0.33333334, average_loss = 2.451317, global_step = 5000, loss = 29.415804\n"
     ]
    },
    {
     "name": "stdout",
     "output_type": "stream",
     "text": [
      "INFO:tensorflow:Saving 'checkpoint_path' summary for global step 5000: blerssi/model.ckpt-5000\n"
     ]
    },
    {
     "name": "stderr",
     "output_type": "stream",
     "text": [
      "I0406 11:20:47.988885 140213923624768 estimator.py:2109] Saving 'checkpoint_path' summary for global step 5000: blerssi/model.ckpt-5000\n"
     ]
    },
    {
     "name": "stdout",
     "output_type": "stream",
     "text": [
      "INFO:tensorflow:Performing the final export in the end of training.\n"
     ]
    },
    {
     "name": "stderr",
     "output_type": "stream",
     "text": [
      "I0406 11:20:47.991128 140213923624768 exporter.py:410] Performing the final export in the end of training.\n"
     ]
    },
    {
     "name": "stdout",
     "output_type": "stream",
     "text": [
      "INFO:tensorflow:Calling model_fn.\n"
     ]
    },
    {
     "name": "stderr",
     "output_type": "stream",
     "text": [
      "I0406 11:20:48.012820 140213923624768 estimator.py:1148] Calling model_fn.\n"
     ]
    },
    {
     "name": "stdout",
     "output_type": "stream",
     "text": [
      "INFO:tensorflow:Done calling model_fn.\n"
     ]
    },
    {
     "name": "stderr",
     "output_type": "stream",
     "text": [
      "I0406 11:20:48.137837 140213923624768 estimator.py:1150] Done calling model_fn.\n"
     ]
    },
    {
     "name": "stdout",
     "output_type": "stream",
     "text": [
      "WARNING:tensorflow:From /usr/local/lib/python3.6/dist-packages/tensorflow_core/python/saved_model/signature_def_utils_impl.py:201: build_tensor_info (from tensorflow.python.saved_model.utils_impl) is deprecated and will be removed in a future version.\n",
      "Instructions for updating:\n",
      "This function will only be available through the v1 compatibility library as tf.compat.v1.saved_model.utils.build_tensor_info or tf.compat.v1.saved_model.build_tensor_info.\n"
     ]
    },
    {
     "name": "stderr",
     "output_type": "stream",
     "text": [
      "W0406 11:20:48.140152 140213923624768 deprecation.py:323] From /usr/local/lib/python3.6/dist-packages/tensorflow_core/python/saved_model/signature_def_utils_impl.py:201: build_tensor_info (from tensorflow.python.saved_model.utils_impl) is deprecated and will be removed in a future version.\n",
      "Instructions for updating:\n",
      "This function will only be available through the v1 compatibility library as tf.compat.v1.saved_model.utils.build_tensor_info or tf.compat.v1.saved_model.build_tensor_info.\n"
     ]
    },
    {
     "name": "stdout",
     "output_type": "stream",
     "text": [
      "INFO:tensorflow:Signatures INCLUDED in export for Classify: None\n"
     ]
    },
    {
     "name": "stderr",
     "output_type": "stream",
     "text": [
      "I0406 11:20:48.142207 140213923624768 export_utils.py:170] Signatures INCLUDED in export for Classify: None\n"
     ]
    },
    {
     "name": "stdout",
     "output_type": "stream",
     "text": [
      "INFO:tensorflow:Signatures INCLUDED in export for Regress: None\n"
     ]
    },
    {
     "name": "stderr",
     "output_type": "stream",
     "text": [
      "I0406 11:20:48.143751 140213923624768 export_utils.py:170] Signatures INCLUDED in export for Regress: None\n"
     ]
    },
    {
     "name": "stdout",
     "output_type": "stream",
     "text": [
      "INFO:tensorflow:Signatures INCLUDED in export for Predict: ['predict']\n"
     ]
    },
    {
     "name": "stderr",
     "output_type": "stream",
     "text": [
      "I0406 11:20:48.145271 140213923624768 export_utils.py:170] Signatures INCLUDED in export for Predict: ['predict']\n"
     ]
    },
    {
     "name": "stdout",
     "output_type": "stream",
     "text": [
      "INFO:tensorflow:Signatures INCLUDED in export for Train: None\n"
     ]
    },
    {
     "name": "stderr",
     "output_type": "stream",
     "text": [
      "I0406 11:20:48.146774 140213923624768 export_utils.py:170] Signatures INCLUDED in export for Train: None\n"
     ]
    },
    {
     "name": "stdout",
     "output_type": "stream",
     "text": [
      "INFO:tensorflow:Signatures INCLUDED in export for Eval: None\n"
     ]
    },
    {
     "name": "stderr",
     "output_type": "stream",
     "text": [
      "I0406 11:20:48.148138 140213923624768 export_utils.py:170] Signatures INCLUDED in export for Eval: None\n"
     ]
    },
    {
     "name": "stdout",
     "output_type": "stream",
     "text": [
      "INFO:tensorflow:Signatures EXCLUDED from export because they cannot be be served via TensorFlow Serving APIs:\n"
     ]
    },
    {
     "name": "stderr",
     "output_type": "stream",
     "text": [
      "I0406 11:20:48.149504 140213923624768 export_utils.py:173] Signatures EXCLUDED from export because they cannot be be served via TensorFlow Serving APIs:\n"
     ]
    },
    {
     "name": "stdout",
     "output_type": "stream",
     "text": [
      "INFO:tensorflow:'serving_default' : Classification input must be a single string Tensor; got {'b3001': <tf.Tensor 'Placeholder:0' shape=(?, 1) dtype=float32>, 'b3002': <tf.Tensor 'Placeholder_1:0' shape=(?, 1) dtype=float32>, 'b3003': <tf.Tensor 'Placeholder_2:0' shape=(?, 1) dtype=float32>, 'b3004': <tf.Tensor 'Placeholder_3:0' shape=(?, 1) dtype=float32>, 'b3005': <tf.Tensor 'Placeholder_4:0' shape=(?, 1) dtype=float32>, 'b3006': <tf.Tensor 'Placeholder_5:0' shape=(?, 1) dtype=float32>, 'b3007': <tf.Tensor 'Placeholder_6:0' shape=(?, 1) dtype=float32>, 'b3008': <tf.Tensor 'Placeholder_7:0' shape=(?, 1) dtype=float32>, 'b3009': <tf.Tensor 'Placeholder_8:0' shape=(?, 1) dtype=float32>, 'b3010': <tf.Tensor 'Placeholder_9:0' shape=(?, 1) dtype=float32>, 'b3011': <tf.Tensor 'Placeholder_10:0' shape=(?, 1) dtype=float32>, 'b3012': <tf.Tensor 'Placeholder_11:0' shape=(?, 1) dtype=float32>, 'b3013': <tf.Tensor 'Placeholder_12:0' shape=(?, 1) dtype=float32>}\n"
     ]
    },
    {
     "name": "stderr",
     "output_type": "stream",
     "text": [
      "I0406 11:20:48.150877 140213923624768 export_utils.py:176] 'serving_default' : Classification input must be a single string Tensor; got {'b3001': <tf.Tensor 'Placeholder:0' shape=(?, 1) dtype=float32>, 'b3002': <tf.Tensor 'Placeholder_1:0' shape=(?, 1) dtype=float32>, 'b3003': <tf.Tensor 'Placeholder_2:0' shape=(?, 1) dtype=float32>, 'b3004': <tf.Tensor 'Placeholder_3:0' shape=(?, 1) dtype=float32>, 'b3005': <tf.Tensor 'Placeholder_4:0' shape=(?, 1) dtype=float32>, 'b3006': <tf.Tensor 'Placeholder_5:0' shape=(?, 1) dtype=float32>, 'b3007': <tf.Tensor 'Placeholder_6:0' shape=(?, 1) dtype=float32>, 'b3008': <tf.Tensor 'Placeholder_7:0' shape=(?, 1) dtype=float32>, 'b3009': <tf.Tensor 'Placeholder_8:0' shape=(?, 1) dtype=float32>, 'b3010': <tf.Tensor 'Placeholder_9:0' shape=(?, 1) dtype=float32>, 'b3011': <tf.Tensor 'Placeholder_10:0' shape=(?, 1) dtype=float32>, 'b3012': <tf.Tensor 'Placeholder_11:0' shape=(?, 1) dtype=float32>, 'b3013': <tf.Tensor 'Placeholder_12:0' shape=(?, 1) dtype=float32>}\n"
     ]
    },
    {
     "name": "stdout",
     "output_type": "stream",
     "text": [
      "INFO:tensorflow:'classification' : Classification input must be a single string Tensor; got {'b3001': <tf.Tensor 'Placeholder:0' shape=(?, 1) dtype=float32>, 'b3002': <tf.Tensor 'Placeholder_1:0' shape=(?, 1) dtype=float32>, 'b3003': <tf.Tensor 'Placeholder_2:0' shape=(?, 1) dtype=float32>, 'b3004': <tf.Tensor 'Placeholder_3:0' shape=(?, 1) dtype=float32>, 'b3005': <tf.Tensor 'Placeholder_4:0' shape=(?, 1) dtype=float32>, 'b3006': <tf.Tensor 'Placeholder_5:0' shape=(?, 1) dtype=float32>, 'b3007': <tf.Tensor 'Placeholder_6:0' shape=(?, 1) dtype=float32>, 'b3008': <tf.Tensor 'Placeholder_7:0' shape=(?, 1) dtype=float32>, 'b3009': <tf.Tensor 'Placeholder_8:0' shape=(?, 1) dtype=float32>, 'b3010': <tf.Tensor 'Placeholder_9:0' shape=(?, 1) dtype=float32>, 'b3011': <tf.Tensor 'Placeholder_10:0' shape=(?, 1) dtype=float32>, 'b3012': <tf.Tensor 'Placeholder_11:0' shape=(?, 1) dtype=float32>, 'b3013': <tf.Tensor 'Placeholder_12:0' shape=(?, 1) dtype=float32>}\n"
     ]
    },
    {
     "name": "stderr",
     "output_type": "stream",
     "text": [
      "I0406 11:20:48.152240 140213923624768 export_utils.py:176] 'classification' : Classification input must be a single string Tensor; got {'b3001': <tf.Tensor 'Placeholder:0' shape=(?, 1) dtype=float32>, 'b3002': <tf.Tensor 'Placeholder_1:0' shape=(?, 1) dtype=float32>, 'b3003': <tf.Tensor 'Placeholder_2:0' shape=(?, 1) dtype=float32>, 'b3004': <tf.Tensor 'Placeholder_3:0' shape=(?, 1) dtype=float32>, 'b3005': <tf.Tensor 'Placeholder_4:0' shape=(?, 1) dtype=float32>, 'b3006': <tf.Tensor 'Placeholder_5:0' shape=(?, 1) dtype=float32>, 'b3007': <tf.Tensor 'Placeholder_6:0' shape=(?, 1) dtype=float32>, 'b3008': <tf.Tensor 'Placeholder_7:0' shape=(?, 1) dtype=float32>, 'b3009': <tf.Tensor 'Placeholder_8:0' shape=(?, 1) dtype=float32>, 'b3010': <tf.Tensor 'Placeholder_9:0' shape=(?, 1) dtype=float32>, 'b3011': <tf.Tensor 'Placeholder_10:0' shape=(?, 1) dtype=float32>, 'b3012': <tf.Tensor 'Placeholder_11:0' shape=(?, 1) dtype=float32>, 'b3013': <tf.Tensor 'Placeholder_12:0' shape=(?, 1) dtype=float32>}\n"
     ]
    },
    {
     "name": "stdout",
     "output_type": "stream",
     "text": [
      "WARNING:tensorflow:Export includes no default signature!\n"
     ]
    },
    {
     "name": "stderr",
     "output_type": "stream",
     "text": [
      "W0406 11:20:48.153454 140213923624768 export_utils.py:182] Export includes no default signature!\n"
     ]
    },
    {
     "name": "stdout",
     "output_type": "stream",
     "text": [
      "INFO:tensorflow:Restoring parameters from blerssi/model.ckpt-5000\n"
     ]
    },
    {
     "name": "stderr",
     "output_type": "stream",
     "text": [
      "I0406 11:20:48.211700 140213923624768 saver.py:1284] Restoring parameters from blerssi/model.ckpt-5000\n"
     ]
    },
    {
     "name": "stdout",
     "output_type": "stream",
     "text": [
      "INFO:tensorflow:Assets added to graph.\n"
     ]
    },
    {
     "name": "stderr",
     "output_type": "stream",
     "text": [
      "I0406 11:20:48.233320 140213923624768 builder_impl.py:665] Assets added to graph.\n"
     ]
    },
    {
     "name": "stdout",
     "output_type": "stream",
     "text": [
      "INFO:tensorflow:No assets to write.\n"
     ]
    },
    {
     "name": "stderr",
     "output_type": "stream",
     "text": [
      "I0406 11:20:48.234780 140213923624768 builder_impl.py:460] No assets to write.\n"
     ]
    },
    {
     "name": "stdout",
     "output_type": "stream",
     "text": [
      "INFO:tensorflow:SavedModel written to: blerssi/export/blerssi/temp-b'1586172047'/saved_model.pb\n"
     ]
    },
    {
     "name": "stderr",
     "output_type": "stream",
     "text": [
      "I0406 11:20:48.298894 140213923624768 builder_impl.py:425] SavedModel written to: blerssi/export/blerssi/temp-b'1586172047'/saved_model.pb\n"
     ]
    },
    {
     "name": "stdout",
     "output_type": "stream",
     "text": [
      "INFO:tensorflow:Loss for final step: 34.099297.\n"
     ]
    },
    {
     "name": "stderr",
     "output_type": "stream",
     "text": [
      "I0406 11:20:48.449242 140213923624768 estimator.py:371] Loss for final step: 34.099297.\n"
     ]
    },
    {
     "ename": "SystemExit",
     "evalue": "",
     "output_type": "error",
     "traceback": [
      "An exception has occurred, use %tb to see the full traceback.\n",
      "\u001b[0;31mSystemExit\u001b[0m\n"
     ]
    },
    {
     "name": "stderr",
     "output_type": "stream",
     "text": [
      "/usr/local/lib/python3.6/dist-packages/IPython/core/interactiveshell.py:3327: UserWarning: To exit: use 'exit', 'quit', or Ctrl-D.\n",
      "  warn(\"To exit: use 'exit', 'quit', or Ctrl-D.\", stacklevel=1)\n"
     ]
    }
   ],
   "source": [
    "def main(unused_args):    \n",
    "  tf.logging.set_verbosity(tf.logging.INFO)\n",
    "  print(\"Num GPUs Available: \", len(tf.config.experimental.list_physical_devices('GPU')))\n",
    "  with tf.device('/gpu:0'):\n",
    "      df_full = pd.read_csv('iBeacon_RSSI_Labeled.csv') #Labeled dataset\n",
    "\n",
    "      # Input Data Preprocessing \n",
    "      df_full = df_full.drop(['date'],axis = 1)\n",
    "      df_full[FEATURES] = (df_full[FEATURES]-df_full[FEATURES].mean())/df_full[FEATURES].std()\n",
    "\n",
    "      #Output Data Preprocessing\n",
    "      dict = {'O02': 0,'P01': 1,'P02': 2,'R01': 3,'R02': 4,'S01': 5,'S02': 6,'T01': 7,'U02': 8,'U01': 9,'J03': 10,'K03': 11,'L03': 12,'M03': 13,'N03': 14,'O03': 15,'P03': 16,'Q03': 17,'R03': 18,'S03': 19,'T03': 20,'U03': 21,'U04': 22,'T04': 23,'S04': 24,'R04': 25,'Q04': 26,'P04': 27,'O04': 28,'N04': 29,'M04': 30,'L04': 31,'K04': 32,'J04': 33,'I04': 34,'I05': 35,'J05': 36,'K05': 37,'L05': 38,'M05': 39,'N05': 40,'O05': 41,'P05': 42,'Q05': 43,'R05': 44,'S05': 45,'T05': 46,'U05': 47,'S06': 48,'R06': 49,'Q06': 50,'P06': 51,'O06': 52,'N06': 53,'M06': 54,'L06': 55,'K06': 56,'J06': 57,'I06': 58,'F08': 59,'J02': 60,'J07': 61,'I07': 62,'I10': 63,'J10': 64,'D15': 65,'E15': 66,'G15': 67,'J15': 68,'L15': 69,'R15': 70,'T15': 71,'W15': 72,'I08': 73,'I03': 74,'J08': 75,'I01': 76,'I02': 77,'J01': 78,'K01': 79,'K02': 80,'L01': 81,'L02': 82,'M01': 83,'M02': 84,'N01': 85,'N02': 86,'O01': 87,'I09': 88,'D14': 89,'D13': 90,'K07': 91,'K08': 92,'N15': 93,'P15': 94,'I15': 95,'S15': 96,'U15': 97,'V15': 98,'S07': 99,'S08': 100,'L09': 101,'L08': 102,'Q02': 103,'Q01': 104}\n",
    "      df_full['location'] = df_full['location'].map(dict)\n",
    "      df_train=df_full.sample(frac=0.8,random_state=200)\n",
    "      df_valid=df_full.drop(df_train.index)\n",
    "\n",
    "      location_counts = BLE_RSSI.location.value_counts()\n",
    "      train_X = np.asarray(df_train[FEATURES])\n",
    "      train_y = np.asarray(df_train['location'])\n",
    "      feature_columns = [\n",
    "            tf.feature_column.numeric_column(INPUT_FEATURE, shape=[13])\n",
    "      ]\n",
    "      # Train Input Function\n",
    "      train_input_fn = tf.estimator.inputs.numpy_input_fn(\n",
    "        x = {INPUT_FEATURE: train_X},\n",
    "        y = train_y,\n",
    "        batch_size = 12,\n",
    "        num_epochs = 100,\n",
    "        shuffle = False,\n",
    "\n",
    "      )\n",
    "\n",
    "      # Test Input Function\n",
    "      test_input_fn = tf.estimator.inputs.numpy_input_fn(\n",
    "        x = {INPUT_FEATURE: train_X},\n",
    "        y = train_y,\n",
    "        batch_size = 12,\n",
    "        num_epochs = 100,\n",
    "        shuffle = True,\n",
    "        queue_capacity = 1000,\n",
    "        num_threads = 1\n",
    "      )\n",
    "\n",
    "\n",
    "      config = tf.estimator.RunConfig(model_dir=TF_MODEL_DIR, save_summary_steps=100, save_checkpoints_steps=1000)\n",
    "\n",
    "      # Build 3 layer DNN classifier\n",
    "\n",
    "      model = tf.estimator.DNNClassifier(hidden_units = [13,65,110],\n",
    "                         feature_columns = feature_columns,\n",
    "                         model_dir = TF_MODEL_DIR,\n",
    "                         n_classes=105, config=config\n",
    "                       )\n",
    "\n",
    "      export_final = tf.estimator.FinalExporter(TF_EXPORT_DIR, serving_input_receiver_fn=serving_input_receiver_fn1)\n",
    "\n",
    "      train_spec = tf.estimator.TrainSpec(input_fn=train_input_fn, \n",
    "                                            max_steps=TF_TRAIN_STEPS)\n",
    "\n",
    "      eval_spec = tf.estimator.EvalSpec(input_fn=test_input_fn,\n",
    "                                          steps=1,\n",
    "                                          exporters=export_final,\n",
    "                                          throttle_secs=1,\n",
    "                                          start_delay_secs=1)\n",
    "\n",
    "      # Train and Evaluate the model\n",
    "\n",
    "      tf.estimator.train_and_evaluate(model, train_spec, eval_spec)\n",
    "    \n",
    "if __name__ == \"__main__\":\n",
    "    tf.app.run() "
   ]
  },
  {
   "cell_type": "code",
   "execution_count": 7,
   "metadata": {},
   "outputs": [
    {
     "name": "stdout",
     "output_type": "stream",
     "text": [
      "apiVersion: \"serving.kubeflow.org/v1alpha2\"\r",
      "\r\n",
      "kind: \"InferenceService\"\r",
      "\r\n",
      "metadata:\r",
      "\r\n",
      "  name: \"blerssi-model\"\r",
      "\r\n",
      "  namespace: anonymous\r",
      "\r\n",
      "spec:\r",
      "\r\n",
      "  default:\r",
      "\r\n",
      "    predictor:\r",
      "\r\n",
      "      tensorflow:\r",
      "\r\n",
      "        storageUri: \"pvc://workspace-premgpu/blerssi/export/blerssi\""
     ]
    }
   ],
   "source": [
    "pvcname = !(echo  $HOSTNAME | sed 's/.\\{2\\}$//')\n",
    "pvc = \"workspace-\"+pvcname[0]\n",
    "! sed -i \"s/nfs1/$pvc/g\" blerssi_kfserving.yaml\n",
    "! cat blerssi_kfserving.yaml"
   ]
  },
  {
   "cell_type": "markdown",
   "metadata": {},
   "source": [
    "## Serving BLE RSSI Model using kubeflow kfserving"
   ]
  },
  {
   "cell_type": "code",
   "execution_count": 8,
   "metadata": {},
   "outputs": [
    {
     "name": "stdout",
     "output_type": "stream",
     "text": [
      "inferenceservice.serving.kubeflow.org/blerssi-model created\r\n"
     ]
    }
   ],
   "source": [
    "!kubectl apply -f blerssi_kfserving.yaml"
   ]
  },
  {
   "cell_type": "code",
   "execution_count": 21,
   "metadata": {},
   "outputs": [
    {
     "name": "stdout",
     "output_type": "stream",
     "text": [
      "NAME            URL                                                                  READY   DEFAULT TRAFFIC   CANARY TRAFFIC   AGE\r\n",
      "blerssi-model   http://blerssi-model.anonymous.example.com/v1/models/blerssi-model   True    100                                79s\r\n"
     ]
    }
   ],
   "source": [
    "!kubectl get inferenceservices -n anonymous"
   ]
  },
  {
   "cell_type": "markdown",
   "metadata": {},
   "source": [
    "#### Note:\n",
    "Wait for inference service READY=\"True\""
   ]
  },
  {
   "cell_type": "markdown",
   "metadata": {},
   "source": [
    "## Predict data from serving after setting INGRESS_IP"
   ]
  },
  {
   "cell_type": "code",
   "execution_count": 27,
   "metadata": {},
   "outputs": [
    {
     "name": "stdout",
     "output_type": "stream",
     "text": [
      "*   Trying 10.30.118.172...\r\n",
      "* TCP_NODELAY set\r\n",
      "* Connected to 10.30.118.172 (10.30.118.172) port 31380 (#0)\r\n",
      "> POST /v1/models/blerssi-model:predict HTTP/1.1\r",
      "\r\n",
      "> Host: blerssi-model.anonymous.example.com\r",
      "\r\n",
      "> User-Agent: curl/7.58.0\r",
      "\r\n",
      "> Accept: */*\r",
      "\r\n",
      "> Content-Length: 320\r",
      "\r\n",
      "> Content-Type: application/x-www-form-urlencoded\r",
      "\r\n",
      "> \r",
      "\r\n",
      "* upload completely sent off: 320 out of 320 bytes\r\n",
      "< HTTP/1.1 200 OK\r",
      "\r\n",
      "< content-length: 4231\r",
      "\r\n",
      "< content-type: application/json\r",
      "\r\n",
      "< date: Mon, 06 Apr 2020 11:24:01 GMT\r",
      "\r\n",
      "< x-envoy-upstream-service-time: 23\r",
      "\r\n",
      "< server: istio-envoy\r",
      "\r\n",
      "< \r",
      "\r\n",
      "{\r\n",
      "    \"predictions\": [\r\n",
      "        {\r\n",
      "            \"class_ids\": [38],\r\n",
      "            \"classes\": [\"38\"],\r\n",
      "            \"all_class_ids\": [0, 1, 2, 3, 4, 5, 6, 7, 8, 9, 10, 11, 12, 13, 14, 15, 16, 17, 18, 19, 20, 21, 22, 23, 24, 25, 26, 27, 28, 29, 30, 31, 32, 33, 34, 35, 36, 37, 38, 39, 40, 41, 42, 43, 44, 45, 46, 47, 48, 49, 50, 51, 52, 53, 54, 55, 56, 57, 58, 59, 60, 61, 62, 63, 64, 65, 66, 67, 68, 69, 70, 71, 72, 73, 74, 75, 76, 77, 78, 79, 80, 81, 82, 83, 84, 85, 86, 87, 88, 89, 90, 91, 92, 93, 94, 95, 96, 97, 98, 99, 100, 101, 102, 103, 104],\r\n",
      "            \"all_classes\": [\"0\", \"1\", \"2\", \"3\", \"4\", \"5\", \"6\", \"7\", \"8\", \"9\", \"10\", \"11\", \"12\", \"13\", \"14\", \"15\", \"16\", \"17\", \"18\", \"19\", \"20\", \"21\", \"22\", \"23\", \"24\", \"25\", \"26\", \"27\", \"28\", \"29\", \"30\", \"31\", \"32\", \"33\", \"34\", \"35\", \"36\", \"37\", \"38\", \"39\", \"40\", \"41\", \"42\", \"43\", \"44\", \"45\", \"46\", \"47\", \"48\", \"49\", \"50\", \"51\", \"52\", \"53\", \"54\", \"55\", \"56\", \"57\", \"58\", \"59\", \"60\", \"61\", \"62\", \"63\", \"64\", \"65\", \"66\", \"67\", \"68\", \"69\", \"70\", \"71\", \"72\", \"73\", \"74\", \"75\", \"76\", \"77\", \"78\", \"79\", \"80\", \"81\", \"82\", \"83\", \"84\", \"85\", \"86\", \"87\", \"88\", \"89\", \"90\", \"91\", \"92\", \"93\", \"94\", \"95\", \"96\", \"97\", \"98\", \"99\", \"100\", \"101\", \"102\", \"103\", \"104\"],\r\n",
      "            \"probabilities\": [0.000453692657, 0.0018477228, 3.36894068e-09, 6.03100352e-06, 3.66364219e-07, 1.70815611e-07, 8.18642945e-07, 1.12009252e-06, 1.11428902e-08, 5.83376504e-06, 8.29121838e-09, 5.55141332e-06, 0.0092102522, 0.000914809934, 0.151806191, 0.00901339855, 4.74257547e-07, 4.21731357e-07, 1.20234808e-05, 4.0319851e-06, 1.77088708e-07, 3.61250585e-07, 1.8146925e-06, 5.16230614e-08, 2.36895253e-10, 8.68730808e-07, 7.28996793e-06, 0.00034426045, 0.000154159236, 0.000433130888, 2.5566689e-07, 0.000320850231, 8.5747314e-07, 4.41217e-08, 0.000264836679, 1.36807387e-07, 1.23461945e-07, 0.00280401669, 0.645314574, 2.34552535e-05, 7.25162e-05, 2.61041878e-05, 0.000805720512, 0.000161498494, 1.1283629e-06, 1.60442696e-07, 2.9380979e-05, 1.77124676e-07, 6.87415695e-06, 3.0961553e-07, 0.00124147581, 5.54388171e-05, 0.00259896135, 0.0026379237, 0.000413020374, 0.020561574, 2.68715048e-05, 7.74113e-05, 1.7121929e-05, 2.06227742e-05, 1.77581512e-07, 2.24697283e-06, 0.0179701801, 3.83066435e-07, 1.11476265e-05, 8.92711614e-05, 6.5166525e-05, 3.14718491e-08, 2.49176129e-08, 4.43949347e-07, 1.56570616e-06, 7.81363156e-07, 7.30351928e-07, 0.0074241641, 0.000371348957, 1.62567812e-06, 9.1144976e-09, 4.9978612e-06, 2.8676418e-06, 2.25084409e-06, 6.27017682e-09, 9.01043768e-06, 8.88066779e-07, 8.37325497e-05, 0.0308864862, 0.067508176, 0.01803918, 0.0016413437, 0.00151402829, 7.10827226e-06, 7.61259071e-06, 1.34662896e-05, 1.35604969e-05, 3.36591569e-07, 1.83704341e-08, 3.81324021e-08, 8.695514e-07, 3.5226808e-06, 3.66301038e-07, 0.00159131223, 5.23017879e-05, 8.46321473e-06, 0.000955265888, 2.00373393e-06, 2.97434349e-06],\r\n",
      "            \"logits\": [-7.15437222, -5.75008297, -18.9649487, -11.4748793, -14.2759199, -15.0389633, -13.4719, -13.1583815, -17.7687454, -11.5081301, -18.0643501, -11.5577402, -4.14371967, -6.45307589, -1.34143245, -4.16532469, -14.0177975, -14.1351795, -10.7849312, -11.8775339, -15.0028973, -14.2899761, -12.6758766, -16.2355785, -21.6196842, -13.4125147, -11.2852936, -7.4303937, -8.23380661, -7.20075226, -14.6356726, -7.50081778, -13.4255581, -16.3925953, -7.69267893, -15.2609739, -15.363615, -5.33298397, 0.10570085, -10.1166983, -8.98798275, -10.009697, -6.58005524, -8.18729687, -13.1510248, -15.1016111, -9.89144516, -15.0026941, -11.3440237, -14.4442167, -6.14773607, -9.25651264, -5.40892506, -5.39404488, -7.24829531, -3.34061289, -9.98072624, -8.92266, -10.4314327, -10.2453966, -15.0001183, -12.4622087, -3.47532344, -14.2313395, -10.8605661, -8.78011417, -9.09484673, -16.7304535, -16.9639721, -14.0838375, -12.8234558, -13.518508, -13.5860214, -4.3592968, -7.35465, -12.7858677, -17.9696808, -11.6627827, -12.2183027, -12.4604874, -18.3437424, -11.0734091, -13.390501, -8.84416485, -2.9337182, -2.15178847, -3.4714911, -5.86852169, -5.9492631, -11.3105335, -11.2419891, -10.6716032, -10.6646318, -14.3606777, -17.2688046, -16.5384827, -13.4115705, -12.0125704, -14.2760925, -5.89947796, -9.31476212, -11.1360636, -6.40980244, -12.5767803, -12.1817694]\r\n",
      "        }\r\n",
      "    ]\r\n",
      "* Connection #0 to host 10.30.118.172 left intact\r\n",
      "}"
     ]
    }
   ],
   "source": [
    "!curl -v -H \"Host: blerssi-model.anonymous.example.com\" http://10.30.118.172:31380/v1/models/blerssi-model:predict -d '{\"signature_name\":\"predict\",\"instances\":[{\"b3001\":[-0.458086] , \"b3002\":[-0.6244] , \"b3003\":[2.354243], \"b3004\":[-0.404581] , \"b3005\":[1.421444] , \"b3006\":[1.767642] , \"b3007\":[2.637829] , \"b3008\":[-0.603085] , \"b3009\":[0.382779] , \"b3010\":[-0.378999] , \"b3011\":[-0.341798] , \"b3012\":[-0.303249] , \"b3013\":[-0.327776]}]}'"
   ]
  },
  {
   "cell_type": "markdown",
   "metadata": {},
   "source": [
    "## Delete kfserving model & Clean up of stored models"
   ]
  },
  {
   "cell_type": "code",
   "execution_count": 1,
   "metadata": {},
   "outputs": [],
   "source": [
    "!kubectl delete -f blerssi_kfserving.yaml\n",
    "!rm -rf /mnt/blerssi"
   ]
  }
 ],
 "metadata": {
  "kernelspec": {
   "display_name": "Python 3",
   "language": "python",
   "name": "python3"
  },
  "language_info": {
   "codemirror_mode": {
    "name": "ipython",
    "version": 3
   },
   "file_extension": ".py",
   "mimetype": "text/x-python",
   "name": "python",
   "nbconvert_exporter": "python",
   "pygments_lexer": "ipython3",
   "version": "3.6.9"
  }
 },
 "nbformat": 4,
 "nbformat_minor": 2
}
