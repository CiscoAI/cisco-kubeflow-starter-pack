{
 "cells": [
  {
   "cell_type": "markdown",
   "metadata": {},
   "source": [
    "## BLERSSI Pipeline Deployment in UCS"
   ]
  },
  {
   "cell_type": "markdown",
   "metadata": {},
   "source": [
    "### Import libraries"
   ]
  },
  {
   "cell_type": "code",
   "execution_count": null,
   "metadata": {},
   "outputs": [],
   "source": [
    "import kfp\n",
    "import os\n",
    "from kubernetes import client\n",
    "import calendar\n",
    "import time"
   ]
  },
  {
   "cell_type": "markdown",
   "metadata": {},
   "source": [
    "### Component files Declarations"
   ]
  },
  {
   "cell_type": "code",
   "execution_count": null,
   "metadata": {},
   "outputs": [],
   "source": [
    "notebook_environment = \"local\" # or 'in-cluster'\n",
    "\n",
    "if notebook_environment == \"in-cluster\":\n",
    "    path='cisco-kubeflow-starter-pack/apps/networking/ble-localization/onprem/pipelines/'\n",
    "    !git clone https://github.com/CiscoAI/cisco-kubeflow-starter-pack\n",
    "else:\n",
    "    path=\"apps/networking/ble-localization/onprem/pipelines/\"\n",
    "\n",
    "component_root_train= path+'components/v2/tf-model-train/'\n",
    "component_root_serve = path+'components/v2/tf-serving-deploy-service/'\n",
    "component_root_webui = path+'components/v2/tf-webui-deploy-service/'\n",
    "component_root_tensorboard= path+'components/v2/tf-tensorboard-deploy-service/'"
   ]
  },
  {
   "cell_type": "markdown",
   "metadata": {},
   "source": [
    "#### Components Description\n",
    "\n",
    "tf_train_model_op &nbsp;&nbsp;&nbsp; - &nbsp; Load dataset from nfs-volume, train BLERSSI model  and save model in nfs-volume. <br> \n",
    "tf_serve_model_op &nbsp; - &nbsp; Load BLERSSI model from nfs-volume and serve the model using tf-serving for later prediction. <br> \n",
    "tf_webui_op &nbsp;&nbsp;&nbsp;&nbsp;&nbsp;&nbsp;&nbsp;&nbsp;&nbsp;&nbsp;&nbsp;&nbsp; - &nbsp; Web application client UI loads Unlabeled data, does preprocessing, send API request to serving and display Predicted Location. <br> \n",
    "tf_tensor_op &nbsp;&nbsp;&nbsp;&nbsp;&nbsp;&nbsp;&nbsp;&nbsp;&nbsp;&nbsp;&nbsp;&nbsp;  - &nbsp; Tensorboard UI which provides the visualization metrics such as loss and accuracy, model graph (ops and layers) and histograms of weights, biases, or other tensors for BLERSSI Model <br> "
   ]
  },
  {
   "cell_type": "markdown",
   "metadata": {},
   "source": [
    "### Load components from respective .YAML config files"
   ]
  },
  {
   "cell_type": "code",
   "execution_count": null,
   "metadata": {},
   "outputs": [],
   "source": [
    "from kubernetes import config\n",
    "\n",
    "if notebook_environment == \"in-cluster\":\n",
    "    config.load_incluster_config()\n",
    "else:\n",
    "    config.load_kube_config()\n",
    "\n",
    "tf_train_model_op = kfp.components.load_component_from_file(os.path.join(component_root_train, 'component.yaml')) \n",
    "tf_serve_model_op = kfp.components.load_component_from_file(os.path.join(component_root_serve, 'component.yaml'))\n",
    "tf_webui_op = kfp.components.load_component_from_file(os.path.join(component_root_webui, 'component.yaml'))\n",
    "tf_tensor_op = kfp.components.load_component_from_file(os.path.join(component_root_tensorboard, 'component.yaml'))"
   ]
  },
  {
   "cell_type": "markdown",
   "metadata": {},
   "source": [
    "### Define Volume and Volume Mounts"
   ]
  },
  {
   "cell_type": "code",
   "execution_count": null,
   "metadata": {},
   "outputs": [],
   "source": [
    "nfs_pvc = client.V1PersistentVolumeClaimVolumeSource(claim_name='nfs')\n",
    "nfs_volume = client.V1Volume(name='nfs', persistent_volume_claim=nfs_pvc)\n",
    "nfs_volume_mount = client.V1VolumeMount(mount_path='/mnt/', name='nfs')"
   ]
  },
  {
   "cell_type": "markdown",
   "metadata": {},
   "source": [
    "### Define pipeline function"
   ]
  },
  {
   "cell_type": "code",
   "execution_count": null,
   "metadata": {
    "inputHidden": false,
    "outputExpanded": false,
    "tags": [
     "parameters"
    ]
   },
   "outputs": [],
   "source": [
    "from datetime import datetime\n",
    "\n",
    "# Creating timestamp\n",
    "timestamp = datetime.now().strftime('%Y-%m-%d-%H-%M-%S')\n",
    "\n",
    "def blerssi_pipeline():\n",
    "\n",
    "    #Defining Task for Model training\n",
    "    tf_train_model_task = tf_train_model_op()\n",
    "    tf_train_model_task.add_volume(nfs_volume)\n",
    "    tf_train_model_task.add_volume_mount(nfs_volume_mount)\n",
    "    \n",
    "    #Defining Task to perform serving    \n",
    "    tf_serve_model_task = tf_serve_model_op(timestamp=timestamp)\n",
    "    tf_serve_model_task.add_volume(nfs_volume)\n",
    "    tf_serve_model_task.add_volume_mount(nfs_volume_mount)\n",
    "    tf_serve_model_task.after(tf_train_model_task)\n",
    "\n",
    "    #Defining task for tensorboard creation    \n",
    "    tf_tensorboard_task = tf_tensor_op(timestamp=timestamp)\n",
    "    tf_tensorboard_task.add_volume(nfs_volume)\n",
    "    tf_tensorboard_task.add_volume_mount(nfs_volume_mount)\n",
    "    tf_tensorboard_task.after(tf_train_model_task)\n",
    "    \n",
    "    \n",
    "    #Defining task for webUI creation\n",
    "    tf_webui_task = tf_webui_op(image_path=\"docker.io/premkarthi/blerssi-webui:v4\",\n",
    "                                timestamp=timestamp)\n",
    "    tf_webui_task.add_volume(nfs_volume)\n",
    "    tf_webui_task.add_volume_mount(nfs_volume_mount)\n",
    "    tf_webui_task.after(tf_serve_model_task)"
   ]
  },
  {
   "cell_type": "code",
   "execution_count": null,
   "metadata": {
    "collapsed": false,
    "inputHidden": false,
    "jupyter": {
     "outputs_hidden": false
    },
    "outputHidden": false
   },
   "outputs": [],
   "source": [
    "if notebook_environment == \"in-cluster\":\n",
    "    kfp_client = kfp.Client()\n",
    "    kfp_client.create_run_from_pipeline_func(blerssi_pipeline, arguments={})\n",
    "else:\n",
    "    try:\n",
    "        pipeline_package_name = f\"blerssi.zip\"\n",
    "        kfp.compiler.Compiler().compile(blerssi_pipeline, pipeline_package_name)\n",
    "    except RuntimeError:\n",
    "        print(\"Validation failed but you can still run the workflow\")"
   ]
  },
  {
   "cell_type": "markdown",
   "metadata": {},
   "source": [
    "### Before accessing service URLs below, make sure that Pipeline Run is Complete in the Dashboard"
   ]
  },
  {
   "cell_type": "markdown",
   "metadata": {},
   "source": [
    "### Get Tensorboard URL"
   ]
  },
  {
   "cell_type": "code",
   "execution_count": null,
   "metadata": {},
   "outputs": [],
   "source": [
    "TB_SERVICE_NAME = \"tensorboard-\"+str(timestamp)+\"-blerssi-service\"\n",
    "port = !(kubectl get svc {TB_SERVICE_NAME} -n kubeflow -o yaml | grep -i nodePort: | cut -d\":\" -f 2)\n",
    "print('Tensorboard service is available at - http://INGRESS_IP:{}'.format(port[0].lstrip()))"
   ]
  },
  {
   "cell_type": "markdown",
   "metadata": {},
   "source": [
    "### Get WebUI URL \n",
    "And upload csv from https://github.com/CiscoAI/kubeflow-apps/blob/master/tf-blerssi/data/iBeacon_RSSI_Unlabeled.csv"
   ]
  },
  {
   "cell_type": "code",
   "execution_count": null,
   "metadata": {},
   "outputs": [],
   "source": [
    "WEBUI_SERVICE_NAME = \"webui-\"+str(timestamp)+\"-blerssi-service\"\n",
    "port = !(kubectl get svc {WEBUI_SERVICE_NAME} -n kubeflow -o yaml | grep -i nodePort: | cut -d\":\" -f 2)\n",
    "print('WebUI service is available at - http://INGRESS_IP:{}'.format(port[0].lstrip()))"
   ]
  },
  {
   "cell_type": "code",
   "execution_count": null,
   "metadata": {},
   "outputs": [],
   "source": []
  }
 ],
 "metadata": {
  "kernelspec": {
   "display_name": "Python 3.7.5 64-bit ('kubeflow-fairing': conda)",
   "language": "python",
   "name": "python37564bitkubeflowfairingconda0d3a21184c0e4386ac41d04e5f2b3c34"
  },
  "language_info": {
   "codemirror_mode": {
    "name": "ipython",
    "version": 3
   },
   "file_extension": ".py",
   "mimetype": "text/x-python",
   "name": "python",
   "nbconvert_exporter": "python",
   "pygments_lexer": "ipython3",
   "version": "3.7.5"
  },
  "nteract": {
   "version": "nteract-on-jupyter@2.1.3"
  }
 },
 "nbformat": 4,
 "nbformat_minor": 4
}
