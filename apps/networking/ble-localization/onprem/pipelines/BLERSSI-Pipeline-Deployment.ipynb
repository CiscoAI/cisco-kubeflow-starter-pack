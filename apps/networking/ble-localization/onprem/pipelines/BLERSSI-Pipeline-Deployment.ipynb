{
 "cells": [
  {
   "cell_type": "markdown",
   "metadata": {},
   "source": [
    "## BLERSSI Pipeline Deployment in UCS"
   ]
  },
  {
   "cell_type": "markdown",
   "metadata": {},
   "source": [
    "### Clone git repo"
   ]
  },
  {
   "cell_type": "code",
   "execution_count": 1,
   "metadata": {},
   "outputs": [
    {
     "name": "stdout",
     "output_type": "stream",
     "text": [
      "Cloning into 'cisco-kubeflow-starter-pack'...\n",
      "remote: Enumerating objects: 162, done.\u001b[K\n",
      "remote: Counting objects: 100% (162/162), done.\u001b[K\n",
      "remote: Compressing objects: 100% (93/93), done.\u001b[K\n",
      "remote: Total 4142 (delta 51), reused 123 (delta 35), pack-reused 3980\u001b[K\n",
      "Receiving objects: 100% (4142/4142), 15.17 MiB | 43.15 MiB/s, done.\n",
      "Resolving deltas: 100% (1555/1555), done.\n"
     ]
    }
   ],
   "source": [
    "! git clone https://github.com/CiscoAI/cisco-kubeflow-starter-pack.git"
   ]
  },
  {
   "cell_type": "markdown",
   "metadata": {},
   "source": [
    "### Import libraries"
   ]
  },
  {
   "cell_type": "code",
   "execution_count": 13,
   "metadata": {},
   "outputs": [],
   "source": [
    "import kfp\n",
    "import os\n",
    "from kubernetes import client\n",
    "import calendar\n",
    "import time"
   ]
  },
  {
   "cell_type": "markdown",
   "metadata": {},
   "source": [
    "### Component files Declarations"
   ]
  },
  {
   "cell_type": "code",
   "execution_count": 73,
   "metadata": {},
   "outputs": [],
   "source": [
    "path='cisco-kubeflow-starter-pack/apps/networking/ble-localization/onprem/pipelines/'\n",
    "component_root_katib= path+'components/v2/tf-katib/'\n",
    "component_root_train= path+'components/v2/tf-model-train/'\n",
    "component_root_serve = path+'components/v2/tf-serving-deploy-service/'\n",
    "component_root_webui = path+'components/v2/tf-webui-deploy-service/'\n",
    "component_root_tensorboard= path+'components/v2/tf-tensorboard-deploy-service/'"
   ]
  },
  {
   "cell_type": "markdown",
   "metadata": {},
   "source": [
    "#### Components Description\n",
    "\n",
    "tf_katib_op &nbsp;&nbsp;&nbsp;&nbsp;&nbsp;&nbsp;&nbsp;&nbsp;&nbsp;&nbsp;&nbsp;&nbsp;&nbsp;&nbsp; - &nbsp;&nbsp;&nbsp; Run katib for BLERSSI to get optimal hyperparamater values and use it to train model. <br>\n",
    "tf_train_model_op &nbsp;&nbsp;&nbsp; - &nbsp; Load dataset from nfs-volume, train BLERSSI model  and save model in nfs-volume. <br> \n",
    "tf_serve_model_op &nbsp; - &nbsp; Load BLERSSI model from nfs-volume and serve the model using tf-serving for later prediction. <br> \n",
    "tf_webui_op &nbsp;&nbsp;&nbsp;&nbsp;&nbsp;&nbsp;&nbsp;&nbsp;&nbsp;&nbsp;&nbsp;&nbsp; - &nbsp; Web application client UI loads Unlabeled data, does preprocessing, send API request to serving and display Predicted Location. <br> \n",
    "tf_tensor_op &nbsp;&nbsp;&nbsp;&nbsp;&nbsp;&nbsp;&nbsp;&nbsp;&nbsp;&nbsp;&nbsp;&nbsp;  - &nbsp; Tensorboard UI which provides the visualization metrics such as loss and accuracy, model graph (ops and layers) and histograms of weights, biases, or other tensors for BLERSSI Model <br> "
   ]
  },
  {
   "cell_type": "markdown",
   "metadata": {},
   "source": [
    "### Load cpu or gpu component yaml"
   ]
  },
  {
   "cell_type": "code",
   "execution_count": 74,
   "metadata": {},
   "outputs": [
    {
     "data": {
      "text/plain": [
       "'CPU'"
      ]
     },
     "execution_count": 74,
     "metadata": {},
     "output_type": "execute_result"
    }
   ],
   "source": [
    "processor = \"CPU\" # Provide GPU or CPU as variable to include which processor to use\n",
    "if processor == \"GPU\" : component_file=\"component_gpu.yaml\"\n",
    "else : component_file=\"component_cpu.yaml\"\n",
    "    \n",
    "processor"
   ]
  },
  {
   "cell_type": "markdown",
   "metadata": {},
   "source": [
    "### Load components from respective .YAML config files"
   ]
  },
  {
   "cell_type": "code",
   "execution_count": 75,
   "metadata": {},
   "outputs": [],
   "source": [
    "tf_katib_op = kfp.components.load_component_from_file(os.path.join(component_root_katib, 'component.yaml')) \n",
    "tf_train_model_op = kfp.components.load_component_from_file(os.path.join(component_root_train, 'component_cpu.yaml')) \n",
    "tf_serve_model_op = kfp.components.load_component_from_file(os.path.join(component_root_serve, 'component.yaml'))\n",
    "tf_webui_op = kfp.components.load_component_from_file(os.path.join(component_root_webui, 'component.yaml'))\n",
    "tf_tensor_op = kfp.components.load_component_from_file(os.path.join(component_root_tensorboard, 'component.yaml'))"
   ]
  },
  {
   "cell_type": "markdown",
   "metadata": {},
   "source": [
    "### Define Volume and Volume Mounts"
   ]
  },
  {
   "cell_type": "code",
   "execution_count": 76,
   "metadata": {},
   "outputs": [],
   "source": [
    "nfs_pvc = client.V1PersistentVolumeClaimVolumeSource(claim_name='nfs')\n",
    "nfs_volume = client.V1Volume(name='nfs', persistent_volume_claim=nfs_pvc)\n",
    "nfs_volume_mount = client.V1VolumeMount(mount_path='/mnt/', name='nfs')"
   ]
  },
  {
   "cell_type": "markdown",
   "metadata": {},
   "source": [
    "### Define pipeline function"
   ]
  },
  {
   "cell_type": "code",
   "execution_count": 77,
   "metadata": {},
   "outputs": [
    {
     "name": "stdout",
     "output_type": "stream",
     "text": [
      "1592937370\n"
     ]
    },
    {
     "data": {
      "text/html": [
       "Experiment link <a href=\"/pipeline/#/experiments/details/8759fa94-806e-4426-9fca-b9fab21848c1\" target=\"_blank\" >here</a>"
      ],
      "text/plain": [
       "<IPython.core.display.HTML object>"
      ]
     },
     "metadata": {},
     "output_type": "display_data"
    },
    {
     "data": {
      "text/html": [
       "Run link <a href=\"/pipeline/#/runs/details/c87f3894-e36b-41f1-99ed-3ac913f7441a\" target=\"_blank\" >here</a>"
      ],
      "text/plain": [
       "<IPython.core.display.HTML object>"
      ]
     },
     "metadata": {},
     "output_type": "display_data"
    },
    {
     "data": {
      "text/plain": [
       "RunPipelineResult(run_id=c87f3894-e36b-41f1-99ed-3ac913f7441a)"
      ]
     },
     "execution_count": 77,
     "metadata": {},
     "output_type": "execute_result"
    }
   ],
   "source": [
    "# Creating timestamp\n",
    "timestamp = str(calendar.timegm(time.gmtime()))\n",
    "print(timestamp)\n",
    "def blerssi_pipeline():\n",
    "\n",
    "    #Defining Task to run katib\n",
    "    tf_katib_task = tf_katib_op(timestamp=timestamp)\n",
    "    tf_katib_task.add_volume(nfs_volume)\n",
    "    tf_katib_task.add_volume_mount(nfs_volume_mount)    \n",
    "    \n",
    "        \n",
    "    #Defining Task for Model training\n",
    "    tf_train_model_task = tf_train_model_op(timestamp=timestamp)\n",
    "    tf_train_model_task.add_volume(nfs_volume)\n",
    "    tf_train_model_task.add_volume_mount(nfs_volume_mount)\n",
    "    tf_train_model_task.after(tf_katib_task)\n",
    "    \n",
    "    #Defining Task to perform serving    \n",
    "    tf_serve_model_task = tf_serve_model_op(timestamp=timestamp)\n",
    "    tf_serve_model_task.add_volume(nfs_volume)\n",
    "    tf_serve_model_task.add_volume_mount(nfs_volume_mount)\n",
    "    tf_serve_model_task.after(tf_train_model_task)\n",
    "\n",
    "    #Defining task for tensorboard creation    \n",
    "    tf_tensorboard_task = tf_tensor_op(timestamp=timestamp)\n",
    "    tf_tensorboard_task.add_volume(nfs_volume)\n",
    "    tf_tensorboard_task.add_volume_mount(nfs_volume_mount)\n",
    "    tf_tensorboard_task.after(tf_train_model_task)\n",
    "    \n",
    "    \n",
    "    #Defining task for webUI creation\n",
    "    tf_webui_task = tf_webui_op(image_path=\"docker.io/premkarthi/blerssi-webui:v4\",\n",
    "                                timestamp=timestamp)\n",
    "    tf_webui_task.add_volume(nfs_volume)\n",
    "    tf_webui_task.add_volume_mount(nfs_volume_mount)\n",
    "    tf_webui_task.after(tf_serve_model_task)\n",
    "    \n",
    "#Creating a pipeline run\n",
    "kfp.Client().create_run_from_pipeline_func(blerssi_pipeline, arguments={})"
   ]
  },
  {
   "cell_type": "markdown",
   "metadata": {},
   "source": [
    "### Before accessing service URLs below, make sure that Pipeline Run is Complete in the Dashboard"
   ]
  },
  {
   "cell_type": "markdown",
   "metadata": {},
   "source": [
    "### Get Tensorboard URL"
   ]
  },
  {
   "cell_type": "code",
   "execution_count": 9,
   "metadata": {},
   "outputs": [
    {
     "name": "stdout",
     "output_type": "stream",
     "text": [
      "Tensorboard service is available at - http://INGRESS_IP:30436\n"
     ]
    }
   ],
   "source": [
    "TB_SERVICE_NAME = \"tensorboard-\"+str(timestamp)+\"-blerssi-service\"\n",
    "port = !(kubectl get svc {TB_SERVICE_NAME} -n kubeflow -o yaml | grep -i nodePort: | cut -d\":\" -f 2)\n",
    "print('Tensorboard service is available at - http://INGRESS_IP:{}'.format(port[0].lstrip()))"
   ]
  },
  {
   "cell_type": "markdown",
   "metadata": {},
   "source": [
    "### Get WebUI URL \n",
    "And upload csv from https://github.com/CiscoAI/kubeflow-apps/blob/master/tf-blerssi/data/iBeacon_RSSI_Unlabeled.csv"
   ]
  },
  {
   "cell_type": "code",
   "execution_count": 10,
   "metadata": {},
   "outputs": [
    {
     "name": "stdout",
     "output_type": "stream",
     "text": [
      "WebUI service is available at - http://INGRESS_IP:31805\n"
     ]
    }
   ],
   "source": [
    "WEBUI_SERVICE_NAME = \"webui-\"+str(timestamp)+\"-blerssi-service\"\n",
    "port = !(kubectl get svc {WEBUI_SERVICE_NAME} -n kubeflow -o yaml | grep -i nodePort: | cut -d\":\" -f 2)\n",
    "print('WebUI service is available at - http://INGRESS_IP:{}'.format(port[0].lstrip()))"
   ]
  }
 ],
 "metadata": {
  "kernelspec": {
   "display_name": "Python 3",
   "language": "python",
   "name": "python3"
  },
  "language_info": {
   "codemirror_mode": {
    "name": "ipython",
    "version": 3
   },
   "file_extension": ".py",
   "mimetype": "text/x-python",
   "name": "python",
   "nbconvert_exporter": "python",
   "pygments_lexer": "ipython3",
   "version": "3.6.9"
  }
 },
 "nbformat": 4,
 "nbformat_minor": 2
}
