{
 "cells": [
  {
   "cell_type": "code",
   "execution_count": 9,
   "metadata": {},
   "outputs": [],
   "source": [
    "'''\n",
    "!!NOTE!!\n",
    "!!User Input required!!\n",
    "\n",
    "Parameters:\n",
    "\n",
    "execution_mode (string): where the notebook is being run\n",
    "    Sample: 'local', 'in-cluster'\n",
    "\n",
    "host (string): KF Pipelines service endpoint\n",
    "    Sample:  \"http://10.10.10.10:31380/pipeline\"\n",
    "\n",
    "\n",
    "role_arn (string): SageMaker Role ARN for execution of pipeline components\n",
    "    Sample: 'arn:aws:iam::${account_id}:role/service-role/AmazonSageMaker-ExecutionRole-${timestemp}'\n",
    "'''\n",
    "\n",
    "execution_mode = \"local\"\n",
    "host = \"\" \n",
    "role_arn = ''\n",
    "\n",
    "if execution_mode == \"local\" and host == None:\n",
    "    raise ValueError(\"Please set host to the appropriate URL\")\n",
    "elif execution_mode != \"local\":\n",
    "    execution_mode = \"in-cluster\""
   ]
  },
  {
   "cell_type": "code",
   "execution_count": 10,
   "metadata": {},
   "outputs": [],
   "source": [
    "import kfp\n",
    "import kfp.dsl as dsl\n",
    "from kfp import components\n",
    "from kubernetes import client as k8s_client\n",
    "from kfp.aws import use_aws_secret\n",
    "import logging"
   ]
  },
  {
   "cell_type": "code",
   "execution_count": 11,
   "metadata": {},
   "outputs": [],
   "source": [
    "# Set loglevel to debug\n",
    "logging.basicConfig()\n",
    "logging.getLogger().setLevel(logging.DEBUG)\n",
    "\n",
    "model = 'https://raw.githubusercontent.com/kubeflow/pipelines/master/components/aws/sagemaker/model/component.yaml'\n",
    "deploy = 'https://raw.githubusercontent.com/kubeflow/pipelines/master/components/aws/sagemaker/deploy/component.yaml'"
   ]
  },
  {
   "cell_type": "code",
   "execution_count": 12,
   "metadata": {},
   "outputs": [],
   "source": [
    "sagemaker_model_op = components.load_component_from_url(model)\n",
    "sagemaker_deploy_op = components.load_component_from_url(deploy)\n",
    "\n",
    "def blerssi_mxnet_train_upload_op(step_name='mxnet-train'):\n",
    "    return dsl.ContainerOp(\n",
    "        name='mxnet-train-upload-s3',\n",
    "        image='ciscoai/mxnet-blerssi-train-upload:v0.1.1',\n",
    "    ).apply(use_aws_secret(secret_name='aws-secret', aws_access_key_id_name='AWS_ACCESS_KEY_ID', aws_secret_access_key_name='AWS_SECRET_ACCESS_KEY'))"
   ]
  },
  {
   "cell_type": "code",
   "execution_count": 13,
   "metadata": {},
   "outputs": [],
   "source": [
    "@dsl.pipeline(\n",
    "    name='MXNet Sagemaker Hybrid Pipeline',\n",
    "    description='Pipeline to train BLERSSI model using mxnet and save in aws s3 bucket'\n",
    ")\n",
    "def mxnet_pipeline(\n",
    "    region=\"\",\n",
    "    image=\"\",\n",
    "    model_name=\"\",\n",
    "    endpoint_config_name=\"\",\n",
    "    endpoint_name=\"\",\n",
    "    model_artifact_url=\"\",\n",
    "    instance_type_1=\"\",\n",
    "    role=\"\"\n",
    "):\n",
    "    train_upload_model = blerssi_mxnet_train_upload_op()\n",
    "\n",
    "    create_model = sagemaker_model_op(\n",
    "        region=region,\n",
    "        model_name=model_name,\n",
    "        image=image,\n",
    "        model_artifact_url=model_artifact_url,\n",
    "        role=role\n",
    "    ).apply(use_aws_secret(secret_name='aws-secret', aws_access_key_id_name='AWS_ACCESS_KEY_ID', aws_secret_access_key_name='AWS_SECRET_ACCESS_KEY'))\n",
    "    create_model.after(train_upload_model)\n",
    "\n",
    "    sagemaker_deploy_op(\n",
    "        region=region,\n",
    "        endpoint_config_name=endpoint_config_name,\n",
    "        endpoint_name=endpoint_name,\n",
    "        model_name_1=create_model.output,\n",
    "        instance_type_1=instance_type_1\n",
    "    ).apply(use_aws_secret(secret_name='aws-secret', aws_access_key_id_name='AWS_ACCESS_KEY_ID', aws_secret_access_key_name='AWS_SECRET_ACCESS_KEY'))"
   ]
  },
  {
   "cell_type": "code",
   "execution_count": 14,
   "metadata": {},
   "outputs": [
    {
     "name": "stderr",
     "output_type": "stream",
     "text": [
      "DEBUG:root:Internal compiler error: Compiler has produced Argo-incompatible workflow.\n",
      "Please create a new issue at https://github.com/kubeflow/pipelines/issues attaching the pipeline code and the pipeline package.\n",
      "Error: time=\"2020-05-11T16:48:48-07:00\" level=fatal msg=\"/dev/stdin: spec.arguments.parameters[2].name: 'model_name' is invalid: name must consist of alpha-numeric characters or '-', and must start with an alpha-numeric character (e.g. My-name1-2, 123-NAME)\"\n",
      "\n",
      "INFO:root:Argo workflow failed validation check but it can still be used to run experiments.\n"
     ]
    }
   ],
   "source": [
    "try:\n",
    "    import kfp.compiler as compiler\n",
    "    compiler.Compiler().compile(mxnet_pipeline, 'mxnet_pipeline.tar.gz')\n",
    "except RuntimeError as err:\n",
    "    logging.debug(err)\n",
    "    logging.info(\"Argo workflow failed validation check but it can still be used to run experiments.\")"
   ]
  },
  {
   "cell_type": "code",
   "execution_count": 15,
   "metadata": {},
   "outputs": [
    {
     "data": {
      "text/html": [
       "Experiment link <a href=\"http://10.30.118.172:31380/pipeline/#/experiments/details/73153b10-0f34-4264-b741-82b5900dea54\" target=\"_blank\" >here</a>"
      ],
      "text/plain": [
       "<IPython.core.display.HTML object>"
      ]
     },
     "metadata": {},
     "output_type": "display_data"
    }
   ],
   "source": [
    "client = None\n",
    "if execution_mode == \"local\":\n",
    "    client = kfp.Client(host=host)\n",
    "else:\n",
    "    client = kfp.Client()\n",
    "blerssi_hybrid_experiment = client.create_experiment(name='BLERSSI-Sagemaker')"
   ]
  },
  {
   "cell_type": "code",
   "execution_count": 17,
   "metadata": {},
   "outputs": [
    {
     "data": {
      "text/html": [
       "Run link <a href=\"http://10.30.118.172:31380/pipeline/#/runs/details/1361d2b5-8c84-4ad3-8dd6-6832610c885c\" target=\"_blank\" >here</a>"
      ],
      "text/plain": [
       "<IPython.core.display.HTML object>"
      ]
     },
     "metadata": {},
     "output_type": "display_data"
    }
   ],
   "source": [
    "from datetime import datetime\n",
    "timestamp = datetime.now().strftime(\"%d-%m-%y-%H-%M-%S\")\n",
    "logging.info(\"timestamp for pipeline artifacts: %s\", timestamp)\n",
    "\n",
    "# pipeline parameters :\n",
    "\n",
    "# Region where the pipeline is supposed to push/pull artifacts\n",
    "aws_region = 'us-west-2'\n",
    "\n",
    "# pre-built inference image for serving the mxnet BLERSSI model\n",
    "inference_image = '609615689023.dkr.ecr.us-west-2.amazonaws.com/mxnet-blerssi-inference:latest'\n",
    "\n",
    "# model name to create a re-usable SageMaker Model resource\n",
    "model_name = 'mxnet-blerssi-'+timestamp\n",
    "\n",
    "# endpoint config name for the SageMaker Model Serving Endpoint Config\n",
    "endpoint_config_name = 'mxnet-blerssi-endpoint-config-'+timestamp\n",
    "\n",
    "# endpoint name for SageMaker Serving Endpoint\n",
    "endpoint_name = 'mxnet-blerssi-'+timestamp\n",
    "\n",
    "# model artifact URL\n",
    "# Path to the model tarball \n",
    "model_path = 's3://mxnet-model-store/blerssi/model.tar.gz'\n",
    "\n",
    "# AWS instance type\n",
    "instance_type = 'ml.m4.xlarge'\n",
    "\n",
    "run = client.run_pipeline(blerssi_hybrid_experiment.id, 'blerssi-sagemaker-pipeline-'+timestamp, pipeline_package_path='mxnet_pipeline.tar.gz', params={\n",
    "    'region': aws_region,\n",
    "    'image': inference_image,\n",
    "    'model_name': model_name,\n",
    "    'endpoint_config_name': endpoint_config_name,\n",
    "    'endpoint_name': endpoint_name,\n",
    "    'model_artifact_url': model_path,\n",
    "    'instance_type_1': instance_type,\n",
    "    'role': role_arn\n",
    "})"
   ]
  }
 ],
 "metadata": {
  "kernelspec": {
   "display_name": "Python 3.7.5 64-bit ('kubeflow-fairing': conda)",
   "language": "python",
   "name": "python37564bitkubeflowfairingconda1169b2cc1734424a8ac3b433f60fa70b"
  },
  "language_info": {
   "codemirror_mode": {
    "name": "ipython",
    "version": 3
   },
   "file_extension": ".py",
   "mimetype": "text/x-python",
   "name": "python",
   "nbconvert_exporter": "python",
   "pygments_lexer": "ipython3",
   "version": "3.7.5"
  }
 },
 "nbformat": 4,
 "nbformat_minor": 4
}
