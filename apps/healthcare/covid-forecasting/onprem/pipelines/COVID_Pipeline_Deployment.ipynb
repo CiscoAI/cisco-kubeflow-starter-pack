{
 "cells": [
  {
   "cell_type": "markdown",
   "metadata": {},
   "source": [
    "## COVID Pipeline Deployment on UCS"
   ]
  },
  {
   "cell_type": "markdown",
   "metadata": {},
   "source": [
    "### Clone Cisco Kubeflow Starter Pack Repository"
   ]
  },
  {
   "cell_type": "code",
   "execution_count": 3,
   "metadata": {},
   "outputs": [
    {
     "name": "stdout",
     "output_type": "stream",
     "text": [
      "Cloning into 'cisco-kubeflow-starter-pack'...\n",
      "remote: Enumerating objects: 1681, done.\u001b[K\n",
      "remote: Total 1681 (delta 0), reused 0 (delta 0), pack-reused 1681\u001b[K\n",
      "Receiving objects: 100% (1681/1681), 4.45 MiB | 6.38 MiB/s, done.\n",
      "Resolving deltas: 100% (661/661), done.\n"
     ]
    }
   ],
   "source": [
    "! git clone https://github.com/CiscoAI/cisco-kubeflow-starter-pack.git"
   ]
  },
  {
   "cell_type": "markdown",
   "metadata": {},
   "source": [
    "### Import libraries"
   ]
  },
  {
   "cell_type": "code",
   "execution_count": 21,
   "metadata": {},
   "outputs": [],
   "source": [
    "import kfp\n",
    "import os\n",
    "import calendar\n",
    "import time\n",
    "from kubernetes import client"
   ]
  },
  {
   "cell_type": "markdown",
   "metadata": {},
   "source": [
    "\n",
    "### Component files Declarations"
   ]
  },
  {
   "cell_type": "code",
   "execution_count": 22,
   "metadata": {},
   "outputs": [],
   "source": [
    "path='cisco-kubeflow-starter-pack/apps/healthcare/covid-forecasting/onprem/pipelines/'\n",
    "component_root_preprocess = path + 'components/covid_preprocess/'\n",
    "component_root_train = path + 'components/covid_train/'\n",
    "component_root_serve = path + 'components/covid_serve/'"
   ]
  },
  {
   "cell_type": "markdown",
   "metadata": {},
   "source": [
    "#### Components Description\n",
    "covid_datadownload_op &nbsp; - &nbsp; Downloads dataset from GCP bucket and stores in nfs-volume. <br>\n",
    "covid_preprocess_op &nbsp; - &nbsp; Preprocess the raw dataset to make it suitable for training. <br>\n",
    "covid_train_op &nbsp; - &nbsp; Load dataset from nfs-volume, train COVID-19 model and saves model in nfs-volume. <br>\n",
    "covid_serve_op &nbsp; - &nbsp; Load COVID-19 model from nfs-volume and serve the model using tf-serving for later prediction. <br> \n",
    "covid_upload_result_op &nbsp; - &nbsp; Uploading the prediction results into GCS bucket for the sake of visualisation. <br> "
   ]
  },
  {
   "cell_type": "markdown",
   "metadata": {},
   "source": [
    "\n",
    "\n",
    "### Load components from respective .YAML config files"
   ]
  },
  {
   "cell_type": "code",
   "execution_count": 23,
   "metadata": {},
   "outputs": [],
   "source": [
    "covid_preprocess_op = kfp.components.load_component_from_file(os.path.join(component_root_preprocess, 'component.yaml'))\n",
    "covid_train_op = kfp.components.load_component_from_file(os.path.join(component_root_train, 'component.yaml'))\n",
    "covid_serve_op = kfp.components.load_component_from_file(os.path.join(component_root_serve, 'component.yaml'))"
   ]
  },
  {
   "cell_type": "markdown",
   "metadata": {},
   "source": [
    "### Define Volume and Volume Mounts"
   ]
  },
  {
   "cell_type": "code",
   "execution_count": 24,
   "metadata": {},
   "outputs": [],
   "source": [
    "nfs_pvc = client.V1PersistentVolumeClaimVolumeSource(claim_name='nfs')\n",
    "nfs_volume = client.V1Volume(name='nfs', persistent_volume_claim=nfs_pvc)\n",
    "nfs_volume_mount = client.V1VolumeMount(mount_path='/mnt/', name='nfs')"
   ]
  },
  {
   "cell_type": "markdown",
   "metadata": {},
   "source": [
    "### Create Timestamp"
   ]
  },
  {
   "cell_type": "code",
   "execution_count": 25,
   "metadata": {},
   "outputs": [
    {
     "name": "stdout",
     "output_type": "stream",
     "text": [
      "1588242007\n"
     ]
    }
   ],
   "source": [
    "timestamp = str(calendar.timegm(time.gmtime()))\n",
    "print(timestamp)"
   ]
  },
  {
   "cell_type": "markdown",
   "metadata": {},
   "source": [
    "\n",
    "### Define pipeline function"
   ]
  },
  {
   "cell_type": "code",
   "execution_count": 26,
   "metadata": {},
   "outputs": [],
   "source": [
    "def covid_pipeline():\n",
    "    \n",
    "    \n",
    "    #Define Task for Preprocess covid data\n",
    "    covid_preprocess_task = covid_preprocess_op()\n",
    "    covid_preprocess_task.add_volume(nfs_volume)\n",
    "    covid_preprocess_task.add_volume_mount(nfs_volume_mount)\n",
    "    \n",
    "    #Define Task for Training model for COVID-19 prediction\n",
    "    covid_train_task = covid_train_op(epochs=10)\n",
    "    covid_train_task.add_volume(nfs_volume)\n",
    "    covid_train_task.add_volume_mount(nfs_volume_mount)\n",
    "    covid_train_task.after(covid_preprocess_task)\n",
    "    \n",
    "    #Define Task for Serving for COVID-19 prediction\n",
    "    covid_serve_task = covid_serve_op(timestamp=timestamp)\n",
    "    covid_serve_task.add_volume(nfs_volume)\n",
    "    covid_serve_task.add_volume_mount(nfs_volume_mount)\n",
    "    covid_serve_task.after(covid_train_task)    "
   ]
  },
  {
   "cell_type": "markdown",
   "metadata": {},
   "source": [
    "### Create & Execute a COVID Forcast Pipeline"
   ]
  },
  {
   "cell_type": "code",
   "execution_count": 27,
   "metadata": {},
   "outputs": [
    {
     "data": {
      "text/html": [
       "Experiment link <a href=\"/pipeline/#/experiments/details/a07bd10c-d224-44f2-aebc-23acadec3fc0\" target=\"_blank\" >here</a>"
      ],
      "text/plain": [
       "<IPython.core.display.HTML object>"
      ]
     },
     "metadata": {},
     "output_type": "display_data"
    },
    {
     "data": {
      "text/html": [
       "Run link <a href=\"/pipeline/#/runs/details/361ddb67-faf7-416e-9212-874bc4d87009\" target=\"_blank\" >here</a>"
      ],
      "text/plain": [
       "<IPython.core.display.HTML object>"
      ]
     },
     "metadata": {},
     "output_type": "display_data"
    },
    {
     "data": {
      "text/plain": [
       "RunPipelineResult(run_id=361ddb67-faf7-416e-9212-874bc4d87009)"
      ]
     },
     "execution_count": 27,
     "metadata": {},
     "output_type": "execute_result"
    }
   ],
   "source": [
    "#Create a pipeline run\n",
    "kfp.Client().create_run_from_pipeline_func(covid_pipeline, arguments={})"
   ]
  },
  {
   "cell_type": "markdown",
   "metadata": {},
   "source": [
    "### Retrieve ClusterIP of Serving Service & Predict using curl request"
   ]
  },
  {
   "cell_type": "code",
   "execution_count": 25,
   "metadata": {},
   "outputs": [
    {
     "name": "stdout",
     "output_type": "stream",
     "text": [
      "10.99.104.192\n",
      "{\n",
      "    \"predictions\": [[3.71306396e-06, 6.48195453e-07, 3.59812134e-06, 1.01000251e-06, 6.99493876e-06, 1.83913096e-06, 4.58340446e-06, 9.02905526e-07, 9.59076442e-06, 1.22532163e-06, 7.27896304e-06, 1.20176969e-06, 5.31440946e-06, 1.50903679e-06, 2.09175e-06, 7.40330222e-07, 1.14892537e-05, 1.35839412e-06, 1.05419758e-05, 5.92884078e-07, 1.05328818e-05, 1.12036582e-06, 2.78480093e-05, 1.24785288e-06, 2.02848933e-05, 6.77313153e-07, 2.69135126e-05, 1.8475198e-06, 3.51139279e-05, 1.95976213e-06, 2.96442777e-05, 5.46645367e-07, 8.02301511e-05, 1.52324856e-06, 0.000855864957, 8.5055035e-07, 0.085144192, 9.31548186e-07, 0.0946462601, 1.05992603e-06, 0.138091743, 1.53388135e-06, 0.191763729, 1.13644512e-06, 0.177047938, 1.91902927e-06, 0.312126338, 8.4027e-07], [3.71306396e-06, 6.48195453e-07, 3.59812134e-06, 1.01000251e-06, 6.99493876e-06, 1.83913096e-06, 4.58340446e-06, 9.02905526e-07, 9.59076442e-06, 1.22532163e-06, 7.27896304e-06, 1.20176969e-06, 5.31440946e-06, 1.50903679e-06, 2.09175e-06, 7.40330222e-07, 1.14892537e-05, 1.35839412e-06, 1.05419758e-05, 5.92884078e-07, 1.05328818e-05, 1.12036582e-06, 2.78480093e-05, 1.24785288e-06, 2.02848933e-05, 6.77313153e-07, 2.69135126e-05, 1.8475198e-06, 3.51139279e-05, 1.95976213e-06, 2.96442777e-05, 5.46645367e-07, 8.02301511e-05, 1.52324856e-06, 0.000855864957, 8.5055035e-07, 0.085144192, 9.31548186e-07, 0.0946462601, 1.05992603e-06, 0.138091743, 1.53388135e-06, 0.191763729, 1.13644512e-06, 0.177047938, 1.91902927e-06, 0.312126338, 8.4027e-07]\n",
      "    ]\n",
      "}"
     ]
    },
    {
     "name": "stderr",
     "output_type": "stream",
     "text": [
      "*   Trying 10.99.104.192...\n",
      "* TCP_NODELAY set\n",
      "  % Total    % Received % Xferd  Average Speed   Time    Time     Time  Current\n",
      "                                 Dload  Upload   Total   Spent    Left  Speed\n",
      "\r",
      "  0     0    0     0    0     0      0      0 --:--:-- --:--:-- --:--:--     0* Connected to 10.99.104.192 (10.99.104.192) port 8500 (#0)\n",
      "> POST /v1/models/Model_Covid:predict HTTP/1.1\r\n",
      "> Host: 10.99.104.192:8500\r\n",
      "> User-Agent: curl/7.58.0\r\n",
      "> Accept: */*\r\n",
      "> Content-Length: 3908\r\n",
      "> Content-Type: application/x-www-form-urlencoded\r\n",
      "> Expect: 100-continue\r\n",
      "> \r\n",
      "< HTTP/1.1 100 Continue\r\n",
      "} [3908 bytes data]\n",
      "* We are completely uploaded and fine\n",
      "< HTTP/1.1 200 OK\r\n",
      "< Content-Type: application/json\r\n",
      "< Date: Thu, 30 Apr 2020 14:12:30 GMT\r\n",
      "< Content-Length: 1516\r\n",
      "< \r\n",
      "{ [1516 bytes data]\n",
      "\r",
      "100  5424  100  1516  100  3908  14862  38313 --:--:-- --:--:-- --:--:-- 53176\n",
      "* Connection #0 to host 10.99.104.192 left intact\n"
     ]
    }
   ],
   "source": [
    "%%bash\n",
    "serve_ip=$(kubectl -n kubeflow get svc | grep covid-service | awk '{print $3}')\n",
    "echo $serve_ip\n",
    "curl -v http://$serve_ip:8500/v1/models/Model_Covid:predict -d '{\"signature_name\":\"serving_default\",\"instances\":[{\"input1\":[[1.0986122886681098, 0.0],[0.0, 0.0],[0.0, 0.0],[0.0, 0.0],[0.0, 0.6931471805599453],[0.0, 0.0],[1.0986122886681098, 0.0],[0.6931471805599453, 0.0],[0.0, 0.0],[0.0, 0.0],[0.0, 0.0],[0.0, 0.0],[0.0, 0.0],[0.0, 0.0],[0.0, 0.0],[0.0, 0.0],[0.0, 0.0],[0.0, 0.0],[0.0, 0.0],[0.0, 0.0],[0.0, 0.0],[0.0, 0.0],[0.0, 0.0],[0.0, 0.0]], \"input2\":[0.0, 0.0, 0.0, 0.0, 0.0, 0.0, 0.0, 0.0, 0.0, 0.0, 0.0, 0.0, 0.0, 0.0, 0.0, 0.0, 0.0, 0.0, 0.0, 0.0, 0.0, 0.0, 0.0, 0.0, 0.0, 0.0, 0.0, 0.0, 0.0, 0.0, 0.0, 0.0, 0.0, 0.0, 0.0, 0.0, 0.0, 0.0, 0.0, 0.0, 0.0, 0.0, 0.0, 0.0, 0.0, 0.0, 0.0, 0.0, 0.0, 0.0, 0.0, 0.0, 0.0, 0.0, 0.0, 0.0, 0.0, 0.0, 0.0, 0.0, 0.0, 0.0, 0.0, 0.0, 0.0, 0.0, 0.0, 0.0, 0.0, 0.0, 0.0, 0.0, 0.0, 0.0, 0.0, 0.0, 0.0, 0.0, 0.0, 0.0, 0.0, 0.0, 0.0, 0.0, 0.0, 0.0, 0.0, 0.0, 0.0, 0.0, 0.0, 0.0, 0.0, 0.0, 0.0, 0.0, 0.0, 0.0, 0.0, 0.0, 0.0, 0.0, 0.0, 0.0, 0.0, 0.0, 0.0, 0.0, 0.0, 0.0, 0.0, 0.0, 0.0, 0.0, 0.0, 0.0, 0.0, 0.0, 0.0, 0.0, 0.0, 0.0, 0.0, 0.0, 0.0, 0.0, 0.0, 0.0, 0.0, 0.0, 0.0, 0.0, 0.0, 0.0, 0.0, 0.0, 0.0, 0.0, 0.0, 0.0, 0.0, 0.0, 0.0, 0.0, 0.0, 0.0, 0.0, 0.0, 0.0, 0.0, 0.0, 0.0, 0.0, 0.0, 0.0, 0.0, 0.0, 0.0, 0.0, 0.0, 0.0, 0.0, 0.0, 0.0, 0.0, 0.0, 0.0, 0.0, 0.0, 0.0, 0.0, 0.0, 0.0, 0.0, 0.0, 0.0, 0.0, 0.0, 0.0, 0.0, 0.0, 0.0, 0.0, 0.0, 0.0, 0.0, 0.0, 0.0, 0.0, 0.0, 0.0, 0.0, 0.0, 0.0, 0.0, 0.0, 0.0, 0.0, 0.0, 0.0, 0.0, 0.0, 0.0, 0.0, 0.0, 0.0, 0.0, 0.0, 0.0, 0.0, 0.0, 0.0, 0.0, 0.0, 0.0, 0.0, 0.0, 0.0, 0.0, 0.0, 0.0, 0.0, 0.0, 0.0, 0.0, 0.0, 0.0, 0.0, 0.0, 0.0, 0.0, 0.0, 0.0, 0.0, 0.0, 0.0, 0.0, 0.0, 0.0, 0.0, 0.0, 0.0, 0.0, 0.0, 0.0, 0.0, 0.0, 0.0, 0.0, 0.0, 0.0, 0.0, 0.0, 0.0, 0.0, 0.0, 0.0, 0.0, 0.0, 0.0, 0.0, 0.0, 0.0, 0.0, 0.0, 0.0, 0.0, 0.0, 0.0, 0.0, 0.0, 0.0, 0.0, 0.0, 0.0, 0.0, 0.0, 0.0, 0.0, 0.0, 0.0, 0.0, 0.0, 0.0, 0.0, 0.0, 0.0, 0.0, 0.0, 0.0, 0.0, 0.0, 0.0, 0.0, 0.0, 0.0, 0.0, 0.0, 0.0, 0.0, 0.0, 0.0, 0.0, 0.0, 0.0, 0.0, 0.0, 0.0, 0.0, 0.0, 0.0, 0.0, 0.0, 0.0, 0.0, 1.0]}, {\"input1\":[[1.0986122886681098, 0.0],[0.0, 0.0],[0.0, 0.0],[0.0, 0.0],[0.0, 0.6931471805599453],[0.0, 0.0],[1.0986122886681098, 0.0],[0.6931471805599453, 0.0],[0.0, 0.0],[0.0, 0.0],[0.0, 0.0],[0.0, 0.0],[0.0, 0.0],[0.0, 0.0],[0.0, 0.0],[0.0, 0.0],[0.0, 0.0],[0.0, 0.0],[0.0, 0.0],[0.0, 0.0],[0.0, 0.0],[0.0, 0.0],[0.0, 0.0],[0.0, 0.0]], \"input2\":[0.0, 0.0, 0.0, 0.0, 0.0, 0.0, 0.0, 0.0, 0.0, 0.0, 0.0, 0.0, 0.0, 0.0, 0.0, 0.0, 0.0, 0.0, 0.0, 0.0, 0.0, 0.0, 0.0, 0.0, 0.0, 0.0, 0.0, 0.0, 0.0, 0.0, 0.0, 0.0, 0.0, 0.0, 0.0, 0.0, 0.0, 0.0, 0.0, 0.0, 0.0, 0.0, 0.0, 0.0, 0.0, 0.0, 0.0, 0.0, 0.0, 0.0, 0.0, 0.0, 0.0, 0.0, 0.0, 0.0, 0.0, 0.0, 0.0, 0.0, 0.0, 0.0, 0.0, 0.0, 0.0, 0.0, 0.0, 0.0, 0.0, 0.0, 0.0, 0.0, 0.0, 0.0, 0.0, 0.0, 0.0, 0.0, 0.0, 0.0, 0.0, 0.0, 0.0, 0.0, 0.0, 0.0, 0.0, 0.0, 0.0, 0.0, 0.0, 0.0, 0.0, 0.0, 0.0, 0.0, 0.0, 0.0, 0.0, 0.0, 0.0, 0.0, 0.0, 0.0, 0.0, 0.0, 0.0, 0.0, 0.0, 0.0, 0.0, 0.0, 0.0, 0.0, 0.0, 0.0, 0.0, 0.0, 0.0, 0.0, 0.0, 0.0, 0.0, 0.0, 0.0, 0.0, 0.0, 0.0, 0.0, 0.0, 0.0, 0.0, 0.0, 0.0, 0.0, 0.0, 0.0, 0.0, 0.0, 0.0, 0.0, 0.0, 0.0, 0.0, 0.0, 0.0, 0.0, 0.0, 0.0, 0.0, 0.0, 0.0, 0.0, 0.0, 0.0, 0.0, 0.0, 0.0, 0.0, 0.0, 0.0, 0.0, 0.0, 0.0, 0.0, 0.0, 0.0, 0.0, 0.0, 0.0, 0.0, 0.0, 0.0, 0.0, 0.0, 0.0, 0.0, 0.0, 0.0, 0.0, 0.0, 0.0, 0.0, 0.0, 0.0, 0.0, 0.0, 0.0, 0.0, 0.0, 0.0, 0.0, 0.0, 0.0, 0.0, 0.0, 0.0, 0.0, 0.0, 0.0, 0.0, 0.0, 0.0, 0.0, 0.0, 0.0, 0.0, 0.0, 0.0, 0.0, 0.0, 0.0, 0.0, 0.0, 0.0, 0.0, 0.0, 0.0, 0.0, 0.0, 0.0, 0.0, 0.0, 0.0, 0.0, 0.0, 0.0, 0.0, 0.0, 0.0, 0.0, 0.0, 0.0, 0.0, 0.0, 0.0, 0.0, 0.0, 0.0, 0.0, 0.0, 0.0, 0.0, 0.0, 0.0, 0.0, 0.0, 0.0, 0.0, 0.0, 0.0, 0.0, 0.0, 0.0, 0.0, 0.0, 0.0, 0.0, 0.0, 0.0, 0.0, 0.0, 0.0, 0.0, 0.0, 0.0, 0.0, 0.0, 0.0, 0.0, 0.0, 0.0, 0.0, 0.0, 0.0, 0.0, 0.0, 0.0, 0.0, 0.0, 0.0, 0.0, 0.0, 0.0, 0.0, 0.0, 0.0, 0.0, 0.0, 0.0, 0.0, 0.0, 0.0, 0.0, 0.0, 0.0, 0.0, 0.0, 0.0, 0.0, 0.0, 0.0, 0.0, 0.0, 0.0, 0.0, 0.0, 0.0, 0.0, 0.0, 0.0, 0.0, 0.0, 0.0, 0.0, 1.0]} ]}'"
   ]
  }
 ],
 "metadata": {
  "kernelspec": {
   "display_name": "Python 3",
   "language": "python",
   "name": "python3"
  },
  "language_info": {
   "codemirror_mode": {
    "name": "ipython",
    "version": 3
   },
   "file_extension": ".py",
   "mimetype": "text/x-python",
   "name": "python",
   "nbconvert_exporter": "python",
   "pygments_lexer": "ipython3",
   "version": "3.6.9"
  }
 },
 "nbformat": 4,
 "nbformat_minor": 2
}
