{
 "cells": [
  {
   "cell_type": "markdown",
   "metadata": {},
   "source": [
    "## COVID Pipeline Deployment"
   ]
  },
  {
   "cell_type": "markdown",
   "metadata": {},
   "source": [
    "### Import libraries"
   ]
  },
  {
   "cell_type": "code",
   "execution_count": 27,
   "metadata": {},
   "outputs": [],
   "source": [
    "import kfp\n",
    "import os\n",
    "import calendar\n",
    "import time\n",
    "from kubernetes import client"
   ]
  },
  {
   "cell_type": "markdown",
   "metadata": {},
   "source": [
    "\n",
    "### Component files Declarations"
   ]
  },
  {
   "cell_type": "code",
   "execution_count": 28,
   "metadata": {},
   "outputs": [],
   "source": [
    "component_root_preprocess = 'components/covid_preprocess/'\n",
    "component_root_train = 'components/covid_train/'\n",
    "component_root_serve = 'components/covid_serve/'"
   ]
  },
  {
   "cell_type": "markdown",
   "metadata": {},
   "source": [
    "#### Components Description\n",
    "covid_datadownload_op &nbsp; - &nbsp; Downloads dataset from GCP bucket and stores in nfs-volume. <br>\n",
    "covid_preprocess_op &nbsp; - &nbsp; Preprocess the raw dataset to make it suitable for training. <br>\n",
    "covid_train_op &nbsp; - &nbsp; Load dataset from nfs-volume, train COVID-19 model and saves model in nfs-volume. <br>\n",
    "covid_serve_op &nbsp; - &nbsp; Load COVID-19 model from nfs-volume and serve the model using tf-serving for later prediction. <br> \n",
    "covid_upload_result_op &nbsp; - &nbsp; Uploading the prediction results into GCS bucket for the sake of visualisation. <br> "
   ]
  },
  {
   "cell_type": "markdown",
   "metadata": {},
   "source": [
    "\n",
    "\n",
    "### Load components from respective .YAML config files"
   ]
  },
  {
   "cell_type": "code",
   "execution_count": 29,
   "metadata": {},
   "outputs": [],
   "source": [
    "covid_preprocess_op = kfp.components.load_component_from_file(os.path.join(component_root_preprocess, 'component.yaml'))\n",
    "covid_train_op = kfp.components.load_component_from_file(os.path.join(component_root_train, 'component.yaml'))\n",
    "covid_serve_op = kfp.components.load_component_from_file(os.path.join(component_root_serve, 'component.yaml'))"
   ]
  },
  {
   "cell_type": "markdown",
   "metadata": {},
   "source": [
    "### Define Volume and Volume Mounts"
   ]
  },
  {
   "cell_type": "code",
   "execution_count": 30,
   "metadata": {},
   "outputs": [],
   "source": [
    "nfs_pvc = client.V1PersistentVolumeClaimVolumeSource(claim_name='nfs')\n",
    "nfs_volume = client.V1Volume(name='nfs', persistent_volume_claim=nfs_pvc)\n",
    "nfs_volume_mount = client.V1VolumeMount(mount_path='/mnt/', name='nfs')"
   ]
  },
  {
   "cell_type": "markdown",
   "metadata": {},
   "source": [
    "\n",
    "### Define pipeline function"
   ]
  },
  {
   "cell_type": "code",
   "execution_count": 32,
   "metadata": {},
   "outputs": [
    {
     "name": "stdout",
     "output_type": "stream",
     "text": [
      "1588076363\n"
     ]
    },
    {
     "data": {
      "text/html": [
       "Experiment link <a href=\"/pipeline/#/experiments/details/a07bd10c-d224-44f2-aebc-23acadec3fc0\" target=\"_blank\" >here</a>"
      ],
      "text/plain": [
       "<IPython.core.display.HTML object>"
      ]
     },
     "metadata": {},
     "output_type": "display_data"
    },
    {
     "data": {
      "text/html": [
       "Run link <a href=\"/pipeline/#/runs/details/c7904d2c-babf-4dde-8d72-289f91397a24\" target=\"_blank\" >here</a>"
      ],
      "text/plain": [
       "<IPython.core.display.HTML object>"
      ]
     },
     "metadata": {},
     "output_type": "display_data"
    },
    {
     "data": {
      "text/plain": [
       "RunPipelineResult(run_id=c7904d2c-babf-4dde-8d72-289f91397a24)"
      ]
     },
     "execution_count": 32,
     "metadata": {},
     "output_type": "execute_result"
    }
   ],
   "source": [
    "# Creating timestamp\n",
    "timestamp = str(calendar.timegm(time.gmtime()))\n",
    "print(timestamp)\n",
    "\n",
    "def covid_pipeline():\n",
    "    \n",
    "    \n",
    "    #Define Task for Preprocess covid data\n",
    "    covid_preprocess_task = covid_preprocess_op()\n",
    "    covid_preprocess_task.add_volume(nfs_volume)\n",
    "    covid_preprocess_task.add_volume_mount(nfs_volume_mount)\n",
    "    \n",
    "    #Define Task for Training model for COVID-19 prediction\n",
    "    covid_train_task = covid_train_op(epochs=10)\n",
    "    covid_train_task.add_volume(nfs_volume)\n",
    "    covid_train_task.add_volume_mount(nfs_volume_mount)\n",
    "    covid_train_task.after(covid_preprocess_task)\n",
    "    \n",
    "    #Define Task for Serving for COVID-19 prediction\n",
    "    covid_serve_task = covid_serve_op(timestamp=timestamp)\n",
    "    covid_serve_task.add_volume(nfs_volume)\n",
    "    covid_serve_task.add_volume_mount(nfs_volume_mount)\n",
    "    covid_serve_task.after(covid_train_task)\n",
    "    \n",
    "\n",
    "#Create a pipeline run\n",
    "kfp.Client().create_run_from_pipeline_func(covid_pipeline, arguments={})"
   ]
  }
 ],
 "metadata": {
  "kernelspec": {
   "display_name": "Python 3",
   "language": "python",
   "name": "python3"
  },
  "language_info": {
   "codemirror_mode": {
    "name": "ipython",
    "version": 3
   },
   "file_extension": ".py",
   "mimetype": "text/x-python",
   "name": "python",
   "nbconvert_exporter": "python",
   "pygments_lexer": "ipython3",
   "version": "3.6.9"
  }
 },
 "nbformat": 4,
 "nbformat_minor": 2
}
