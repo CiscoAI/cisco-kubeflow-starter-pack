{
 "cells": [
  {
   "cell_type": "markdown",
   "metadata": {},
   "source": [
    "## Chest-Xray Pipeline Deployment in UCS"
   ]
  },
  {
   "cell_type": "markdown",
   "metadata": {},
   "source": [
    "### Clone git repo"
   ]
  },
  {
   "cell_type": "code",
   "execution_count": null,
   "metadata": {},
   "outputs": [],
   "source": [
    "! git clone https://github.com/CiscoAI/cisco-kubeflow-starter-pack.git"
   ]
  },
  {
   "cell_type": "code",
   "execution_count": null,
   "metadata": {},
   "outputs": [],
   "source": [
    "! pip install kfp --user"
   ]
  },
  {
   "cell_type": "markdown",
   "metadata": {},
   "source": [
    "### Import libraries"
   ]
  },
  {
   "cell_type": "code",
   "execution_count": 2,
   "metadata": {},
   "outputs": [],
   "source": [
    "import kfp\n",
    "import os\n",
    "from kubernetes import client\n",
    "import calendar\n",
    "import time\n",
    "import numpy as np"
   ]
  },
  {
   "cell_type": "markdown",
   "metadata": {},
   "source": [
    "### Component files Declarations"
   ]
  },
  {
   "cell_type": "code",
   "execution_count": 3,
   "metadata": {},
   "outputs": [],
   "source": [
    "component_root_train= 'components/v2/tf-model-train/'\n",
    "component_root_serve = 'components/v2/tf-serving-deploy-service/'"
   ]
  },
  {
   "cell_type": "markdown",
   "metadata": {},
   "source": [
    "#### Components Description\n",
    "\n",
    "tf_train_model_op &nbsp;&nbsp;&nbsp; - &nbsp; Load dataset from nfs-volume, train Covid Xray model  and save model in nfs-volume. <br> \n",
    "tf_serve_model_op &nbsp; - &nbsp; Load Covid Xray model from nfs-volume and serve the model using tf-serving for later prediction. <br> \n",
    "tf_webui_op &nbsp;&nbsp;&nbsp;&nbsp;&nbsp;&nbsp;&nbsp;&nbsp;&nbsp;&nbsp;&nbsp;&nbsp; - &nbsp; Web application client UI loads Unlabeled data, does preprocessing, send API request to serving and display Predicted Location. <br> \n",
    "tf_tensor_op &nbsp;&nbsp;&nbsp;&nbsp;&nbsp;&nbsp;&nbsp;&nbsp;&nbsp;&nbsp;&nbsp;&nbsp;  - &nbsp; Tensorboard UI which provides the visualization metrics such as loss and accuracy, model graph (ops and layers) and histograms of weights, biases, or other tensors for Covid Xray Model <br> "
   ]
  },
  {
   "cell_type": "markdown",
   "metadata": {},
   "source": [
    "### Load components from respective .YAML config files"
   ]
  },
  {
   "cell_type": "code",
   "execution_count": 4,
   "metadata": {},
   "outputs": [],
   "source": [
    "tf_train_model_op = kfp.components.load_component_from_file(os.path.join(component_root_train, 'component.yaml')) \n",
    "tf_serve_model_op = kfp.components.load_component_from_file(os.path.join(component_root_serve, 'component.yaml'))"
   ]
  },
  {
   "cell_type": "markdown",
   "metadata": {},
   "source": [
    "### Define Volume and Volume Mounts"
   ]
  },
  {
   "cell_type": "code",
   "execution_count": 5,
   "metadata": {},
   "outputs": [],
   "source": [
    "nfs_pvc = client.V1PersistentVolumeClaimVolumeSource(claim_name='nfs')\n",
    "nfs_volume = client.V1Volume(name='nfs', persistent_volume_claim=nfs_pvc)\n",
    "nfs_volume_mount = client.V1VolumeMount(mount_path='/mnt/', name='nfs')"
   ]
  },
  {
   "cell_type": "markdown",
   "metadata": {},
   "source": [
    "### Define pipeline function"
   ]
  },
  {
   "cell_type": "code",
   "execution_count": 6,
   "metadata": {},
   "outputs": [
    {
     "name": "stdout",
     "output_type": "stream",
     "text": [
      "1591885185\n"
     ]
    },
    {
     "data": {
      "text/html": [
       "Experiment link <a href=\"/pipeline/#/experiments/details/8759fa94-806e-4426-9fca-b9fab21848c1\" target=\"_blank\" >here</a>"
      ],
      "text/plain": [
       "<IPython.core.display.HTML object>"
      ]
     },
     "metadata": {},
     "output_type": "display_data"
    },
    {
     "data": {
      "text/html": [
       "Run link <a href=\"/pipeline/#/runs/details/ce9b325c-6bbc-4a50-8782-a51982661161\" target=\"_blank\" >here</a>"
      ],
      "text/plain": [
       "<IPython.core.display.HTML object>"
      ]
     },
     "metadata": {},
     "output_type": "display_data"
    },
    {
     "data": {
      "text/plain": [
       "RunPipelineResult(run_id=ce9b325c-6bbc-4a50-8782-a51982661161)"
      ]
     },
     "execution_count": 6,
     "metadata": {},
     "output_type": "execute_result"
    }
   ],
   "source": [
    "# Creating timestamp\n",
    "timestamp = str(calendar.timegm(time.gmtime()))\n",
    "print(timestamp)\n",
    "def covid_pipeline():\n",
    "        \n",
    "#     Defining Task for Model training\n",
    "    tf_train_model_task = tf_train_model_op()\n",
    "    tf_train_model_task.add_volume(nfs_volume)\n",
    "    tf_train_model_task.add_volume_mount(nfs_volume_mount)\n",
    "    \n",
    "#     Defining Task to perform serving    \n",
    "    tf_serve_model_task = tf_serve_model_op(timestamp=timestamp)\n",
    "    tf_serve_model_task.add_volume(nfs_volume)\n",
    "    tf_serve_model_task.add_volume_mount(nfs_volume_mount)\n",
    "    tf_serve_model_task.after(tf_train_model_task)\n",
    "    \n",
    "#Creating a pipeline run\n",
    "kfp.Client().create_run_from_pipeline_func(covid_pipeline, arguments={})"
   ]
  },
  {
   "cell_type": "markdown",
   "metadata": {},
   "source": [
    "### TF Serving"
   ]
  },
  {
   "cell_type": "code",
   "execution_count": 8,
   "metadata": {},
   "outputs": [],
   "source": [
    "## TF Serving\n",
    "import tensorflow\n",
    "sess = tensorflow.keras.backend.get_session()\n",
    "img = tensorflow.read_file('image1.png')\n",
    "img = tensorflow.image.decode_jpeg(img, channels=3)\n",
    "img.set_shape([None, None, 3])\n",
    "img = tensorflow.image.resize_images(img, (224, 224))\n",
    "img = img.eval(session=sess) # convert to numpy array\n",
    "img = np.expand_dims(img, 0) # make 'batch' of 1"
   ]
  },
  {
   "cell_type": "code",
   "execution_count": 12,
   "metadata": {},
   "outputs": [
    {
     "name": "stdout",
     "output_type": "stream",
     "text": [
      "Image result :  NORMAL\n"
     ]
    }
   ],
   "source": [
    "import requests, json\n",
    "headers = {\"content-type\": \"application/json\"}\n",
    "data={\"signature_name\": \"serving_default\", \"instances\": img.tolist()}\n",
    "json_response = requests.post('http://10.103.234.60:8500/v1/models/Model_Covid:predict', data=json.dumps(data), headers=headers)\n",
    "prediction=json_response.json()['predictions']\n",
    "labels=[1,0]\n",
    "pred = labels[np.argmax(prediction)]\n",
    "diction = {'0':'NORMAL','1':'COVID'}\n",
    "result = diction[str(pred)]\n",
    "print('Image result : ',result)"
   ]
  },
  {
   "cell_type": "code",
   "execution_count": null,
   "metadata": {},
   "outputs": [],
   "source": []
  }
 ],
 "metadata": {
  "kernelspec": {
   "display_name": "Python 3",
   "language": "python",
   "name": "python3"
  },
  "language_info": {
   "codemirror_mode": {
    "name": "ipython",
    "version": 3
   },
   "file_extension": ".py",
   "mimetype": "text/x-python",
   "name": "python",
   "nbconvert_exporter": "python",
   "pygments_lexer": "ipython3",
   "version": "3.6.9"
  }
 },
 "nbformat": 4,
 "nbformat_minor": 2
}
